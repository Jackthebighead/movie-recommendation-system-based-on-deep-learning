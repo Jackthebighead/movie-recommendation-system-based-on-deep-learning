{
 "cells": [
  {
   "cell_type": "markdown",
   "metadata": {},
   "source": [
    "# AE and VAE based Recommendation System\n",
    "``\n",
    "\n",
    "- 本notebook实现了基于rating矩阵的的autoencoder和variational autoencoder，对电影评分矩阵预测，实现推荐。\n",
    "- 数据集使用[`MovieLens1M`](https://grouplens.org/datasets/movielens/)\n",
    "- 运行环境：google colab\n"
   ]
  },
  {
   "cell_type": "code",
   "execution_count": 1,
   "metadata": {
    "colab": {
     "base_uri": "https://localhost:8080/"
    },
    "executionInfo": {
     "elapsed": 1051,
     "status": "ok",
     "timestamp": 1605468883934,
     "user": {
      "displayName": "Yuxin JIANG",
      "photoUrl": "",
      "userId": "08237551511886881536"
     },
     "user_tz": -480
    },
    "id": "DJcL9vud9eD_",
    "outputId": "b0325299-b6e4-4b8c-8155-0e8f6da21b3d"
   },
   "outputs": [
    {
     "name": "stdout",
     "output_type": "stream",
     "text": [
      "Drive already mounted at /content/drive/; to attempt to forcibly remount, call drive.mount(\"/content/drive/\", force_remount=True).\n"
     ]
    }
   ],
   "source": [
    "from google.colab import drive\n",
    "drive.mount('/content/drive/')"
   ]
  },
  {
   "cell_type": "code",
   "execution_count": 2,
   "metadata": {
    "colab": {
     "base_uri": "https://localhost:8080/"
    },
    "executionInfo": {
     "elapsed": 1947,
     "status": "ok",
     "timestamp": 1605468884836,
     "user": {
      "displayName": "Yuxin JIANG",
      "photoUrl": "",
      "userId": "08237551511886881536"
     },
     "user_tz": -480
    },
    "id": "znHh4Yez9rMm",
    "outputId": "34cd31b8-9cd6-4663-b969-6a9814d799e2"
   },
   "outputs": [
    {
     "name": "stdout",
     "output_type": "stream",
     "text": [
      "/content/drive/My Drive/Movie_lens\n"
     ]
    }
   ],
   "source": [
    "%cd './drive/My Drive/Movie_lens/'"
   ]
  },
  {
   "cell_type": "markdown",
   "metadata": {
    "id": "fw7NPdkwJtKA"
   },
   "source": [
    "## **0. 加载包**"
   ]
  },
  {
   "cell_type": "code",
   "execution_count": 3,
   "metadata": {
    "executionInfo": {
     "elapsed": 2423,
     "status": "ok",
     "timestamp": 1605468885318,
     "user": {
      "displayName": "Yuxin JIANG",
      "photoUrl": "",
      "userId": "08237551511886881536"
     },
     "user_tz": -480
    },
    "id": "ndprszpRrTgi"
   },
   "outputs": [],
   "source": [
    "import numpy as np\n",
    "import pandas as pd\n",
    "import torch\n",
    "import torch.nn as nn\n",
    "import torch.optim as optim\n",
    "import torch.nn.functional as F\n",
    "from torch.autograd import Variable\n",
    "from torch.autograd import Variable\n",
    "from torch.utils.data import Dataset, DataLoader, TensorDataset\n",
    "from sklearn.model_selection import train_test_split\n",
    "from operator import itemgetter"
   ]
  },
  {
   "cell_type": "markdown",
   "metadata": {
    "id": "f_Adr_TNGsTI"
   },
   "source": [
    "## **1. Data Preparing**"
   ]
  },
  {
   "cell_type": "markdown",
   "metadata": {
    "id": "dywrS71fIIZf"
   },
   "source": [
    "### 1.1 将评分数据按照80%, 10%, 10%的比例划分为训练集，验证集和测试集"
   ]
  },
  {
   "cell_type": "code",
   "execution_count": 12,
   "metadata": {
    "executionInfo": {
     "elapsed": 7766,
     "status": "ok",
     "timestamp": 1605468990884,
     "user": {
      "displayName": "Yuxin JIANG",
      "photoUrl": "",
      "userId": "08237551511886881536"
     },
     "user_tz": -480
    },
    "id": "5pPrfSml9i1w"
   },
   "outputs": [],
   "source": [
    "ratings_title = ['UserID','MovieID', 'Rating', 'timestamps']\n",
    "ratings = pd.read_csv('./ml-1m/ratings.dat', sep='::', header=None, names=ratings_title, engine = 'python')\n",
    "\n",
    "ratings.sample(frac=1.0)\n",
    "train_set, test_set = train_test_split(ratings,test_size = 0.2)\n",
    "dev_set, test_set = train_test_split(test_set,test_size = 0.5)\n",
    "train_set = np.array(train_set, dtype = 'int')\n",
    "dev_set = np.array(dev_set, dtype = 'int')\n",
    "test_set = np.array(test_set, dtype = 'int')"
   ]
  },
  {
   "cell_type": "code",
   "execution_count": 5,
   "metadata": {
    "colab": {
     "base_uri": "https://localhost:8080/",
     "height": 206
    },
    "executionInfo": {
     "elapsed": 7072,
     "status": "ok",
     "timestamp": 1605468889977,
     "user": {
      "displayName": "Yuxin JIANG",
      "photoUrl": "",
      "userId": "08237551511886881536"
     },
     "user_tz": -480
    },
    "id": "17SrgRlcIVeW",
    "outputId": "78cc3363-fb33-4b70-9713-18770f4f7847"
   },
   "outputs": [
    {
     "data": {
      "text/html": [
       "<div>\n",
       "<style scoped>\n",
       "    .dataframe tbody tr th:only-of-type {\n",
       "        vertical-align: middle;\n",
       "    }\n",
       "\n",
       "    .dataframe tbody tr th {\n",
       "        vertical-align: top;\n",
       "    }\n",
       "\n",
       "    .dataframe thead th {\n",
       "        text-align: right;\n",
       "    }\n",
       "</style>\n",
       "<table border=\"1\" class=\"dataframe\">\n",
       "  <thead>\n",
       "    <tr style=\"text-align: right;\">\n",
       "      <th></th>\n",
       "      <th>UserID</th>\n",
       "      <th>MovieID</th>\n",
       "      <th>Rating</th>\n",
       "      <th>timestamps</th>\n",
       "    </tr>\n",
       "  </thead>\n",
       "  <tbody>\n",
       "    <tr>\n",
       "      <th>0</th>\n",
       "      <td>1</td>\n",
       "      <td>1193</td>\n",
       "      <td>5</td>\n",
       "      <td>978300760</td>\n",
       "    </tr>\n",
       "    <tr>\n",
       "      <th>1</th>\n",
       "      <td>1</td>\n",
       "      <td>661</td>\n",
       "      <td>3</td>\n",
       "      <td>978302109</td>\n",
       "    </tr>\n",
       "    <tr>\n",
       "      <th>2</th>\n",
       "      <td>1</td>\n",
       "      <td>914</td>\n",
       "      <td>3</td>\n",
       "      <td>978301968</td>\n",
       "    </tr>\n",
       "    <tr>\n",
       "      <th>3</th>\n",
       "      <td>1</td>\n",
       "      <td>3408</td>\n",
       "      <td>4</td>\n",
       "      <td>978300275</td>\n",
       "    </tr>\n",
       "    <tr>\n",
       "      <th>4</th>\n",
       "      <td>1</td>\n",
       "      <td>2355</td>\n",
       "      <td>5</td>\n",
       "      <td>978824291</td>\n",
       "    </tr>\n",
       "  </tbody>\n",
       "</table>\n",
       "</div>"
      ],
      "text/plain": [
       "   UserID  MovieID  Rating  timestamps\n",
       "0       1     1193       5   978300760\n",
       "1       1      661       3   978302109\n",
       "2       1      914       3   978301968\n",
       "3       1     3408       4   978300275\n",
       "4       1     2355       5   978824291"
      ]
     },
     "execution_count": 5,
     "metadata": {
      "tags": []
     },
     "output_type": "execute_result"
    }
   ],
   "source": [
    "ratings.head()"
   ]
  },
  {
   "cell_type": "code",
   "execution_count": 6,
   "metadata": {
    "colab": {
     "base_uri": "https://localhost:8080/"
    },
    "executionInfo": {
     "elapsed": 7070,
     "status": "ok",
     "timestamp": 1605468889979,
     "user": {
      "displayName": "Yuxin JIANG",
      "photoUrl": "",
      "userId": "08237551511886881536"
     },
     "user_tz": -480
    },
    "id": "qvwIHbpLHhuL",
    "outputId": "cf79bc2b-ffb9-42b0-9142-b40db8f777f0"
   },
   "outputs": [
    {
     "name": "stdout",
     "output_type": "stream",
     "text": [
      "(800167, 4)\n",
      "(100021, 4)\n",
      "(100021, 4)\n"
     ]
    }
   ],
   "source": [
    "print(train_set.shape)\n",
    "print(dev_set.shape)\n",
    "print(test_set.shape)"
   ]
  },
  {
   "cell_type": "markdown",
   "metadata": {
    "id": "nI0ZtxKwIYJX"
   },
   "source": [
    "### 1.2 将数据转化成（[ [用户1对所有电影的评分], [用户2对所有电影的评分] ...]，并把用户未打分的电影的评分设为0\n"
   ]
  },
  {
   "cell_type": "code",
   "execution_count": 13,
   "metadata": {
    "executionInfo": {
     "elapsed": 12839,
     "status": "ok",
     "timestamp": 1605469006329,
     "user": {
      "displayName": "Yuxin JIANG",
      "photoUrl": "",
      "userId": "08237551511886881536"
     },
     "user_tz": -480
    },
    "id": "wG3ke3SbAJJk"
   },
   "outputs": [],
   "source": [
    "nb_users = int(max(max(train_set[:,0]), max(dev_set[:,0]), max(test_set[:,0])))\n",
    "nb_movies = int(max(max(train_set[:,1]), max(dev_set[:,1]), max(test_set[:,1])))\n",
    "\n",
    "# 对rating数据的用户，用户看过的电影，用户对看过电影的打分进行组合，返回的array的shape为(user_id,movie_id)内容为ratings\n",
    "def convert(data):\n",
    "    new_data = []\n",
    "    #匹配相对应的 local data里面 user与movie相匹配，若user没有评价过该movie，then mark ‘0’\n",
    "    for id_users in range(1, nb_users + 1):\n",
    "        #create 第一层list，id_movies为某user看过的movie的id\n",
    "        id_movies = data[:,1][data[:,0] == id_users]\n",
    "        #id_ratings为某user评价过某movie的rate\n",
    "        id_ratings = data[:,2][data[:,0] == id_users]\n",
    "        #首先创建全部为0的list，再将user 评价movie的rating分数替换0，那么就能mark user没看过的movie为0\n",
    "        ratings = np.zeros(nb_movies)\n",
    "        #由于movieID由1开始，而python由0开始，因此要rating匹配python则-1\n",
    "        ratings[id_movies - 1] = id_ratings\n",
    "        #将以上创建的list合并到一个list，以被torch提取\n",
    "        new_data.append(list(ratings))\n",
    "    return new_data\n",
    "    \n",
    "train_set = convert(train_set)\n",
    "dev_set = convert(dev_set)\n",
    "test_set = convert(test_set)"
   ]
  },
  {
   "cell_type": "markdown",
   "metadata": {
    "id": "LNs_PpoSH3OY"
   },
   "source": [
    "### 1.3 数据载入pytorch自带的DataLoader\n",
    "- 简化预处理：删除了没有给任何电影评分的用户，我们认为这类数据是无意义的"
   ]
  },
  {
   "cell_type": "code",
   "execution_count": 15,
   "metadata": {
    "executionInfo": {
     "elapsed": 3080,
     "status": "ok",
     "timestamp": 1605469037387,
     "user": {
      "displayName": "Yuxin JIANG",
      "photoUrl": "",
      "userId": "08237551511886881536"
     },
     "user_tz": -480
    },
    "id": "L8WNeUI3ASnK"
   },
   "outputs": [],
   "source": [
    "train_set = torch.FloatTensor(train_set)\n",
    "train_set = train_set[torch.sum(train_set!=0,axis=1)!=0] # 删除评分全为0的行\n",
    "dev_set = torch.FloatTensor(dev_set)\n",
    "dev_set = dev_set[torch.sum(dev_set!=0,axis=1)!=0] # 删除评分全为0的行\n",
    "test_set = torch.FloatTensor(test_set)\n",
    "test_set = test_set[torch.sum(test_set!=0,axis=1)!=0] # 删除评分全为0的行\n",
    "\n",
    "train_dataset = TensorDataset(train_set)\n",
    "dev_dataset = TensorDataset(dev_set)\n",
    "test_dataset = TensorDataset(test_set)\n",
    "\n",
    "train_loader = DataLoader(dataset = train_dataset, batch_size = 16, shuffle = True)\n",
    "dev_loader = DataLoader(dataset = dev_dataset, batch_size = 16, shuffle = False)\n",
    "test_loader = DataLoader(dataset = test_dataset, batch_size = 16, shuffle = False)"
   ]
  },
  {
   "cell_type": "markdown",
   "metadata": {
    "id": "6tJCUIK0Ikv9"
   },
   "source": [
    "## **2. Auto Encoder**"
   ]
  },
  {
   "cell_type": "markdown",
   "metadata": {
    "id": "HUqUdgN0PC0o"
   },
   "source": [
    "### 2.1 定义模型和损失函数\n",
    "\n",
    "- 对于用户没有评分的电影我们不纳入目标函数，因此损失函数设计的时候只考虑对用户参与评分的电影做MSE损失，避免模型将未评分电影预测评分影响损失。\n",
    "- 在训练时，计算损失之前，需要人为将未评分电影设为0"
   ]
  },
  {
   "cell_type": "code",
   "execution_count": 10,
   "metadata": {
    "executionInfo": {
     "elapsed": 1352,
     "status": "ok",
     "timestamp": 1605468943936,
     "user": {
      "displayName": "Yuxin JIANG",
      "photoUrl": "",
      "userId": "08237551511886881536"
     },
     "user_tz": -480
    },
    "id": "J9A3zguDIsE3"
   },
   "outputs": [],
   "source": [
    "class AE(nn.Module):\n",
    "  \"\"\"\n",
    "  Auto Encoder(AE)最初用于学习数据的表示(编码)。其可被分解为两部分:\n",
    "\n",
    "  encoder：减少了数据的维度大小;\n",
    "  decoder：它将编码转换回其原始形式。由于存在降维，神经网络需要学习输入(潜在空间)的低维表示，以便能够重构输入。\n",
    "\n",
    "  它们可以用来预测新的推荐。为了做到这一点，输入和输出都是点击向量(通常AE的输入和输出是相同的)，我们将在输入层之后使用大的dropout。\n",
    "  这意味着模型将不得不重构点击向量，因为输入中的某个元素将会丢失，因此要学会预测给定的点击向量的推荐值。\n",
    "  \"\"\"\n",
    "  def __init__(self, nb_movies, device=\"cuda:0\"):\n",
    "    super(AE, self).__init__()\n",
    "    self.nb_movies = nb_movies\n",
    "    self.encoder = nn.Sequential(\n",
    "        nn.Linear(self.nb_movies, 512),\n",
    "        nn.Sigmoid(),\n",
    "        nn.Dropout(0.9), # 这里需要一个大的dropout\n",
    "        nn.Linear(512, 80),\n",
    "        nn.Sigmoid(),\n",
    "        nn.Linear(80, 32),\n",
    "        nn.Sigmoid()\n",
    "        )\n",
    "    self.decoder = nn.Sequential(\n",
    "        nn.Linear(32, 80),\n",
    "        nn.Sigmoid(),\n",
    "        nn.Linear(80, 512),\n",
    "        nn.Sigmoid(),\n",
    "        nn.Linear(512, self.nb_movies)\n",
    "        )\n",
    "\n",
    "  def forward(self, x):\n",
    "    x = self.encoder(x)\n",
    "    x = self.decoder(x)\n",
    "    return x\n",
    "\n",
    "def loss_func(recon_x, x):\n",
    "  \"\"\"\n",
    "  对于一个用户而言，他只对部分电影进行了打分，因此在计算MSE时，只考虑他打过分的电影，而忽略他没打过分的电影\n",
    "  这里MSE的计算原理是，例如2个用户对5个电影的打分数据为：[[1, 2, 0, 3, 4], [2, 3, 0, 0, 1]]\n",
    "  经过AE重构后的打分数据为：[[1.1, 2.3, 0, 3.3, 4.7], [2.1, 3.2, 0, 0, 1.2]]\n",
    "  则先计算两打分数据的2范数的平方，再除以每个用户打过分的电影数，得到每个用户的MSE，再用torch.mean求平均得到每个batch的MSE\n",
    "  \"\"\"\n",
    "  MSE = torch.mean(torch.norm((x - recon_x), p=2, dim=1, keepdim=False)**2/torch.sum(recon_x!=0,axis=1))\n",
    "  return MSE"
   ]
  },
  {
   "cell_type": "markdown",
   "metadata": {
    "id": "t3tz3gEIPKON"
   },
   "source": [
    "### 2.2 定义训练，验证和测试函数"
   ]
  },
  {
   "cell_type": "code",
   "execution_count": 23,
   "metadata": {
    "colab": {
     "base_uri": "https://localhost:8080/"
    },
    "executionInfo": {
     "elapsed": 384823,
     "status": "ok",
     "timestamp": 1605470100696,
     "user": {
      "displayName": "Yuxin JIANG",
      "photoUrl": "",
      "userId": "08237551511886881536"
     },
     "user_tz": -480
    },
    "id": "WOqhTH7AIssW",
    "outputId": "401a2f39-803e-43c0-f8e2-84fd70f7d5a4"
   },
   "outputs": [
    {
     "name": "stdout",
     "output_type": "stream",
     "text": [
      "\n",
      " ==================== Training Auto Encoder on device: cuda:0 ====================\n",
      "====> Epoch: 1 Training Average loss: 3.8287, Validating Average loss: 1.0679\n",
      "====> Epoch: 2 Training Average loss: 1.0207, Validating Average loss: 1.0108\n",
      "====> Epoch: 3 Training Average loss: 0.9985, Validating Average loss: 1.0099\n",
      "====> Epoch: 4 Training Average loss: 0.9965, Validating Average loss: 1.0129\n",
      "====> Epoch: 5 Training Average loss: 0.9960, Validating Average loss: 1.0109\n",
      "====> Epoch: 6 Training Average loss: 0.9957, Validating Average loss: 1.0121\n",
      "====> Epoch: 7 Training Average loss: 0.9961, Validating Average loss: 1.0124\n",
      "====> Epoch: 8 Training Average loss: 0.9954, Validating Average loss: 1.0130\n",
      "====> Epoch: 9 Training Average loss: 0.9946, Validating Average loss: 1.0126\n",
      "====> Epoch: 10 Training Average loss: 0.9934, Validating Average loss: 1.0098\n",
      "====> Epoch: 11 Training Average loss: 0.9924, Validating Average loss: 1.0138\n",
      "====> Epoch: 12 Training Average loss: 0.9907, Validating Average loss: 1.0138\n",
      "====> Epoch: 13 Training Average loss: 0.9891, Validating Average loss: 1.0145\n",
      "====> Epoch: 14 Training Average loss: 0.9881, Validating Average loss: 1.0112\n",
      "====> Epoch: 15 Training Average loss: 0.9853, Validating Average loss: 1.0136\n",
      "====> Epoch: 16 Training Average loss: 0.9838, Validating Average loss: 1.0123\n",
      "====> Epoch: 17 Training Average loss: 0.9815, Validating Average loss: 1.0161\n",
      "====> Epoch: 18 Training Average loss: 0.9807, Validating Average loss: 1.0107\n",
      "====> Epoch: 19 Training Average loss: 0.9779, Validating Average loss: 1.0197\n",
      "====> Epoch: 20 Training Average loss: 0.9758, Validating Average loss: 1.0120\n",
      "====> Epoch: 21 Training Average loss: 0.9732, Validating Average loss: 1.0168\n",
      "====> Epoch: 22 Training Average loss: 0.9729, Validating Average loss: 1.0215\n",
      "====> Epoch: 23 Training Average loss: 0.9700, Validating Average loss: 1.0179\n",
      "====> Epoch: 24 Training Average loss: 0.9697, Validating Average loss: 1.0241\n",
      "====> Epoch: 25 Training Average loss: 0.9677, Validating Average loss: 1.0191\n",
      "====> Epoch: 26 Training Average loss: 0.9661, Validating Average loss: 1.0284\n",
      "====> Epoch: 27 Training Average loss: 0.9657, Validating Average loss: 1.0189\n",
      "====> Epoch: 28 Training Average loss: 0.9656, Validating Average loss: 1.0225\n",
      "====> Epoch: 29 Training Average loss: 0.9624, Validating Average loss: 1.0258\n",
      "====> Epoch: 30 Training Average loss: 0.9616, Validating Average loss: 1.0197\n",
      "====> Epoch: 31 Training Average loss: 0.9617, Validating Average loss: 1.0252\n",
      "====> Epoch: 32 Training Average loss: 0.9599, Validating Average loss: 1.0232\n",
      "====> Epoch: 33 Training Average loss: 0.9577, Validating Average loss: 1.0288\n",
      "====> Epoch: 34 Training Average loss: 0.9570, Validating Average loss: 1.0198\n",
      "====> Epoch: 35 Training Average loss: 0.9563, Validating Average loss: 1.0388\n",
      "====> Epoch: 36 Training Average loss: 0.9554, Validating Average loss: 1.0252\n",
      "====> Epoch: 37 Training Average loss: 0.9548, Validating Average loss: 1.0257\n",
      "====> Epoch: 38 Training Average loss: 0.9514, Validating Average loss: 1.0248\n",
      "====> Epoch: 39 Training Average loss: 0.9502, Validating Average loss: 1.0331\n",
      "====> Epoch: 40 Training Average loss: 0.9502, Validating Average loss: 1.0305\n",
      "====> Epoch: 41 Training Average loss: 0.9492, Validating Average loss: 1.0368\n",
      "====> Epoch: 42 Training Average loss: 0.9470, Validating Average loss: 1.0314\n",
      "====> Epoch: 43 Training Average loss: 0.9465, Validating Average loss: 1.0357\n",
      "====> Epoch: 44 Training Average loss: 0.9449, Validating Average loss: 1.0312\n",
      "====> Epoch: 45 Training Average loss: 0.9421, Validating Average loss: 1.0346\n",
      "====> Epoch: 46 Training Average loss: 0.9411, Validating Average loss: 1.0322\n",
      "====> Epoch: 47 Training Average loss: 0.9397, Validating Average loss: 1.0309\n",
      "====> Epoch: 48 Training Average loss: 0.9385, Validating Average loss: 1.0283\n",
      "====> Epoch: 49 Training Average loss: 0.9361, Validating Average loss: 1.0344\n",
      "====> Epoch: 50 Training Average loss: 0.9330, Validating Average loss: 1.0343\n",
      "====> Epoch: 51 Training Average loss: 0.9313, Validating Average loss: 1.0379\n",
      "====> Epoch: 52 Training Average loss: 0.9316, Validating Average loss: 1.0494\n",
      "====> Epoch: 53 Training Average loss: 0.9294, Validating Average loss: 1.0467\n",
      "====> Epoch: 54 Training Average loss: 0.9288, Validating Average loss: 1.0483\n",
      "====> Epoch: 55 Training Average loss: 0.9274, Validating Average loss: 1.0404\n",
      "====> Epoch: 56 Training Average loss: 0.9243, Validating Average loss: 1.0409\n",
      "====> Epoch: 57 Training Average loss: 0.9257, Validating Average loss: 1.0360\n",
      "====> Epoch: 58 Training Average loss: 0.9223, Validating Average loss: 1.0446\n",
      "====> Epoch: 59 Training Average loss: 0.9221, Validating Average loss: 1.0428\n",
      "====> Epoch: 60 Training Average loss: 0.9213, Validating Average loss: 1.0405\n",
      "====> Epoch: 61 Training Average loss: 0.9203, Validating Average loss: 1.0428\n",
      "====> Epoch: 62 Training Average loss: 0.9184, Validating Average loss: 1.0462\n",
      "====> Epoch: 63 Training Average loss: 0.9172, Validating Average loss: 1.0450\n",
      "====> Epoch: 64 Training Average loss: 0.9158, Validating Average loss: 1.0437\n",
      "====> Epoch: 65 Training Average loss: 0.9147, Validating Average loss: 1.0403\n",
      "====> Epoch: 66 Training Average loss: 0.9165, Validating Average loss: 1.0472\n",
      "====> Epoch: 67 Training Average loss: 0.9144, Validating Average loss: 1.0447\n",
      "====> Epoch: 68 Training Average loss: 0.9122, Validating Average loss: 1.0444\n",
      "====> Epoch: 69 Training Average loss: 0.9112, Validating Average loss: 1.0475\n",
      "====> Epoch: 70 Training Average loss: 0.9115, Validating Average loss: 1.0489\n",
      "====> Epoch: 71 Training Average loss: 0.9108, Validating Average loss: 1.0459\n",
      "====> Epoch: 72 Training Average loss: 0.9080, Validating Average loss: 1.0443\n",
      "====> Epoch: 73 Training Average loss: 0.9080, Validating Average loss: 1.0424\n",
      "====> Epoch: 74 Training Average loss: 0.9094, Validating Average loss: 1.0427\n",
      "====> Epoch: 75 Training Average loss: 0.9073, Validating Average loss: 1.0391\n",
      "====> Epoch: 76 Training Average loss: 0.9071, Validating Average loss: 1.0383\n",
      "====> Epoch: 77 Training Average loss: 0.9071, Validating Average loss: 1.0356\n",
      "====> Epoch: 78 Training Average loss: 0.9050, Validating Average loss: 1.0445\n",
      "====> Epoch: 79 Training Average loss: 0.9051, Validating Average loss: 1.0471\n",
      "====> Epoch: 80 Training Average loss: 0.9029, Validating Average loss: 1.0390\n",
      "====> Epoch: 81 Training Average loss: 0.9036, Validating Average loss: 1.0453\n",
      "====> Epoch: 82 Training Average loss: 0.9017, Validating Average loss: 1.0452\n",
      "====> Epoch: 83 Training Average loss: 0.9016, Validating Average loss: 1.0407\n",
      "====> Epoch: 84 Training Average loss: 0.9006, Validating Average loss: 1.0398\n",
      "====> Epoch: 85 Training Average loss: 0.9000, Validating Average loss: 1.0466\n",
      "====> Epoch: 86 Training Average loss: 0.9012, Validating Average loss: 1.0414\n",
      "====> Epoch: 87 Training Average loss: 0.8979, Validating Average loss: 1.0505\n",
      "====> Epoch: 88 Training Average loss: 0.8980, Validating Average loss: 1.0517\n",
      "====> Epoch: 89 Training Average loss: 0.8973, Validating Average loss: 1.0487\n",
      "====> Epoch: 90 Training Average loss: 0.8950, Validating Average loss: 1.0506\n",
      "====> Epoch: 91 Training Average loss: 0.8953, Validating Average loss: 1.0508\n",
      "====> Epoch: 92 Training Average loss: 0.8959, Validating Average loss: 1.0457\n",
      "====> Epoch: 93 Training Average loss: 0.8949, Validating Average loss: 1.0484\n",
      "====> Epoch: 94 Training Average loss: 0.8941, Validating Average loss: 1.0453\n",
      "====> Epoch: 95 Training Average loss: 0.8935, Validating Average loss: 1.0430\n",
      "====> Epoch: 96 Training Average loss: 0.8921, Validating Average loss: 1.0497\n",
      "====> Epoch: 97 Training Average loss: 0.8924, Validating Average loss: 1.0508\n",
      "====> Epoch: 98 Training Average loss: 0.8918, Validating Average loss: 1.0487\n",
      "====> Epoch: 99 Training Average loss: 0.8911, Validating Average loss: 1.0488\n",
      "====> Epoch: 100 Training Average loss: 0.8900, Validating Average loss: 1.0429\n",
      "====> Epoch: 101 Training Average loss: 0.8903, Validating Average loss: 1.0504\n",
      "====> Epoch: 102 Training Average loss: 0.8879, Validating Average loss: 1.0543\n",
      "====> Epoch: 103 Training Average loss: 0.8899, Validating Average loss: 1.0510\n",
      "====> Epoch: 104 Training Average loss: 0.8884, Validating Average loss: 1.0538\n",
      "====> Epoch: 105 Training Average loss: 0.8868, Validating Average loss: 1.0498\n",
      "====> Epoch: 106 Training Average loss: 0.8865, Validating Average loss: 1.0534\n",
      "====> Epoch: 107 Training Average loss: 0.8845, Validating Average loss: 1.0568\n",
      "====> Epoch: 108 Training Average loss: 0.8851, Validating Average loss: 1.0552\n",
      "====> Epoch: 109 Training Average loss: 0.8849, Validating Average loss: 1.0528\n",
      "====> Epoch: 110 Training Average loss: 0.8853, Validating Average loss: 1.0579\n",
      "====> Epoch: 111 Training Average loss: 0.8816, Validating Average loss: 1.0621\n",
      "====> Epoch: 112 Training Average loss: 0.8844, Validating Average loss: 1.0624\n",
      "====> Epoch: 113 Training Average loss: 0.8817, Validating Average loss: 1.0542\n",
      "====> Epoch: 114 Training Average loss: 0.8832, Validating Average loss: 1.0588\n",
      "====> Epoch: 115 Training Average loss: 0.8814, Validating Average loss: 1.0536\n",
      "====> Epoch: 116 Training Average loss: 0.8801, Validating Average loss: 1.0671\n",
      "====> Epoch: 117 Training Average loss: 0.8801, Validating Average loss: 1.0579\n",
      "====> Epoch: 118 Training Average loss: 0.8800, Validating Average loss: 1.0584\n",
      "====> Epoch: 119 Training Average loss: 0.8778, Validating Average loss: 1.0629\n",
      "====> Epoch: 120 Training Average loss: 0.8802, Validating Average loss: 1.0596\n",
      "====> Epoch: 121 Training Average loss: 0.8764, Validating Average loss: 1.0680\n",
      "====> Epoch: 122 Training Average loss: 0.8772, Validating Average loss: 1.0656\n",
      "====> Epoch: 123 Training Average loss: 0.8762, Validating Average loss: 1.0651\n",
      "====> Epoch: 124 Training Average loss: 0.8775, Validating Average loss: 1.0640\n",
      "====> Epoch: 125 Training Average loss: 0.8752, Validating Average loss: 1.0657\n",
      "====> Epoch: 126 Training Average loss: 0.8756, Validating Average loss: 1.0691\n",
      "====> Epoch: 127 Training Average loss: 0.8749, Validating Average loss: 1.0717\n",
      "====> Epoch: 128 Training Average loss: 0.8737, Validating Average loss: 1.0688\n",
      "====> Epoch: 129 Training Average loss: 0.8726, Validating Average loss: 1.0711\n",
      "====> Epoch: 130 Training Average loss: 0.8728, Validating Average loss: 1.0727\n",
      "====> Epoch: 131 Training Average loss: 0.8710, Validating Average loss: 1.0755\n",
      "====> Epoch: 132 Training Average loss: 0.8700, Validating Average loss: 1.0651\n",
      "====> Epoch: 133 Training Average loss: 0.8698, Validating Average loss: 1.0670\n",
      "====> Epoch: 134 Training Average loss: 0.8674, Validating Average loss: 1.0675\n",
      "====> Epoch: 135 Training Average loss: 0.8669, Validating Average loss: 1.0797\n",
      "====> Epoch: 136 Training Average loss: 0.8676, Validating Average loss: 1.0731\n",
      "====> Epoch: 137 Training Average loss: 0.8650, Validating Average loss: 1.0679\n",
      "====> Epoch: 138 Training Average loss: 0.8638, Validating Average loss: 1.0674\n",
      "====> Epoch: 139 Training Average loss: 0.8640, Validating Average loss: 1.0687\n",
      "====> Epoch: 140 Training Average loss: 0.8610, Validating Average loss: 1.0856\n",
      "====> Epoch: 141 Training Average loss: 0.8606, Validating Average loss: 1.0728\n",
      "====> Epoch: 142 Training Average loss: 0.8606, Validating Average loss: 1.0739\n",
      "====> Epoch: 143 Training Average loss: 0.8584, Validating Average loss: 1.0721\n",
      "====> Epoch: 144 Training Average loss: 0.8591, Validating Average loss: 1.0855\n",
      "====> Epoch: 145 Training Average loss: 0.8572, Validating Average loss: 1.0783\n",
      "====> Epoch: 146 Training Average loss: 0.8564, Validating Average loss: 1.0699\n",
      "====> Epoch: 147 Training Average loss: 0.8552, Validating Average loss: 1.0783\n",
      "====> Epoch: 148 Training Average loss: 0.8545, Validating Average loss: 1.0747\n",
      "====> Epoch: 149 Training Average loss: 0.8545, Validating Average loss: 1.0813\n",
      "====> Epoch: 150 Training Average loss: 0.8514, Validating Average loss: 1.0839\n",
      "====> Epoch: 151 Training Average loss: 0.8521, Validating Average loss: 1.0797\n",
      "====> Epoch: 152 Training Average loss: 0.8515, Validating Average loss: 1.0765\n",
      "====> Epoch: 153 Training Average loss: 0.8490, Validating Average loss: 1.0732\n",
      "====> Epoch: 154 Training Average loss: 0.8479, Validating Average loss: 1.0838\n",
      "====> Epoch: 155 Training Average loss: 0.8505, Validating Average loss: 1.0708\n",
      "====> Epoch: 156 Training Average loss: 0.8488, Validating Average loss: 1.0773\n",
      "====> Epoch: 157 Training Average loss: 0.8466, Validating Average loss: 1.0848\n",
      "====> Epoch: 158 Training Average loss: 0.8469, Validating Average loss: 1.0822\n",
      "====> Epoch: 159 Training Average loss: 0.8458, Validating Average loss: 1.0795\n",
      "====> Epoch: 160 Training Average loss: 0.8466, Validating Average loss: 1.0759\n",
      "====> Epoch: 161 Training Average loss: 0.8432, Validating Average loss: 1.0793\n",
      "====> Epoch: 162 Training Average loss: 0.8430, Validating Average loss: 1.0851\n",
      "====> Epoch: 163 Training Average loss: 0.8430, Validating Average loss: 1.0932\n",
      "====> Epoch: 164 Training Average loss: 0.8423, Validating Average loss: 1.0892\n",
      "====> Epoch: 165 Training Average loss: 0.8422, Validating Average loss: 1.0878\n",
      "====> Epoch: 166 Training Average loss: 0.8420, Validating Average loss: 1.0805\n",
      "====> Epoch: 167 Training Average loss: 0.8406, Validating Average loss: 1.0844\n",
      "====> Epoch: 168 Training Average loss: 0.8384, Validating Average loss: 1.0801\n",
      "====> Epoch: 169 Training Average loss: 0.8373, Validating Average loss: 1.0882\n",
      "====> Epoch: 170 Training Average loss: 0.8385, Validating Average loss: 1.0817\n",
      "====> Epoch: 171 Training Average loss: 0.8368, Validating Average loss: 1.0780\n",
      "====> Epoch: 172 Training Average loss: 0.8349, Validating Average loss: 1.0856\n",
      "====> Epoch: 173 Training Average loss: 0.8361, Validating Average loss: 1.0778\n",
      "====> Epoch: 174 Training Average loss: 0.8337, Validating Average loss: 1.0881\n",
      "====> Epoch: 175 Training Average loss: 0.8340, Validating Average loss: 1.0947\n",
      "====> Epoch: 176 Training Average loss: 0.8355, Validating Average loss: 1.0801\n",
      "====> Epoch: 177 Training Average loss: 0.8316, Validating Average loss: 1.0809\n",
      "====> Epoch: 178 Training Average loss: 0.8325, Validating Average loss: 1.0858\n",
      "====> Epoch: 179 Training Average loss: 0.8322, Validating Average loss: 1.0913\n",
      "====> Epoch: 180 Training Average loss: 0.8310, Validating Average loss: 1.0820\n",
      "====> Epoch: 181 Training Average loss: 0.8284, Validating Average loss: 1.0944\n",
      "====> Epoch: 182 Training Average loss: 0.8292, Validating Average loss: 1.0845\n",
      "====> Epoch: 183 Training Average loss: 0.8292, Validating Average loss: 1.0940\n",
      "====> Epoch: 184 Training Average loss: 0.8274, Validating Average loss: 1.0808\n",
      "====> Epoch: 185 Training Average loss: 0.8285, Validating Average loss: 1.0843\n",
      "====> Epoch: 186 Training Average loss: 0.8252, Validating Average loss: 1.0898\n",
      "====> Epoch: 187 Training Average loss: 0.8269, Validating Average loss: 1.1029\n",
      "====> Epoch: 188 Training Average loss: 0.8260, Validating Average loss: 1.0856\n",
      "====> Epoch: 189 Training Average loss: 0.8266, Validating Average loss: 1.0854\n",
      "====> Epoch: 190 Training Average loss: 0.8248, Validating Average loss: 1.0832\n",
      "====> Epoch: 191 Training Average loss: 0.8239, Validating Average loss: 1.0987\n",
      "====> Epoch: 192 Training Average loss: 0.8221, Validating Average loss: 1.0865\n",
      "====> Epoch: 193 Training Average loss: 0.8223, Validating Average loss: 1.0863\n",
      "====> Epoch: 194 Training Average loss: 0.8210, Validating Average loss: 1.0831\n",
      "====> Epoch: 195 Training Average loss: 0.8204, Validating Average loss: 1.0938\n",
      "====> Epoch: 196 Training Average loss: 0.8213, Validating Average loss: 1.0905\n",
      "====> Epoch: 197 Training Average loss: 0.8184, Validating Average loss: 1.0970\n",
      "====> Epoch: 198 Training Average loss: 0.8188, Validating Average loss: 1.0919\n",
      "====> Epoch: 199 Training Average loss: 0.8186, Validating Average loss: 1.1003\n",
      "====> Epoch: 200 Training Average loss: 0.8185, Validating Average loss: 1.0938\n",
      "\n",
      " ==================== Testing Auto Encoder on device: cuda:0 ====================\n",
      "Average test loss: 1.0837\n"
     ]
    }
   ],
   "source": [
    "def train(train_loader, dev_loader=None, is_validate=True, device=\"cuda:0\"):\n",
    "  ae.train()\n",
    "  total_loss = 0\n",
    "  for _, data in enumerate(train_loader, 0):\n",
    "    data = Variable(data[0]).to(device)\n",
    "    target = data.clone()\n",
    "    optimizer.zero_grad()\n",
    "    recon_x = ae.forward(data)\n",
    "    # 在优化过程中，我们只想考虑用户打过分的电影，\n",
    "    # 虽然我们之前将用户未打分的电影的评分设为0，但是我们还需要将模型预测的用户未打分的电影的评分也设为0，\n",
    "    # 这样才不会累加到loss里导致影响了权重更新\n",
    "    recon_x[target == 0] = 0 \n",
    "    loss = loss_func(recon_x, data)\n",
    "    loss.backward()\n",
    "    total_loss += loss.item()\n",
    "    optimizer.step()\n",
    "    epoch_train_loss = total_loss / len(train_loader)\n",
    "\n",
    "  if (is_validate == True):\n",
    "    ae.eval()\n",
    "    total_loss = 0\n",
    "    with torch.no_grad():\n",
    "      for _, data in enumerate(dev_loader, 0):\n",
    "        data = Variable(data[0]).to(device)\n",
    "        target = data.clone()\n",
    "        recon_x = ae.forward(data)\n",
    "        recon_x[target == 0] = 0\n",
    "        loss = loss_func(recon_x, data)\n",
    "        total_loss += loss.item()\n",
    "        epoch_dev_loss = total_loss / len(dev_loader)\n",
    "    print('====> Epoch: {} Training Average loss: {:.4f}, Validating Average loss: {:.4f}'.format(epoch, epoch_train_loss, epoch_dev_loss))\n",
    "    return epoch_train_loss, epoch_dev_loss\n",
    "\n",
    "  else:\n",
    "    print('====> Epoch: {} Training Average loss: {:.4f}'.format(epoch, epoch_train_loss))\n",
    "    return epoch_train_loss\n",
    "\n",
    "def test(test_loader, device=\"cuda:0\"):\n",
    "  ae.eval()\n",
    "  total_loss = 0\n",
    "  with torch.no_grad():\n",
    "    for _, data in enumerate(test_loader, 0):\n",
    "      data = Variable(data[0]).to(device)\n",
    "      target = data.clone()\n",
    "      recon_x = ae.forward(data)\n",
    "      recon_x[target == 0] = 0\n",
    "      loss = loss_func(recon_x, data)\n",
    "      total_loss += loss.item()\n",
    "  print('Average test loss: {:.4f}'.format(total_loss / len(test_loader)))\n",
    "\n",
    "if __name__ == \"__main__\":\n",
    "  device = torch.device(\"cuda:0\" if torch.cuda.is_available() else \"cpu\")\n",
    "  ae = AE(nb_movies = nb_movies).to(device)\n",
    "  optimizer =  optim.Adam(ae.parameters(), lr=1e-4, betas=(0.9, 0.999), eps=1e-08, weight_decay=0)\n",
    "  EPOCH = 200\n",
    "  epoches_train_loss = []\n",
    "  epoches_dev_loss = []\n",
    "\n",
    "  print(\"\\n\", 20 * \"=\", \"Training Auto Encoder on device: {}\".format(device), 20 * \"=\")\n",
    "  for epoch in range(1, EPOCH + 1):\n",
    "    epoch_train_loss, epoch_dev_loss = train(train_loader, dev_loader = dev_loader)\n",
    "    epoches_train_loss.append(epoch_train_loss)\n",
    "    epoches_dev_loss.append(epoch_dev_loss)\n",
    "  print(\"\\n\", 20 * \"=\", \"Testing Auto Encoder on device: {}\".format(device), 20 * \"=\")\n",
    "  test(test_loader)"
   ]
  },
  {
   "cell_type": "markdown",
   "metadata": {
    "id": "mXU81_oWRz3S"
   },
   "source": [
    "### 2.3 保存与加载模型"
   ]
  },
  {
   "cell_type": "code",
   "execution_count": null,
   "metadata": {
    "id": "87X-Lh5RRwNz"
   },
   "outputs": [],
   "source": [
    "# save the training model\n",
    "torch.save(ae.state_dict(), 'AutoEncoder.pkl')\n",
    "\n",
    "# load the trained model\n",
    "ae = torch.load('AutoEncoder.pkl')"
   ]
  },
  {
   "cell_type": "markdown",
   "metadata": {
    "id": "4-6IRUWzP0Wd"
   },
   "source": [
    "### 2.4 画图展示训练和验证过程中的loss变化情况：可以发现验证集的loss出现了先下降后微升的情况，考虑是模型过拟合+泛化能力差"
   ]
  },
  {
   "cell_type": "code",
   "execution_count": 24,
   "metadata": {
    "colab": {
     "base_uri": "https://localhost:8080/",
     "height": 515
    },
    "executionInfo": {
     "elapsed": 1547,
     "status": "ok",
     "timestamp": 1605470312644,
     "user": {
      "displayName": "Yuxin JIANG",
      "photoUrl": "",
      "userId": "08237551511886881536"
     },
     "user_tz": -480
    },
    "id": "SORypM92IsnS",
    "outputId": "a146157e-ecfa-46eb-ba2a-29d5528ee693"
   },
   "outputs": [
    {
     "data": {
      "text/plain": [
       "<matplotlib.legend.Legend at 0x7f59a44fbda0>"
      ]
     },
     "execution_count": 24,
     "metadata": {
      "tags": []
     },
     "output_type": "execute_result"
    },
    {
     "data": {
      "image/png": "[encoded data removed]",
      "text/plain": [
       "<Figure size 864x576 with 1 Axes>"
      ]
     },
     "metadata": {
      "needs_background": "light",
      "tags": []
     },
     "output_type": "display_data"
    }
   ],
   "source": [
    "import matplotlib.pyplot as plt\n",
    "plt.figure(figsize = (12,8))\n",
    "plt.plot(np.arange(len(epoches_train_loss)), epoches_train_loss, color='r', label='training loss')\n",
    "plt.plot(np.arange(len(epoches_dev_loss)), epoches_dev_loss, color='b', label='validating loss')\n",
    "plt.xlabel('Steps')\n",
    "plt.ylabel('MSE-loss')\n",
    "plt.legend()"
   ]
  },
  {
   "cell_type": "markdown",
   "metadata": {
    "id": "E4IrkY3Adh3G"
   },
   "source": [
    "## **3. Variational Auto Encoder**"
   ]
  },
  {
   "cell_type": "markdown",
   "metadata": {
    "id": "oy34192Vd1Al"
   },
   "source": [
    "### 3.1 定义模型和损失函数"
   ]
  },
  {
   "cell_type": "code",
   "execution_count": 25,
   "metadata": {
    "executionInfo": {
     "elapsed": 1233,
     "status": "ok",
     "timestamp": 1605470953012,
     "user": {
      "displayName": "Yuxin JIANG",
      "photoUrl": "",
      "userId": "08237551511886881536"
     },
     "user_tz": -480
    },
    "id": "FvEj4FiKUU2g"
   },
   "outputs": [],
   "source": [
    "class VAE(nn.Module):\n",
    "\n",
    "  def __init__(self, nb_movies, device=\"cuda:0\"):\n",
    "    super(VAE, self).__init__()\n",
    "    self.nb_movies = nb_movies\n",
    "    self.encoder = nn.Sequential(\n",
    "        nn.Linear(self.nb_movies, 512),\n",
    "        nn.Sigmoid(),\n",
    "        nn.Dropout(0.9), # 需要一个较大的dropout\n",
    "        nn.Linear(512, 80),\n",
    "        nn.Sigmoid()\n",
    "        )\n",
    "    self.fc1 = nn.Linear(80, 32)\n",
    "    self.fc2 = nn.Linear(80, 32)\n",
    "    self.decoder = nn.Sequential(\n",
    "        nn.Linear(32, 80),\n",
    "        nn.Sigmoid(),\n",
    "        nn.Linear(80, 512),\n",
    "        nn.Sigmoid(),\n",
    "        nn.Linear(512, self.nb_movies)\n",
    "        )\n",
    "    \n",
    "  # reparameterize\n",
    "  def reparameterize(self, mu, logvar):\n",
    "    eps = Variable(torch.randn(mu.size(0), mu.size(1))).to(device)\n",
    "    z = mu + eps * torch.exp(logvar/2) \n",
    "    return z\n",
    "\n",
    "  def forward(self, x):\n",
    "    out1, out2 = self.encoder(x), self.encoder(x)\n",
    "    mu = self.fc1(out1)\n",
    "    logvar = self.fc2(out2)\n",
    "    z = self.reparameterize(mu, logvar)\n",
    "    return self.decoder(z), mu, logvar\n",
    "\n",
    "def loss_func(recon_x, x, mu, logvar):\n",
    "  \"\"\"\n",
    "  VAE的损失包括两部分：\n",
    "  一部分是预测结果和真实结果的平均绝对误差；\n",
    "  另一部分是KL-divergence（KL散度），用来衡量潜在变量的分布和单位高斯分布的差异。\n",
    "  \"\"\"\n",
    "  MSE = torch.mean(torch.norm((x - recon_x), p=2, dim=1, keepdim=False)**2/torch.sum(recon_x!=0,axis=1))\n",
    "  KLD = -0.5 * torch.sum(1 + logvar - mu.pow(2) - logvar.exp())\n",
    "  return MSE + KLD"
   ]
  },
  {
   "cell_type": "markdown",
   "metadata": {
    "id": "PUffuiIkd6DN"
   },
   "source": [
    "### 3.2 定义训练，验证和测试函数"
   ]
  },
  {
   "cell_type": "code",
   "execution_count": 26,
   "metadata": {
    "colab": {
     "base_uri": "https://localhost:8080/"
    },
    "executionInfo": {
     "elapsed": 529746,
     "status": "ok",
     "timestamp": 1605471486931,
     "user": {
      "displayName": "Yuxin JIANG",
      "photoUrl": "",
      "userId": "08237551511886881536"
     },
     "user_tz": -480
    },
    "id": "bPHi0HL2AVMK",
    "outputId": "42dcce6b-e802-41e5-905c-cea4bf13bf38"
   },
   "outputs": [
    {
     "name": "stdout",
     "output_type": "stream",
     "text": [
      "\n",
      " ==================== Training Variational Auto Encoder on device: cuda:0 ====================\n",
      "====> Epoch: 1 Training Average loss: 7.4468, Validating Average loss: 1.4327\n",
      "====> Epoch: 2 Training Average loss: 1.9506, Validating Average loss: 1.2280\n",
      "====> Epoch: 3 Training Average loss: 1.4592, Validating Average loss: 1.0943\n",
      "====> Epoch: 4 Training Average loss: 1.2420, Validating Average loss: 1.0396\n",
      "====> Epoch: 5 Training Average loss: 1.1448, Validating Average loss: 1.0240\n",
      "====> Epoch: 6 Training Average loss: 1.0957, Validating Average loss: 1.0269\n",
      "====> Epoch: 7 Training Average loss: 1.0674, Validating Average loss: 1.0248\n",
      "====> Epoch: 8 Training Average loss: 1.0468, Validating Average loss: 1.0277\n",
      "====> Epoch: 9 Training Average loss: 1.0347, Validating Average loss: 1.0238\n",
      "====> Epoch: 10 Training Average loss: 1.0244, Validating Average loss: 1.0253\n",
      "====> Epoch: 11 Training Average loss: 1.0172, Validating Average loss: 1.0253\n",
      "====> Epoch: 12 Training Average loss: 1.0119, Validating Average loss: 1.0226\n",
      "====> Epoch: 13 Training Average loss: 1.0087, Validating Average loss: 1.0191\n",
      "====> Epoch: 14 Training Average loss: 1.0040, Validating Average loss: 1.0173\n",
      "====> Epoch: 15 Training Average loss: 1.0028, Validating Average loss: 1.0190\n",
      "====> Epoch: 16 Training Average loss: 1.0002, Validating Average loss: 1.0164\n",
      "====> Epoch: 17 Training Average loss: 0.9982, Validating Average loss: 1.0133\n",
      "====> Epoch: 18 Training Average loss: 0.9969, Validating Average loss: 1.0129\n",
      "====> Epoch: 19 Training Average loss: 0.9953, Validating Average loss: 1.0135\n",
      "====> Epoch: 20 Training Average loss: 0.9956, Validating Average loss: 1.0137\n",
      "====> Epoch: 21 Training Average loss: 0.9943, Validating Average loss: 1.0121\n",
      "====> Epoch: 22 Training Average loss: 0.9939, Validating Average loss: 1.0153\n",
      "====> Epoch: 23 Training Average loss: 0.9934, Validating Average loss: 1.0120\n",
      "====> Epoch: 24 Training Average loss: 0.9929, Validating Average loss: 1.0115\n",
      "====> Epoch: 25 Training Average loss: 0.9931, Validating Average loss: 1.0099\n",
      "====> Epoch: 26 Training Average loss: 0.9919, Validating Average loss: 1.0087\n",
      "====> Epoch: 27 Training Average loss: 0.9912, Validating Average loss: 1.0122\n",
      "====> Epoch: 28 Training Average loss: 0.9908, Validating Average loss: 1.0076\n",
      "====> Epoch: 29 Training Average loss: 0.9905, Validating Average loss: 1.0092\n",
      "====> Epoch: 30 Training Average loss: 0.9908, Validating Average loss: 1.0069\n",
      "====> Epoch: 31 Training Average loss: 0.9900, Validating Average loss: 1.0079\n",
      "====> Epoch: 32 Training Average loss: 0.9898, Validating Average loss: 1.0101\n",
      "====> Epoch: 33 Training Average loss: 0.9906, Validating Average loss: 1.0094\n",
      "====> Epoch: 34 Training Average loss: 0.9896, Validating Average loss: 1.0101\n",
      "====> Epoch: 35 Training Average loss: 0.9894, Validating Average loss: 1.0078\n",
      "====> Epoch: 36 Training Average loss: 0.9893, Validating Average loss: 1.0076\n",
      "====> Epoch: 37 Training Average loss: 0.9892, Validating Average loss: 1.0071\n",
      "====> Epoch: 38 Training Average loss: 0.9888, Validating Average loss: 1.0088\n",
      "====> Epoch: 39 Training Average loss: 0.9890, Validating Average loss: 1.0057\n",
      "====> Epoch: 40 Training Average loss: 0.9882, Validating Average loss: 1.0082\n",
      "====> Epoch: 41 Training Average loss: 0.9884, Validating Average loss: 1.0074\n",
      "====> Epoch: 42 Training Average loss: 0.9885, Validating Average loss: 1.0068\n",
      "====> Epoch: 43 Training Average loss: 0.9876, Validating Average loss: 1.0037\n",
      "====> Epoch: 44 Training Average loss: 0.9884, Validating Average loss: 1.0073\n",
      "====> Epoch: 45 Training Average loss: 0.9871, Validating Average loss: 1.0059\n",
      "====> Epoch: 46 Training Average loss: 0.9879, Validating Average loss: 1.0056\n",
      "====> Epoch: 47 Training Average loss: 0.9873, Validating Average loss: 1.0058\n",
      "====> Epoch: 48 Training Average loss: 0.9873, Validating Average loss: 1.0040\n",
      "====> Epoch: 49 Training Average loss: 0.9873, Validating Average loss: 1.0040\n",
      "====> Epoch: 50 Training Average loss: 0.9865, Validating Average loss: 1.0072\n",
      "====> Epoch: 51 Training Average loss: 0.9866, Validating Average loss: 1.0055\n",
      "====> Epoch: 52 Training Average loss: 0.9872, Validating Average loss: 1.0077\n",
      "====> Epoch: 53 Training Average loss: 0.9867, Validating Average loss: 1.0047\n",
      "====> Epoch: 54 Training Average loss: 0.9857, Validating Average loss: 1.0067\n",
      "====> Epoch: 55 Training Average loss: 0.9863, Validating Average loss: 1.0051\n",
      "====> Epoch: 56 Training Average loss: 0.9861, Validating Average loss: 1.0035\n",
      "====> Epoch: 57 Training Average loss: 0.9855, Validating Average loss: 1.0043\n",
      "====> Epoch: 58 Training Average loss: 0.9856, Validating Average loss: 1.0043\n",
      "====> Epoch: 59 Training Average loss: 0.9861, Validating Average loss: 1.0057\n",
      "====> Epoch: 60 Training Average loss: 0.9856, Validating Average loss: 1.0032\n",
      "====> Epoch: 61 Training Average loss: 0.9859, Validating Average loss: 1.0059\n",
      "====> Epoch: 62 Training Average loss: 0.9854, Validating Average loss: 1.0047\n",
      "====> Epoch: 63 Training Average loss: 0.9847, Validating Average loss: 1.0054\n",
      "====> Epoch: 64 Training Average loss: 0.9851, Validating Average loss: 1.0045\n",
      "====> Epoch: 65 Training Average loss: 0.9855, Validating Average loss: 1.0035\n",
      "====> Epoch: 66 Training Average loss: 0.9848, Validating Average loss: 1.0038\n",
      "====> Epoch: 67 Training Average loss: 0.9848, Validating Average loss: 1.0031\n",
      "====> Epoch: 68 Training Average loss: 0.9852, Validating Average loss: 1.0018\n",
      "====> Epoch: 69 Training Average loss: 0.9845, Validating Average loss: 1.0044\n",
      "====> Epoch: 70 Training Average loss: 0.9844, Validating Average loss: 1.0055\n",
      "====> Epoch: 71 Training Average loss: 0.9837, Validating Average loss: 1.0013\n",
      "====> Epoch: 72 Training Average loss: 0.9848, Validating Average loss: 1.0043\n",
      "====> Epoch: 73 Training Average loss: 0.9842, Validating Average loss: 1.0048\n",
      "====> Epoch: 74 Training Average loss: 0.9839, Validating Average loss: 1.0017\n",
      "====> Epoch: 75 Training Average loss: 0.9836, Validating Average loss: 1.0029\n",
      "====> Epoch: 76 Training Average loss: 0.9842, Validating Average loss: 1.0046\n",
      "====> Epoch: 77 Training Average loss: 0.9844, Validating Average loss: 1.0039\n",
      "====> Epoch: 78 Training Average loss: 0.9838, Validating Average loss: 1.0024\n",
      "====> Epoch: 79 Training Average loss: 0.9840, Validating Average loss: 1.0039\n",
      "====> Epoch: 80 Training Average loss: 0.9833, Validating Average loss: 1.0020\n",
      "====> Epoch: 81 Training Average loss: 0.9837, Validating Average loss: 1.0042\n",
      "====> Epoch: 82 Training Average loss: 0.9833, Validating Average loss: 1.0044\n",
      "====> Epoch: 83 Training Average loss: 0.9833, Validating Average loss: 1.0031\n",
      "====> Epoch: 84 Training Average loss: 0.9834, Validating Average loss: 1.0070\n",
      "====> Epoch: 85 Training Average loss: 0.9834, Validating Average loss: 1.0032\n",
      "====> Epoch: 86 Training Average loss: 0.9828, Validating Average loss: 1.0044\n",
      "====> Epoch: 87 Training Average loss: 0.9832, Validating Average loss: 1.0047\n",
      "====> Epoch: 88 Training Average loss: 0.9832, Validating Average loss: 1.0029\n",
      "====> Epoch: 89 Training Average loss: 0.9819, Validating Average loss: 1.0034\n",
      "====> Epoch: 90 Training Average loss: 0.9827, Validating Average loss: 1.0048\n",
      "====> Epoch: 91 Training Average loss: 0.9827, Validating Average loss: 1.0040\n",
      "====> Epoch: 92 Training Average loss: 0.9828, Validating Average loss: 1.0021\n",
      "====> Epoch: 93 Training Average loss: 0.9821, Validating Average loss: 1.0037\n",
      "====> Epoch: 94 Training Average loss: 0.9821, Validating Average loss: 1.0023\n",
      "====> Epoch: 95 Training Average loss: 0.9824, Validating Average loss: 1.0036\n",
      "====> Epoch: 96 Training Average loss: 0.9828, Validating Average loss: 1.0025\n",
      "====> Epoch: 97 Training Average loss: 0.9819, Validating Average loss: 1.0016\n",
      "====> Epoch: 98 Training Average loss: 0.9822, Validating Average loss: 1.0032\n",
      "====> Epoch: 99 Training Average loss: 0.9821, Validating Average loss: 1.0026\n",
      "====> Epoch: 100 Training Average loss: 0.9820, Validating Average loss: 1.0018\n",
      "====> Epoch: 101 Training Average loss: 0.9819, Validating Average loss: 1.0028\n",
      "====> Epoch: 102 Training Average loss: 0.9817, Validating Average loss: 1.0025\n",
      "====> Epoch: 103 Training Average loss: 0.9817, Validating Average loss: 1.0023\n",
      "====> Epoch: 104 Training Average loss: 0.9811, Validating Average loss: 1.0027\n",
      "====> Epoch: 105 Training Average loss: 0.9825, Validating Average loss: 0.9997\n",
      "====> Epoch: 106 Training Average loss: 0.9815, Validating Average loss: 1.0015\n",
      "====> Epoch: 107 Training Average loss: 0.9816, Validating Average loss: 1.0013\n",
      "====> Epoch: 108 Training Average loss: 0.9813, Validating Average loss: 1.0025\n",
      "====> Epoch: 109 Training Average loss: 0.9809, Validating Average loss: 1.0025\n",
      "====> Epoch: 110 Training Average loss: 0.9812, Validating Average loss: 1.0014\n",
      "====> Epoch: 111 Training Average loss: 0.9817, Validating Average loss: 1.0033\n",
      "====> Epoch: 112 Training Average loss: 0.9812, Validating Average loss: 1.0022\n",
      "====> Epoch: 113 Training Average loss: 0.9809, Validating Average loss: 1.0018\n",
      "====> Epoch: 114 Training Average loss: 0.9814, Validating Average loss: 1.0014\n",
      "====> Epoch: 115 Training Average loss: 0.9817, Validating Average loss: 1.0012\n",
      "====> Epoch: 116 Training Average loss: 0.9806, Validating Average loss: 1.0038\n",
      "====> Epoch: 117 Training Average loss: 0.9813, Validating Average loss: 1.0045\n",
      "====> Epoch: 118 Training Average loss: 0.9813, Validating Average loss: 1.0014\n",
      "====> Epoch: 119 Training Average loss: 0.9807, Validating Average loss: 1.0018\n",
      "====> Epoch: 120 Training Average loss: 0.9809, Validating Average loss: 1.0017\n",
      "====> Epoch: 121 Training Average loss: 0.9808, Validating Average loss: 1.0018\n",
      "====> Epoch: 122 Training Average loss: 0.9814, Validating Average loss: 1.0014\n",
      "====> Epoch: 123 Training Average loss: 0.9807, Validating Average loss: 1.0023\n",
      "====> Epoch: 124 Training Average loss: 0.9807, Validating Average loss: 1.0005\n",
      "====> Epoch: 125 Training Average loss: 0.9806, Validating Average loss: 1.0033\n",
      "====> Epoch: 126 Training Average loss: 0.9803, Validating Average loss: 1.0010\n",
      "====> Epoch: 127 Training Average loss: 0.9806, Validating Average loss: 1.0025\n",
      "====> Epoch: 128 Training Average loss: 0.9807, Validating Average loss: 1.0057\n",
      "====> Epoch: 129 Training Average loss: 0.9802, Validating Average loss: 1.0006\n",
      "====> Epoch: 130 Training Average loss: 0.9804, Validating Average loss: 1.0034\n",
      "====> Epoch: 131 Training Average loss: 0.9800, Validating Average loss: 1.0015\n",
      "====> Epoch: 132 Training Average loss: 0.9800, Validating Average loss: 1.0043\n",
      "====> Epoch: 133 Training Average loss: 0.9804, Validating Average loss: 1.0036\n",
      "====> Epoch: 134 Training Average loss: 0.9799, Validating Average loss: 1.0010\n",
      "====> Epoch: 135 Training Average loss: 0.9802, Validating Average loss: 0.9998\n",
      "====> Epoch: 136 Training Average loss: 0.9798, Validating Average loss: 1.0021\n",
      "====> Epoch: 137 Training Average loss: 0.9803, Validating Average loss: 1.0026\n",
      "====> Epoch: 138 Training Average loss: 0.9797, Validating Average loss: 1.0006\n",
      "====> Epoch: 139 Training Average loss: 0.9795, Validating Average loss: 1.0011\n",
      "====> Epoch: 140 Training Average loss: 0.9797, Validating Average loss: 0.9986\n",
      "====> Epoch: 141 Training Average loss: 0.9796, Validating Average loss: 1.0040\n",
      "====> Epoch: 142 Training Average loss: 0.9802, Validating Average loss: 1.0001\n",
      "====> Epoch: 143 Training Average loss: 0.9793, Validating Average loss: 1.0009\n",
      "====> Epoch: 144 Training Average loss: 0.9795, Validating Average loss: 1.0014\n",
      "====> Epoch: 145 Training Average loss: 0.9794, Validating Average loss: 1.0001\n",
      "====> Epoch: 146 Training Average loss: 0.9786, Validating Average loss: 0.9996\n",
      "====> Epoch: 147 Training Average loss: 0.9802, Validating Average loss: 1.0011\n",
      "====> Epoch: 148 Training Average loss: 0.9792, Validating Average loss: 1.0016\n",
      "====> Epoch: 149 Training Average loss: 0.9793, Validating Average loss: 1.0014\n",
      "====> Epoch: 150 Training Average loss: 0.9793, Validating Average loss: 0.9998\n",
      "====> Epoch: 151 Training Average loss: 0.9790, Validating Average loss: 0.9990\n",
      "====> Epoch: 152 Training Average loss: 0.9783, Validating Average loss: 1.0001\n",
      "====> Epoch: 153 Training Average loss: 0.9791, Validating Average loss: 0.9996\n",
      "====> Epoch: 154 Training Average loss: 0.9794, Validating Average loss: 1.0007\n",
      "====> Epoch: 155 Training Average loss: 0.9790, Validating Average loss: 1.0004\n",
      "====> Epoch: 156 Training Average loss: 0.9790, Validating Average loss: 1.0009\n",
      "====> Epoch: 157 Training Average loss: 0.9786, Validating Average loss: 1.0011\n",
      "====> Epoch: 158 Training Average loss: 0.9786, Validating Average loss: 1.0017\n",
      "====> Epoch: 159 Training Average loss: 0.9788, Validating Average loss: 1.0026\n",
      "====> Epoch: 160 Training Average loss: 0.9784, Validating Average loss: 1.0017\n",
      "====> Epoch: 161 Training Average loss: 0.9793, Validating Average loss: 1.0014\n",
      "====> Epoch: 162 Training Average loss: 0.9782, Validating Average loss: 1.0018\n",
      "====> Epoch: 163 Training Average loss: 0.9784, Validating Average loss: 1.0005\n",
      "====> Epoch: 164 Training Average loss: 0.9784, Validating Average loss: 1.0015\n",
      "====> Epoch: 165 Training Average loss: 0.9784, Validating Average loss: 1.0018\n",
      "====> Epoch: 166 Training Average loss: 0.9786, Validating Average loss: 1.0007\n",
      "====> Epoch: 167 Training Average loss: 0.9784, Validating Average loss: 1.0006\n",
      "====> Epoch: 168 Training Average loss: 0.9782, Validating Average loss: 0.9988\n",
      "====> Epoch: 169 Training Average loss: 0.9787, Validating Average loss: 1.0002\n",
      "====> Epoch: 170 Training Average loss: 0.9785, Validating Average loss: 1.0015\n",
      "====> Epoch: 171 Training Average loss: 0.9780, Validating Average loss: 0.9992\n",
      "====> Epoch: 172 Training Average loss: 0.9783, Validating Average loss: 1.0017\n",
      "====> Epoch: 173 Training Average loss: 0.9785, Validating Average loss: 1.0008\n",
      "====> Epoch: 174 Training Average loss: 0.9781, Validating Average loss: 0.9997\n",
      "====> Epoch: 175 Training Average loss: 0.9780, Validating Average loss: 0.9998\n",
      "====> Epoch: 176 Training Average loss: 0.9781, Validating Average loss: 0.9999\n",
      "====> Epoch: 177 Training Average loss: 0.9784, Validating Average loss: 1.0008\n",
      "====> Epoch: 178 Training Average loss: 0.9778, Validating Average loss: 1.0006\n",
      "====> Epoch: 179 Training Average loss: 0.9785, Validating Average loss: 0.9993\n",
      "====> Epoch: 180 Training Average loss: 0.9778, Validating Average loss: 0.9995\n",
      "====> Epoch: 181 Training Average loss: 0.9779, Validating Average loss: 0.9994\n",
      "====> Epoch: 182 Training Average loss: 0.9780, Validating Average loss: 0.9994\n",
      "====> Epoch: 183 Training Average loss: 0.9779, Validating Average loss: 1.0004\n",
      "====> Epoch: 184 Training Average loss: 0.9780, Validating Average loss: 0.9999\n",
      "====> Epoch: 185 Training Average loss: 0.9775, Validating Average loss: 1.0005\n",
      "====> Epoch: 186 Training Average loss: 0.9771, Validating Average loss: 1.0006\n",
      "====> Epoch: 187 Training Average loss: 0.9775, Validating Average loss: 0.9999\n",
      "====> Epoch: 188 Training Average loss: 0.9776, Validating Average loss: 0.9979\n",
      "====> Epoch: 189 Training Average loss: 0.9777, Validating Average loss: 1.0007\n",
      "====> Epoch: 190 Training Average loss: 0.9775, Validating Average loss: 0.9994\n",
      "====> Epoch: 191 Training Average loss: 0.9778, Validating Average loss: 0.9989\n",
      "====> Epoch: 192 Training Average loss: 0.9783, Validating Average loss: 1.0005\n",
      "====> Epoch: 193 Training Average loss: 0.9782, Validating Average loss: 1.0009\n",
      "====> Epoch: 194 Training Average loss: 0.9772, Validating Average loss: 0.9991\n",
      "====> Epoch: 195 Training Average loss: 0.9776, Validating Average loss: 0.9989\n",
      "====> Epoch: 196 Training Average loss: 0.9776, Validating Average loss: 1.0020\n",
      "====> Epoch: 197 Training Average loss: 0.9772, Validating Average loss: 0.9983\n",
      "====> Epoch: 198 Training Average loss: 0.9774, Validating Average loss: 1.0010\n",
      "====> Epoch: 199 Training Average loss: 0.9780, Validating Average loss: 1.0002\n",
      "====> Epoch: 200 Training Average loss: 0.9774, Validating Average loss: 1.0003\n",
      "\n",
      " ==================== Testing Variational Auto Encoder on device: cuda:0 ====================\n",
      "Average test loss: 0.9956\n"
     ]
    }
   ],
   "source": [
    "def train(train_loader, dev_loader=None, is_validate=True, device=\"cuda:0\"):\n",
    "  vae.train()\n",
    "  total_loss = 0\n",
    "  for _, data in enumerate(train_loader, 0):\n",
    "    data = Variable(data[0]).to(device)\n",
    "    target = data.clone()\n",
    "    optimizer.zero_grad()\n",
    "    recon_x, mu, logvar = vae.forward(data)\n",
    "    recon_x[target == 0] = 0\n",
    "    loss = loss_func(recon_x, data, mu, logvar)\n",
    "    loss.backward()\n",
    "    total_loss += loss.item()\n",
    "    optimizer.step()\n",
    "    epoch_train_loss = total_loss / len(train_loader)\n",
    "\n",
    "  if (is_validate == True):\n",
    "    vae.eval()\n",
    "    total_loss = 0\n",
    "    with torch.no_grad():\n",
    "      for _, data in enumerate(dev_loader, 0):\n",
    "        data = Variable(data[0]).to(device)\n",
    "        target = data.clone()\n",
    "        recon_x, mu, logvar = vae.forward(data)\n",
    "        recon_x[target == 0] = 0\n",
    "        loss = loss_func(recon_x, data, mu, logvar)\n",
    "        total_loss += loss.item()\n",
    "        epoch_dev_loss = total_loss / len(dev_loader)\n",
    "    print('====> Epoch: {} Training Average loss: {:.4f}, Validating Average loss: {:.4f}'.format(epoch, epoch_train_loss, epoch_dev_loss))\n",
    "    return epoch_train_loss, epoch_dev_loss\n",
    "\n",
    "  else:\n",
    "    print('====> Epoch: {} Training Average loss: {:.4f}'.format(epoch, epoch_train_loss))\n",
    "    return epoch_train_loss\n",
    "\n",
    "def test(test_loader, device=\"cuda:0\"):\n",
    "  vae.eval()\n",
    "  total_loss = 0\n",
    "  with torch.no_grad():\n",
    "    for _, data in enumerate(test_loader, 0):\n",
    "      data = Variable(data[0]).to(device)\n",
    "      target = data.clone()\n",
    "      recon_x, mu, logvar = vae.forward(data)\n",
    "      recon_x[target == 0] = 0\n",
    "      loss = loss_func(recon_x, data, mu, logvar)\n",
    "      total_loss += loss.item()\n",
    "  print('Average test loss: {:.4f}'.format(total_loss / len(test_loader)))\n",
    "\n",
    "if __name__ == \"__main__\":\n",
    "  device = torch.device(\"cuda:0\" if torch.cuda.is_available() else \"cpu\")\n",
    "  vae = VAE(nb_movies = nb_movies).to(device)\n",
    "  optimizer =  optim.Adam(vae.parameters(), lr=1e-4, betas=(0.9, 0.999), eps=1e-08, weight_decay=0)\n",
    "  EPOCH = 200\n",
    "  epoches_train_loss = []\n",
    "  epoches_dev_loss = []\n",
    "\n",
    "  print(\"\\n\", 20 * \"=\", \"Training Variational Auto Encoder on device: {}\".format(device), 20 * \"=\")\n",
    "  for epoch in range(1, EPOCH + 1):\n",
    "    epoch_train_loss, epoch_dev_loss = train(train_loader, dev_loader = dev_loader)\n",
    "    epoches_train_loss.append(epoch_train_loss)\n",
    "    epoches_dev_loss.append(epoch_dev_loss)\n",
    "  print(\"\\n\", 20 * \"=\", \"Testing Variational Auto Encoder on device: {}\".format(device), 20 * \"=\")\n",
    "  test(test_loader)"
   ]
  },
  {
   "cell_type": "markdown",
   "metadata": {
    "id": "whP5w_Lc_qWw"
   },
   "source": [
    "### 3.3 画图展示训练和验证过程中的loss变化情况，发现虽然VAE的training loss比AE大，但是validating loss和test loss小于AE。考虑是因为VAE的training loss包含了两部分，因而training loss偏大；但VAE模型可能捕捉到了数据中更复杂的模式，使得在验证集和测试集上有更好的表现。 "
   ]
  },
  {
   "cell_type": "code",
   "execution_count": 27,
   "metadata": {
    "colab": {
     "base_uri": "https://localhost:8080/",
     "height": 515
    },
    "executionInfo": {
     "elapsed": 1414,
     "status": "ok",
     "timestamp": 1605471495077,
     "user": {
      "displayName": "Yuxin JIANG",
      "photoUrl": "",
      "userId": "08237551511886881536"
     },
     "user_tz": -480
    },
    "id": "Stk1vrbEfkM1",
    "outputId": "1b626262-7a5b-4521-8630-0bdc5e384b54"
   },
   "outputs": [
    {
     "data": {
      "text/plain": [
       "<matplotlib.legend.Legend at 0x7f59a5e3f400>"
      ]
     },
     "execution_count": 27,
     "metadata": {
      "tags": []
     },
     "output_type": "execute_result"
    },
    {
     "data": {
      "image/png": "[encoded data removed]",
      "text/plain": [
       "<Figure size 864x576 with 1 Axes>"
      ]
     },
     "metadata": {
      "needs_background": "light",
      "tags": []
     },
     "output_type": "display_data"
    }
   ],
   "source": [
    "import matplotlib.pyplot as plt\n",
    "plt.figure(figsize = (12,8))\n",
    "plt.plot(np.arange(len(epoches_train_loss)), epoches_train_loss, color='r', label='training loss')\n",
    "plt.plot(np.arange(len(epoches_dev_loss)), epoches_dev_loss, color='b', label='validating loss')\n",
    "plt.xlabel('Steps')\n",
    "plt.ylabel('MSE-loss')\n",
    "plt.legend()"
   ]
  },
  {
   "cell_type": "markdown",
   "metadata": {
    "id": "LRDJM3ECArls"
   },
   "source": [
    "## **4. 利用模型对用户未评分的电影进行预测，根据预测分值，对用户推荐他没看过的电影**"
   ]
  },
  {
   "cell_type": "markdown",
   "metadata": {
    "id": "T36nVcojeiEv"
   },
   "source": [
    "### 4.1 定义预测函数\n",
    "\n",
    "- 用test数据做预测，将其中user没看过的电影选出来，保留其预测评分\n",
    "- 对评分排序，选出最高的top20，并匹配其电影名，输出"
   ]
  },
  {
   "cell_type": "code",
   "execution_count": 35,
   "metadata": {
    "executionInfo": {
     "elapsed": 1356,
     "status": "ok",
     "timestamp": 1605472072694,
     "user": {
      "displayName": "Yuxin JIANG",
      "photoUrl": "",
      "userId": "08237551511886881536"
     },
     "user_tz": -480
    },
    "id": "fDzzf4JYAyQX"
   },
   "outputs": [],
   "source": [
    "#prediction\n",
    "def Prediction(model, movies, user_id, nb_recommend):\n",
    "    user_input = Variable(test_set[user_id - 1]).unsqueeze(0).to(device)\n",
    "    predict_output, _, _ = model.forward(user_input)\n",
    "    predict_output = predict_output.cpu().detach().numpy()\n",
    "    user_input = user_input.cpu().detach().numpy()\n",
    "    predicted_result = np.vstack([user_input, predict_output])\n",
    "    recommend = np.array(predicted_result)\n",
    "    trian_movie_id = np.array([i for i in range(1, nb_movies+1)]) # create a temporary index for movies since we are going to delete some movies that the user had seen, 创建一个类似id的index，排序用\n",
    "    recommend = np.row_stack((recommend, trian_movie_id)) # insert that index into the result array, 把index插入结果\n",
    "    recommend = recommend.T # transpose row and col 数组的行列倒置\n",
    "    recommend = recommend.tolist() # tansfer into list for further process转化为list以便处理\n",
    "\n",
    "    movie_not_seen = [] # delete the rows comtaining the movies that the user had seen 删除users看过的电影\n",
    "    for i in range(len(recommend)):\n",
    "        if recommend[i][0] == 0.0:\n",
    "            movie_not_seen.append(recommend[i])\n",
    "\n",
    "    movie_not_seen = sorted(movie_not_seen, key=itemgetter(1), reverse=True)#sort the movies by mark 按照预测的分数降序排序\n",
    "\n",
    "    recommend_movie = [] # create list for recommended movies with the index we created 推荐的top20\n",
    "    for i in range(0, nb_recommend):\n",
    "        recommend_movie.append(movie_not_seen[i][2])\n",
    "\n",
    "    recommend_index = [] # get the real index in the original file of 'movies.dat' by using the temporary index这20部电影在原movies文件里面真正的index\n",
    "    for i in range(len(recommend_movie)):\n",
    "        recommend_index.append(movies[(movies.iloc[:,0]==recommend_movie[i])].index.tolist())\n",
    "\n",
    "    recommend_movie_name = [] # get a list of movie names using the real index将对应的index输入并导出movie names\n",
    "    for i in range(len(recommend_index)):\n",
    "        np_movie = movies.iloc[recommend_index[i],1].values # transefer to np.array\n",
    "        list_movie = np_movie.tolist() # transfer to list\n",
    "        recommend_movie_name.append(list_movie)\n",
    "\n",
    "    print('Highly Recommended Moives for You:\\n')\n",
    "    for i in range(len(recommend_movie_name)):\n",
    "        print(str(recommend_movie_name[i]))\n",
    "    \n",
    "    return recommend_movie_name"
   ]
  },
  {
   "cell_type": "markdown",
   "metadata": {
    "id": "snJRCgx3emKd"
   },
   "source": [
    "### 4.2 对指定用户，从他没看过的电影中推荐他最可能喜欢的几部电影\n",
    "\n",
    "- 基于上个slot的predict函数，指定user id，选出推荐的20部"
   ]
  },
  {
   "cell_type": "code",
   "execution_count": 36,
   "metadata": {
    "colab": {
     "base_uri": "https://localhost:8080/"
    },
    "executionInfo": {
     "elapsed": 979,
     "status": "ok",
     "timestamp": 1605472083401,
     "user": {
      "displayName": "Yuxin JIANG",
      "photoUrl": "",
      "userId": "08237551511886881536"
     },
     "user_tz": -480
    },
    "id": "LMC_L9axA4VQ",
    "outputId": "ce7b5bfc-95d8-46a1-9e3c-e19a6c374a8e"
   },
   "outputs": [
    {
     "name": "stdout",
     "output_type": "stream",
     "text": [
      "Highly Recommended Moives for You:\n",
      "\n",
      "['Ulysses (Ulisse) (1954)']\n",
      "['Song of Freedom (1936)']\n",
      "['Paralyzing Fear: The Story of Polio in America, A (1998)']\n",
      "['Gate of Heavenly Peace, The (1995)']\n",
      "['Mamma Roma (1962)']\n",
      "['Skipped Parts (2000)']\n",
      "['Window to Paris (1994)']\n",
      "['Lamerica (1994)']\n",
      "['24 7: Twenty Four Seven (1997)']\n",
      "['Lured (1947)']\n",
      "['Smashing Time (1967)']\n",
      "['Seven Chances (1925)']\n",
      "['I Am Cuba (Soy Cuba/Ya Kuba) (1964)']\n",
      "['Follow the Bitch (1998)']\n",
      "['Baby, The (1973)']\n",
      "['Firelight (1997)']\n",
      "['Apple, The (Sib) (1998)']\n",
      "['Eighth Day, The (Le Huitième jour ) (1996)']\n",
      "['Time of the Gypsies (Dom za vesanje) (1989)']\n",
      "['Message to Love: The Isle of Wight Festival (1996)']\n"
     ]
    }
   ],
   "source": [
    "# 指定用户的ID\n",
    "user_id = 367\n",
    "# 指定推荐的电影数目\n",
    "nb_recommend = 20\n",
    "# 读取原电影数据以便在推荐时查询\n",
    "movies = pd.read_csv('ml-1m/movies.dat', sep = '::', header = None, engine = 'python', encoding = 'latin-1')\n",
    "# 使用VAE模型进行预测推荐\n",
    "movie_for_you = Prediction(model = vae, movies = movies, user_id = user_id, nb_recommend = nb_recommend)"
   ]
  }
 ],
 "metadata": {
  "accelerator": "GPU",
  "colab": {
   "authorship_tag": "ABX9TyOVIFrFbtBcOk936NgR/ySu",
   "collapsed_sections": [],
   "name": "auto encoder.ipynb",
   "provenance": [],
   "toc_visible": true
  },
  "kernelspec": {
   "display_name": "Python 3",
   "language": "python",
   "name": "python3"
  },
  "language_info": {
   "codemirror_mode": {
    "name": "ipython",
    "version": 3
   },
   "file_extension": ".py",
   "mimetype": "text/x-python",
   "name": "python",
   "nbconvert_exporter": "python",
   "pygments_lexer": "ipython3",
   "version": "3.7.9"
  },
  "toc": {
   "base_numbering": 1,
   "nav_menu": {},
   "number_sections": true,
   "sideBar": true,
   "skip_h1_title": false,
   "title_cell": "Table of Contents",
   "title_sidebar": "Contents",
   "toc_cell": false,
   "toc_position": {},
   "toc_section_display": true,
   "toc_window_display": false
  },
  "varInspector": {
   "cols": {
    "lenName": 16,
    "lenType": 16,
    "lenVar": 40
   },
   "kernels_config": {
    "python": {
     "delete_cmd_postfix": "",
     "delete_cmd_prefix": "del ",
     "library": "var_list.py",
     "varRefreshCmd": "print(var_dic_list())"
    },
    "r": {
     "delete_cmd_postfix": ") ",
     "delete_cmd_prefix": "rm(",
     "library": "var_list.r",
     "varRefreshCmd": "cat(var_dic_list()) "
    }
   },
   "types_to_exclude": [
    "module",
    "function",
    "builtin_function_or_method",
    "instance",
    "_Feature"
   ],
   "window_display": false
  }
 },
 "nbformat": 4,
 "nbformat_minor": 1
}
