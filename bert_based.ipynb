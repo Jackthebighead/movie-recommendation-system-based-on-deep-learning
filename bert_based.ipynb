{
 "cells": [
  {
   "cell_type": "markdown",
   "metadata": {
    "id": "4GKjLIFa8nDL"
   },
   "source": [
    "# BERT-based Recommendation System\n",
    "``\n",
    "\n",
    "- 本notebook基于text_cnn baseline加以改进\n",
    "    - 使用sentence-BERT预训练模型对非meta data做representation\n",
    "    - 修改将电影类型用one-hot形式表示\n",
    "- 数据集使用[`MovieLens1M`](https://grouplens.org/datasets/movielens/)\n",
    "- 运行环境：google colab\n"
   ]
  },
  {
   "cell_type": "markdown",
   "metadata": {
    "id": "RkiSotsC8nDi"
   },
   "source": [
    "## **0. 加载包**"
   ]
  },
  {
   "cell_type": "code",
   "execution_count": 1,
   "metadata": {
    "colab": {
     "base_uri": "https://localhost:8080/"
    },
    "executionInfo": {
     "elapsed": 10072,
     "status": "ok",
     "timestamp": 1605509693524,
     "user": {
      "displayName": "Yuxin JIANG",
      "photoUrl": "",
      "userId": "08237551511886881536"
     },
     "user_tz": -480
    },
    "id": "wC_uaNDAQkUw",
    "outputId": "4d1a4cfd-470c-470c-c333-5c208ba595ca"
   },
   "outputs": [
    {
     "name": "stdout",
     "output_type": "stream",
     "text": [
      "Collecting sentence_transformers\n",
      "\u001b[?25l  Downloading https://files.pythonhosted.org/packages/f4/fd/0190080aa0af78d7cd5874e4e8e85f0bed9967dd387cf05d760832b95da9/sentence-transformers-0.3.8.tar.gz (66kB)\n",
      "\u001b[K     |████████████████████████████████| 71kB 3.2MB/s \n",
      "\u001b[?25hCollecting transformers<3.4.0,>=3.1.0\n",
      "\u001b[?25l  Downloading https://files.pythonhosted.org/packages/19/22/aff234f4a841f8999e68a7a94bdd4b60b4cebcfeca5d67d61cd08c9179de/transformers-3.3.1-py3-none-any.whl (1.1MB)\n",
      "\u001b[K     |████████████████████████████████| 1.1MB 8.0MB/s \n",
      "\u001b[?25hRequirement already satisfied: tqdm in /usr/local/lib/python3.6/dist-packages (from sentence_transformers) (4.41.1)\n",
      "Requirement already satisfied: torch>=1.2.0 in /usr/local/lib/python3.6/dist-packages (from sentence_transformers) (1.7.0+cu101)\n",
      "Requirement already satisfied: numpy in /usr/local/lib/python3.6/dist-packages (from sentence_transformers) (1.18.5)\n",
      "Requirement already satisfied: scikit-learn in /usr/local/lib/python3.6/dist-packages (from sentence_transformers) (0.22.2.post1)\n",
      "Requirement already satisfied: scipy in /usr/local/lib/python3.6/dist-packages (from sentence_transformers) (1.4.1)\n",
      "Requirement already satisfied: nltk in /usr/local/lib/python3.6/dist-packages (from sentence_transformers) (3.2.5)\n",
      "Collecting tokenizers==0.8.1.rc2\n",
      "\u001b[?25l  Downloading https://files.pythonhosted.org/packages/80/83/8b9fccb9e48eeb575ee19179e2bdde0ee9a1904f97de5f02d19016b8804f/tokenizers-0.8.1rc2-cp36-cp36m-manylinux1_x86_64.whl (3.0MB)\n",
      "\u001b[K     |████████████████████████████████| 3.0MB 38.8MB/s \n",
      "\u001b[?25hRequirement already satisfied: dataclasses; python_version < \"3.7\" in /usr/local/lib/python3.6/dist-packages (from transformers<3.4.0,>=3.1.0->sentence_transformers) (0.7)\n",
      "Requirement already satisfied: packaging in /usr/local/lib/python3.6/dist-packages (from transformers<3.4.0,>=3.1.0->sentence_transformers) (20.4)\n",
      "Requirement already satisfied: regex!=2019.12.17 in /usr/local/lib/python3.6/dist-packages (from transformers<3.4.0,>=3.1.0->sentence_transformers) (2019.12.20)\n",
      "Requirement already satisfied: filelock in /usr/local/lib/python3.6/dist-packages (from transformers<3.4.0,>=3.1.0->sentence_transformers) (3.0.12)\n",
      "Collecting sentencepiece!=0.1.92\n",
      "\u001b[?25l  Downloading https://files.pythonhosted.org/packages/e5/2d/6d4ca4bef9a67070fa1cac508606328329152b1df10bdf31fb6e4e727894/sentencepiece-0.1.94-cp36-cp36m-manylinux2014_x86_64.whl (1.1MB)\n",
      "\u001b[K     |████████████████████████████████| 1.1MB 23.1MB/s \n",
      "\u001b[?25hCollecting sacremoses\n",
      "\u001b[?25l  Downloading https://files.pythonhosted.org/packages/7d/34/09d19aff26edcc8eb2a01bed8e98f13a1537005d31e95233fd48216eed10/sacremoses-0.0.43.tar.gz (883kB)\n",
      "\u001b[K     |████████████████████████████████| 890kB 37.3MB/s \n",
      "\u001b[?25hRequirement already satisfied: requests in /usr/local/lib/python3.6/dist-packages (from transformers<3.4.0,>=3.1.0->sentence_transformers) (2.23.0)\n",
      "Requirement already satisfied: future in /usr/local/lib/python3.6/dist-packages (from torch>=1.2.0->sentence_transformers) (0.16.0)\n",
      "Requirement already satisfied: typing-extensions in /usr/local/lib/python3.6/dist-packages (from torch>=1.2.0->sentence_transformers) (3.7.4.3)\n",
      "Requirement already satisfied: joblib>=0.11 in /usr/local/lib/python3.6/dist-packages (from scikit-learn->sentence_transformers) (0.17.0)\n",
      "Requirement already satisfied: six in /usr/local/lib/python3.6/dist-packages (from nltk->sentence_transformers) (1.15.0)\n",
      "Requirement already satisfied: pyparsing>=2.0.2 in /usr/local/lib/python3.6/dist-packages (from packaging->transformers<3.4.0,>=3.1.0->sentence_transformers) (2.4.7)\n",
      "Requirement already satisfied: click in /usr/local/lib/python3.6/dist-packages (from sacremoses->transformers<3.4.0,>=3.1.0->sentence_transformers) (7.1.2)\n",
      "Requirement already satisfied: certifi>=2017.4.17 in /usr/local/lib/python3.6/dist-packages (from requests->transformers<3.4.0,>=3.1.0->sentence_transformers) (2020.6.20)\n",
      "Requirement already satisfied: idna<3,>=2.5 in /usr/local/lib/python3.6/dist-packages (from requests->transformers<3.4.0,>=3.1.0->sentence_transformers) (2.10)\n",
      "Requirement already satisfied: chardet<4,>=3.0.2 in /usr/local/lib/python3.6/dist-packages (from requests->transformers<3.4.0,>=3.1.0->sentence_transformers) (3.0.4)\n",
      "Requirement already satisfied: urllib3!=1.25.0,!=1.25.1,<1.26,>=1.21.1 in /usr/local/lib/python3.6/dist-packages (from requests->transformers<3.4.0,>=3.1.0->sentence_transformers) (1.24.3)\n",
      "Building wheels for collected packages: sentence-transformers, sacremoses\n",
      "  Building wheel for sentence-transformers (setup.py) ... \u001b[?25l\u001b[?25hdone\n",
      "  Created wheel for sentence-transformers: filename=sentence_transformers-0.3.8-cp36-none-any.whl size=101996 sha256=82877cbb533acd23575bcdef05eaa97692f5043f95779b7230309ff6b6cdbe5c\n",
      "  Stored in directory: /root/.cache/pip/wheels/27/ec/b3/d12cc8e4daf77846db6543033d3a5642f204c0320b15945647\n",
      "  Building wheel for sacremoses (setup.py) ... \u001b[?25l\u001b[?25hdone\n",
      "  Created wheel for sacremoses: filename=sacremoses-0.0.43-cp36-none-any.whl size=893257 sha256=b80faa09ebe94c6c54005d8edf213e2c423a94848266f87471a0d72a470aebea\n",
      "  Stored in directory: /root/.cache/pip/wheels/29/3c/fd/7ce5c3f0666dab31a50123635e6fb5e19ceb42ce38d4e58f45\n",
      "Successfully built sentence-transformers sacremoses\n",
      "Installing collected packages: tokenizers, sentencepiece, sacremoses, transformers, sentence-transformers\n",
      "Successfully installed sacremoses-0.0.43 sentence-transformers-0.3.8 sentencepiece-0.1.94 tokenizers-0.8.1rc2 transformers-3.3.1\n"
     ]
    }
   ],
   "source": [
    "! pip3 install sentence_transformers"
   ]
  },
  {
   "cell_type": "code",
   "execution_count": 2,
   "metadata": {
    "executionInfo": {
     "elapsed": 6567,
     "status": "ok",
     "timestamp": 1605509700908,
     "user": {
      "displayName": "Yuxin JIANG",
      "photoUrl": "",
      "userId": "08237551511886881536"
     },
     "user_tz": -480
    },
    "id": "u1MTfLvm8nEB"
   },
   "outputs": [],
   "source": [
    "import os\n",
    "import pickle\n",
    "import re\n",
    "import time\n",
    "import datetime\n",
    "import random\n",
    "import pandas as pd\n",
    "import numpy as np\n",
    "import matplotlib.pyplot as plt\n",
    "\n",
    "from sklearn.model_selection import train_test_split\n",
    "from sklearn.decomposition import PCA\n",
    "from collections import Counter\n",
    "\n",
    "import tensorflow as tf\n",
    "from tensorflow import keras\n",
    "from tensorflow.python.ops import math_ops\n",
    "from tensorflow.python.ops import summary_ops_v2\n",
    "\n",
    "from sentence_transformers import SentenceTransformer, models"
   ]
  },
  {
   "cell_type": "markdown",
   "metadata": {
    "id": "mqSQJvW58nEo"
   },
   "source": [
    "## **1. Data Preparing**"
   ]
  },
  {
   "cell_type": "markdown",
   "metadata": {
    "id": "n8sdu6nE8nEr"
   },
   "source": [
    "### 1.1 查看数据\n",
    "本项目使用的是MovieLens 1M 数据集，包含6000个用户在近4000部电影上的1亿条评论。\n",
    "\n",
    "数据集分为三个文件：用户数据users.dat，电影数据movies.dat和评分数据ratings.dat。"
   ]
  },
  {
   "cell_type": "code",
   "execution_count": 3,
   "metadata": {
    "colab": {
     "base_uri": "https://localhost:8080/"
    },
    "executionInfo": {
     "elapsed": 16446,
     "status": "ok",
     "timestamp": 1605509721040,
     "user": {
      "displayName": "Yuxin JIANG",
      "photoUrl": "",
      "userId": "08237551511886881536"
     },
     "user_tz": -480
    },
    "id": "rphfmY4qPjgQ",
    "outputId": "c48d7e21-c58f-477d-83b8-6792f1cad662"
   },
   "outputs": [
    {
     "name": "stdout",
     "output_type": "stream",
     "text": [
      "Mounted at /content/drive/\n"
     ]
    }
   ],
   "source": [
    "from google.colab import drive\n",
    "drive.mount('/content/drive/')"
   ]
  },
  {
   "cell_type": "code",
   "execution_count": 4,
   "metadata": {
    "colab": {
     "base_uri": "https://localhost:8080/"
    },
    "executionInfo": {
     "elapsed": 2630,
     "status": "ok",
     "timestamp": 1605509721041,
     "user": {
      "displayName": "Yuxin JIANG",
      "photoUrl": "",
      "userId": "08237551511886881536"
     },
     "user_tz": -480
    },
    "id": "Pge1Z62APkLX",
    "outputId": "c4c0425d-a2ed-4473-d11d-fd405fe18e43"
   },
   "outputs": [
    {
     "name": "stdout",
     "output_type": "stream",
     "text": [
      "/content/drive/My Drive/Movie_lens\n"
     ]
    }
   ],
   "source": [
    "%cd '/content/drive/My Drive/Movie_lens/'"
   ]
  },
  {
   "cell_type": "markdown",
   "metadata": {
    "id": "RhP5glF28nEt"
   },
   "source": [
    "#### 1.1.1 用户数据\n",
    "分别有用户ID、性别、年龄、职业ID和邮编等字段。\n",
    "\n",
    "数据中的格式：UserID::Gender::Age::Occupation::Zip-code\n",
    "\n",
    "- Gender is denoted by a \"M\" for male and \"F\" for female\n",
    "- Age is chosen from the following ranges:\n",
    "\n",
    "\t*  1:  \"Under 18\"\n",
    "\t* 18:  \"18-24\"\n",
    "\t* 25:  \"25-34\"\n",
    "\t* 35:  \"35-44\"\n",
    "\t* 45:  \"45-49\"\n",
    "\t* 50:  \"50-55\"\n",
    "\t* 56:  \"56+\"\n",
    "\n",
    "- Occupation is chosen from the following choices:\n",
    "\n",
    "\t*  0:  \"other\" or not specified\n",
    "\t*  1:  \"academic/educator\"\n",
    "\t*  2:  \"artist\"\n",
    "\t*  3:  \"clerical/admin\"\n",
    "\t*  4:  \"college/grad student\"\n",
    "\t*  5:  \"customer service\"\n",
    "\t*  6:  \"doctor/health care\"\n",
    "\t*  7:  \"executive/managerial\"\n",
    "\t*  8:  \"farmer\"\n",
    "\t*  9:  \"homemaker\"\n",
    "\t* 10:  \"K-12 student\"\n",
    "\t* 11:  \"lawyer\"\n",
    "\t* 12:  \"programmer\"\n",
    "\t* 13:  \"retired\"\n",
    "\t* 14:  \"sales/marketing\"\n",
    "\t* 15:  \"scientist\"\n",
    "\t* 16:  \"self-employed\"\n",
    "\t* 17:  \"technician/engineer\"\n",
    "\t* 18:  \"tradesman/craftsman\"\n",
    "\t* 19:  \"unemployed\"\n",
    "\t* 20:  \"writer\"\n",
    "\n"
   ]
  },
  {
   "cell_type": "code",
   "execution_count": 5,
   "metadata": {
    "colab": {
     "base_uri": "https://localhost:8080/",
     "height": 206
    },
    "executionInfo": {
     "elapsed": 969,
     "status": "ok",
     "timestamp": 1605509726989,
     "user": {
      "displayName": "Yuxin JIANG",
      "photoUrl": "",
      "userId": "08237551511886881536"
     },
     "user_tz": -480
    },
    "id": "qa2jymbs8nEt",
    "outputId": "ce74fca9-e44c-428a-c05c-0790d0a6d1e8"
   },
   "outputs": [
    {
     "data": {
      "text/html": [
       "<div>\n",
       "<style scoped>\n",
       "    .dataframe tbody tr th:only-of-type {\n",
       "        vertical-align: middle;\n",
       "    }\n",
       "\n",
       "    .dataframe tbody tr th {\n",
       "        vertical-align: top;\n",
       "    }\n",
       "\n",
       "    .dataframe thead th {\n",
       "        text-align: right;\n",
       "    }\n",
       "</style>\n",
       "<table border=\"1\" class=\"dataframe\">\n",
       "  <thead>\n",
       "    <tr style=\"text-align: right;\">\n",
       "      <th></th>\n",
       "      <th>UserID</th>\n",
       "      <th>Gender</th>\n",
       "      <th>Age</th>\n",
       "      <th>OccupationID</th>\n",
       "      <th>Zip-code</th>\n",
       "    </tr>\n",
       "  </thead>\n",
       "  <tbody>\n",
       "    <tr>\n",
       "      <th>0</th>\n",
       "      <td>1</td>\n",
       "      <td>F</td>\n",
       "      <td>1</td>\n",
       "      <td>10</td>\n",
       "      <td>48067</td>\n",
       "    </tr>\n",
       "    <tr>\n",
       "      <th>1</th>\n",
       "      <td>2</td>\n",
       "      <td>M</td>\n",
       "      <td>56</td>\n",
       "      <td>16</td>\n",
       "      <td>70072</td>\n",
       "    </tr>\n",
       "    <tr>\n",
       "      <th>2</th>\n",
       "      <td>3</td>\n",
       "      <td>M</td>\n",
       "      <td>25</td>\n",
       "      <td>15</td>\n",
       "      <td>55117</td>\n",
       "    </tr>\n",
       "    <tr>\n",
       "      <th>3</th>\n",
       "      <td>4</td>\n",
       "      <td>M</td>\n",
       "      <td>45</td>\n",
       "      <td>7</td>\n",
       "      <td>02460</td>\n",
       "    </tr>\n",
       "    <tr>\n",
       "      <th>4</th>\n",
       "      <td>5</td>\n",
       "      <td>M</td>\n",
       "      <td>25</td>\n",
       "      <td>20</td>\n",
       "      <td>55455</td>\n",
       "    </tr>\n",
       "  </tbody>\n",
       "</table>\n",
       "</div>"
      ],
      "text/plain": [
       "   UserID Gender  Age  OccupationID Zip-code\n",
       "0       1      F    1            10    48067\n",
       "1       2      M   56            16    70072\n",
       "2       3      M   25            15    55117\n",
       "3       4      M   45             7    02460\n",
       "4       5      M   25            20    55455"
      ]
     },
     "execution_count": 5,
     "metadata": {
      "tags": []
     },
     "output_type": "execute_result"
    }
   ],
   "source": [
    "users_title = ['UserID', 'Gender', 'Age', 'OccupationID', 'Zip-code']\n",
    "users = pd.read_csv('./ml-1m/users.dat', sep='::', header=None, names=users_title, engine = 'python')\n",
    "users.head()"
   ]
  },
  {
   "cell_type": "markdown",
   "metadata": {
    "id": "6fxSVkf48nE7"
   },
   "source": [
    "可以看出UserID、Gender、Age和Occupation都是类别字段，其中邮编字段是我们不使用的。"
   ]
  },
  {
   "cell_type": "markdown",
   "metadata": {
    "id": "MGH3lKIi8nE7"
   },
   "source": [
    "#### 1.1.2 电影数据\n",
    "分别有电影ID、电影名和电影风格等字段。\n",
    "\n",
    "数据中的格式：MovieID::Title::Genres\n",
    "\n",
    "- Titles are identical to titles provided by the IMDB (including\n",
    "year of release)\n",
    "- Genres are pipe-separated and are selected from the following genres:\n",
    "\n",
    "\t* Action\n",
    "\t* Adventure\n",
    "\t* Animation\n",
    "\t* Children's\n",
    "\t* Comedy\n",
    "\t* Crime\n",
    "\t* Documentary\n",
    "\t* Drama\n",
    "\t* Fantasy\n",
    "\t* Film-Noir\n",
    "\t* Horror\n",
    "\t* Musical\n",
    "\t* Mystery\n",
    "\t* Romance\n",
    "\t* Sci-Fi\n",
    "\t* Thriller\n",
    "\t* War\n",
    "\t* Western\n"
   ]
  },
  {
   "cell_type": "code",
   "execution_count": 6,
   "metadata": {
    "colab": {
     "base_uri": "https://localhost:8080/",
     "height": 206
    },
    "executionInfo": {
     "elapsed": 972,
     "status": "ok",
     "timestamp": 1605509731083,
     "user": {
      "displayName": "Yuxin JIANG",
      "photoUrl": "",
      "userId": "08237551511886881536"
     },
     "user_tz": -480
    },
    "id": "CIkC6u2j8nE9",
    "outputId": "e4108b0c-8e72-4e22-ef24-cbe6d366401c"
   },
   "outputs": [
    {
     "data": {
      "text/html": [
       "<div>\n",
       "<style scoped>\n",
       "    .dataframe tbody tr th:only-of-type {\n",
       "        vertical-align: middle;\n",
       "    }\n",
       "\n",
       "    .dataframe tbody tr th {\n",
       "        vertical-align: top;\n",
       "    }\n",
       "\n",
       "    .dataframe thead th {\n",
       "        text-align: right;\n",
       "    }\n",
       "</style>\n",
       "<table border=\"1\" class=\"dataframe\">\n",
       "  <thead>\n",
       "    <tr style=\"text-align: right;\">\n",
       "      <th></th>\n",
       "      <th>MovieID</th>\n",
       "      <th>Title</th>\n",
       "      <th>Genres</th>\n",
       "    </tr>\n",
       "  </thead>\n",
       "  <tbody>\n",
       "    <tr>\n",
       "      <th>0</th>\n",
       "      <td>1</td>\n",
       "      <td>Toy Story (1995)</td>\n",
       "      <td>Animation|Children's|Comedy</td>\n",
       "    </tr>\n",
       "    <tr>\n",
       "      <th>1</th>\n",
       "      <td>2</td>\n",
       "      <td>Jumanji (1995)</td>\n",
       "      <td>Adventure|Children's|Fantasy</td>\n",
       "    </tr>\n",
       "    <tr>\n",
       "      <th>2</th>\n",
       "      <td>3</td>\n",
       "      <td>Grumpier Old Men (1995)</td>\n",
       "      <td>Comedy|Romance</td>\n",
       "    </tr>\n",
       "    <tr>\n",
       "      <th>3</th>\n",
       "      <td>4</td>\n",
       "      <td>Waiting to Exhale (1995)</td>\n",
       "      <td>Comedy|Drama</td>\n",
       "    </tr>\n",
       "    <tr>\n",
       "      <th>4</th>\n",
       "      <td>5</td>\n",
       "      <td>Father of the Bride Part II (1995)</td>\n",
       "      <td>Comedy</td>\n",
       "    </tr>\n",
       "  </tbody>\n",
       "</table>\n",
       "</div>"
      ],
      "text/plain": [
       "   MovieID                               Title                        Genres\n",
       "0        1                    Toy Story (1995)   Animation|Children's|Comedy\n",
       "1        2                      Jumanji (1995)  Adventure|Children's|Fantasy\n",
       "2        3             Grumpier Old Men (1995)                Comedy|Romance\n",
       "3        4            Waiting to Exhale (1995)                  Comedy|Drama\n",
       "4        5  Father of the Bride Part II (1995)                        Comedy"
      ]
     },
     "execution_count": 6,
     "metadata": {
      "tags": []
     },
     "output_type": "execute_result"
    }
   ],
   "source": [
    "movies_title = ['MovieID', 'Title', 'Genres']\n",
    "movies = pd.read_csv('./ml-1m/movies.dat', sep='::', header=None, names=movies_title, engine = 'python')\n",
    "movies.head()"
   ]
  },
  {
   "cell_type": "markdown",
   "metadata": {
    "id": "WA_PDU628nFI"
   },
   "source": [
    "MovieID是类别字段，Title是文本，Genres也是类别字段"
   ]
  },
  {
   "cell_type": "markdown",
   "metadata": {
    "id": "znWeBiEq8nFL"
   },
   "source": [
    "#### 1.1.3 评分数据\n",
    "分别有用户ID、电影ID、评分和时间戳等字段。\n",
    "\n",
    "数据中的格式：UserID::MovieID::Rating::Timestamp\n",
    "\n",
    "- UserIDs range between 1 and 6040 \n",
    "- MovieIDs range between 1 and 3952\n",
    "- Ratings are made on a 5-star scale (whole-star ratings only)\n",
    "- Timestamp is represented in seconds since the epoch as returned by time(2)\n",
    "- Each user has at least 20 ratings"
   ]
  },
  {
   "cell_type": "code",
   "execution_count": 7,
   "metadata": {
    "colab": {
     "base_uri": "https://localhost:8080/",
     "height": 206
    },
    "executionInfo": {
     "elapsed": 6497,
     "status": "ok",
     "timestamp": 1605509739828,
     "user": {
      "displayName": "Yuxin JIANG",
      "photoUrl": "",
      "userId": "08237551511886881536"
     },
     "user_tz": -480
    },
    "id": "3KUyiMKA8nFL",
    "outputId": "2248226b-0d14-4de4-a76a-e0befb53e55c"
   },
   "outputs": [
    {
     "data": {
      "text/html": [
       "<div>\n",
       "<style scoped>\n",
       "    .dataframe tbody tr th:only-of-type {\n",
       "        vertical-align: middle;\n",
       "    }\n",
       "\n",
       "    .dataframe tbody tr th {\n",
       "        vertical-align: top;\n",
       "    }\n",
       "\n",
       "    .dataframe thead th {\n",
       "        text-align: right;\n",
       "    }\n",
       "</style>\n",
       "<table border=\"1\" class=\"dataframe\">\n",
       "  <thead>\n",
       "    <tr style=\"text-align: right;\">\n",
       "      <th></th>\n",
       "      <th>UserID</th>\n",
       "      <th>MovieID</th>\n",
       "      <th>Rating</th>\n",
       "      <th>timestamps</th>\n",
       "    </tr>\n",
       "  </thead>\n",
       "  <tbody>\n",
       "    <tr>\n",
       "      <th>0</th>\n",
       "      <td>1</td>\n",
       "      <td>1193</td>\n",
       "      <td>5</td>\n",
       "      <td>978300760</td>\n",
       "    </tr>\n",
       "    <tr>\n",
       "      <th>1</th>\n",
       "      <td>1</td>\n",
       "      <td>661</td>\n",
       "      <td>3</td>\n",
       "      <td>978302109</td>\n",
       "    </tr>\n",
       "    <tr>\n",
       "      <th>2</th>\n",
       "      <td>1</td>\n",
       "      <td>914</td>\n",
       "      <td>3</td>\n",
       "      <td>978301968</td>\n",
       "    </tr>\n",
       "    <tr>\n",
       "      <th>3</th>\n",
       "      <td>1</td>\n",
       "      <td>3408</td>\n",
       "      <td>4</td>\n",
       "      <td>978300275</td>\n",
       "    </tr>\n",
       "    <tr>\n",
       "      <th>4</th>\n",
       "      <td>1</td>\n",
       "      <td>2355</td>\n",
       "      <td>5</td>\n",
       "      <td>978824291</td>\n",
       "    </tr>\n",
       "  </tbody>\n",
       "</table>\n",
       "</div>"
      ],
      "text/plain": [
       "   UserID  MovieID  Rating  timestamps\n",
       "0       1     1193       5   978300760\n",
       "1       1      661       3   978302109\n",
       "2       1      914       3   978301968\n",
       "3       1     3408       4   978300275\n",
       "4       1     2355       5   978824291"
      ]
     },
     "execution_count": 7,
     "metadata": {
      "tags": []
     },
     "output_type": "execute_result"
    }
   ],
   "source": [
    "ratings_title = ['UserID','MovieID', 'Rating', 'timestamps']\n",
    "ratings = pd.read_csv('./ml-1m/ratings.dat', sep='::', header=None, names=ratings_title, engine = 'python')\n",
    "ratings.head()"
   ]
  },
  {
   "cell_type": "markdown",
   "metadata": {
    "id": "2GtONG2S8nFW"
   },
   "source": [
    "评分字段Rating就是我们要学习的targets，时间戳字段我们不使用。"
   ]
  },
  {
   "cell_type": "markdown",
   "metadata": {
    "id": "4bWmdGHf8nFY"
   },
   "source": [
    "### 1.2 数据预处理"
   ]
  },
  {
   "cell_type": "markdown",
   "metadata": {
    "id": "I8AgRCWN8nFb"
   },
   "source": [
    "- UserID、Occupation和MovieID不用变。\n",
    "- Gender字段：需要将‘F’和‘M’转换成0和1。\n",
    "- Age字段：要转成7个连续数字0~6。\n",
    "- Genres字段：是分类字段，使用One-hot embedding转成数字。\n",
    "- Title字段：使用Sentence BERT转成句向量。"
   ]
  },
  {
   "cell_type": "markdown",
   "metadata": {
    "id": "mP5tJTg7V-1m"
   },
   "source": [
    "#### 1.2.1 User dataset预处理"
   ]
  },
  {
   "cell_type": "code",
   "execution_count": 8,
   "metadata": {
    "executionInfo": {
     "elapsed": 1136,
     "status": "ok",
     "timestamp": 1605509743932,
     "user": {
      "displayName": "Yuxin JIANG",
      "photoUrl": "",
      "userId": "08237551511886881536"
     },
     "user_tz": -480
    },
    "id": "LSy4sBHqV92R"
   },
   "outputs": [],
   "source": [
    "#读取User数据\n",
    "users_title = ['UserID', 'Gender', 'Age', 'JobID', 'Zip-code']\n",
    "users = pd.read_csv('./ml-1m/users.dat', sep='::', header=None, names=users_title, engine = 'python')\n",
    "users = users.filter(regex='UserID|Gender|Age|JobID')\n",
    "users_orig = users.values\n",
    "#改变User数据中性别和年龄\n",
    "gender_map = {'F':0, 'M':1}\n",
    "users['Gender'] = users['Gender'].map(gender_map)\n",
    "\n",
    "age_map = {val:ii for ii,val in enumerate(set(users['Age']))}\n",
    "users['Age'] = users['Age'].map(age_map)"
   ]
  },
  {
   "cell_type": "markdown",
   "metadata": {
    "id": "sGlHAspqW_FH"
   },
   "source": [
    "#### 1.2.2 Movie dataset预处理"
   ]
  },
  {
   "cell_type": "code",
   "execution_count": 9,
   "metadata": {
    "executionInfo": {
     "elapsed": 876,
     "status": "ok",
     "timestamp": 1605509747299,
     "user": {
      "displayName": "Yuxin JIANG",
      "photoUrl": "",
      "userId": "08237551511886881536"
     },
     "user_tz": -480
    },
    "id": "wg6Uuhu9XExJ"
   },
   "outputs": [],
   "source": [
    "#读取Movie数据\n",
    "movies_title = ['MovieID', 'Title', 'Genres']\n",
    "movies = pd.read_csv('./ml-1m/movies.dat', sep='::', header=None, names=movies_title, engine = 'python')\n",
    "movies_orig = movies.values"
   ]
  },
  {
   "cell_type": "markdown",
   "metadata": {
    "id": "rThVfeq9Rjzd"
   },
   "source": [
    "##### 1.2.2.1 Movie dataset 中Title字段处理"
   ]
  },
  {
   "cell_type": "code",
   "execution_count": 10,
   "metadata": {
    "executionInfo": {
     "elapsed": 935,
     "status": "ok",
     "timestamp": 1605509749434,
     "user": {
      "displayName": "Yuxin JIANG",
      "photoUrl": "",
      "userId": "08237551511886881536"
     },
     "user_tz": -480
    },
    "id": "5CAssjkObOam"
   },
   "outputs": [],
   "source": [
    "#将Title中的年份去掉\n",
    "pattern = re.compile(r'^(.*)\\((\\d+)\\)$')\n",
    "title_map = {val:pattern.match(val).group(1) for ii,val in enumerate(set(movies['Title']))}\n",
    "movies['Title'] = movies['Title'].map(title_map)"
   ]
  },
  {
   "cell_type": "code",
   "execution_count": 11,
   "metadata": {
    "colab": {
     "base_uri": "https://localhost:8080/",
     "height": 168,
     "referenced_widgets": [
      "80acd9370fbe4993b0f228c448904923",
      "0d0e5981669b413e80712704aac40df6",
      "070795ba80b34e2e8bfcc7cc84fdc6f1",
      "9f30ae648ad247ed89bf88c2fd5b1a1d",
      "67996e5c2f5e452882ba3b4f716b7ce0",
      "0fad55bfb5054db9beda3e9706740290",
      "75b37f74df754bbbad269dbe0e77dcc5",
      "408810d8df5b4c47aebf8bcd54a6a6e5",
      "8b81bd05377b423b92d210ee6026d215",
      "afe11a55aec842fa8691a8a13771a06f",
      "55f2949c3bbc45d380f96120fde9cb0c",
      "c340f86e52204715a4169a2a6c02c9a4",
      "b1d905aa87514c4195b4f55d5bd2e4d0",
      "37c0d6c06d5b4335995f6f72b93552d7",
      "98ef0c080aad443ea696c4aea9ff02c6",
      "b323f97c4ae84d79804664d498bec7ff",
      "fd9cf9cb927446cab1c7d98154bac52e",
      "f613a44183e14483b61dce20310541af",
      "427e49fdfc9a4ac7bddcefe75229c580",
      "1d22891a64d54aa8b513b2b0f7c7b1de",
      "4e0c8de536974c26afe729920729e108",
      "094f0232621b47408ddf6cf42b20d2c6",
      "316aa3b6500447a59d8e83449302db4e",
      "bca663fa5bb44cb5bab7337a9edff9ba"
     ]
    },
    "executionInfo": {
     "elapsed": 159605,
     "status": "ok",
     "timestamp": 1605509910317,
     "user": {
      "displayName": "Yuxin JIANG",
      "photoUrl": "",
      "userId": "08237551511886881536"
     },
     "user_tz": -480
    },
    "id": "DOiDJHUjY7z-",
    "outputId": "549b3713-596f-4aa2-abe6-83e04ae2521b"
   },
   "outputs": [
    {
     "data": {
      "application/vnd.jupyter.widget-view+json": {
       "model_id": "80acd9370fbe4993b0f228c448904923",
       "version_major": 2,
       "version_minor": 0
      },
      "text/plain": [
       "HBox(children=(FloatProgress(value=0.0, description='Downloading', max=433.0, style=ProgressStyle(description_…"
      ]
     },
     "metadata": {
      "tags": []
     },
     "output_type": "display_data"
    },
    {
     "name": "stdout",
     "output_type": "stream",
     "text": [
      "\n"
     ]
    },
    {
     "data": {
      "application/vnd.jupyter.widget-view+json": {
       "model_id": "8b81bd05377b423b92d210ee6026d215",
       "version_major": 2,
       "version_minor": 0
      },
      "text/plain": [
       "HBox(children=(FloatProgress(value=0.0, description='Downloading', max=440473133.0, style=ProgressStyle(descri…"
      ]
     },
     "metadata": {
      "tags": []
     },
     "output_type": "display_data"
    },
    {
     "name": "stdout",
     "output_type": "stream",
     "text": [
      "\n"
     ]
    },
    {
     "data": {
      "application/vnd.jupyter.widget-view+json": {
       "model_id": "fd9cf9cb927446cab1c7d98154bac52e",
       "version_major": 2,
       "version_minor": 0
      },
      "text/plain": [
       "HBox(children=(FloatProgress(value=0.0, description='Downloading', max=231508.0, style=ProgressStyle(descripti…"
      ]
     },
     "metadata": {
      "tags": []
     },
     "output_type": "display_data"
    },
    {
     "name": "stdout",
     "output_type": "stream",
     "text": [
      "\n"
     ]
    }
   ],
   "source": [
    "word_embedding_model = models.Transformer('bert-base-uncased', max_seq_length = 16) # 定义embedding模型\n",
    "pooling_model = models.Pooling(word_embedding_model.get_word_embedding_dimension()) # 定义pooling层\n",
    "model = SentenceTransformer(modules=[word_embedding_model, pooling_model]) # 总模型\n",
    "\n",
    "title_encoded=model.encode(movies.Title[:]) # 对Title进行embedding"
   ]
  },
  {
   "cell_type": "code",
   "execution_count": 12,
   "metadata": {
    "colab": {
     "base_uri": "https://localhost:8080/"
    },
    "executionInfo": {
     "elapsed": 753,
     "status": "ok",
     "timestamp": 1605509915524,
     "user": {
      "displayName": "Yuxin JIANG",
      "photoUrl": "",
      "userId": "08237551511886881536"
     },
     "user_tz": -480
    },
    "id": "poQDSHdqSJaH",
    "outputId": "a0a2db99-c72e-4519-efb0-8fa7d1befa38"
   },
   "outputs": [
    {
     "data": {
      "text/plain": [
       "(768,)"
      ]
     },
     "execution_count": 12,
     "metadata": {
      "tags": []
     },
     "output_type": "execute_result"
    }
   ],
   "source": [
    "\"\"\"\n",
    "Sentence BERT模型的原理是：\n",
    "将一个句子经过BERT网络，得到每个token的embedding(768维)，对token embedding使用mean_over_time pooling得到整个句子的embedding(768维)\n",
    "\"\"\"\n",
    "title_encoded[0].shape"
   ]
  },
  {
   "cell_type": "code",
   "execution_count": 13,
   "metadata": {
    "colab": {
     "base_uri": "https://localhost:8080/"
    },
    "executionInfo": {
     "elapsed": 715,
     "status": "ok",
     "timestamp": 1605509917860,
     "user": {
      "displayName": "Yuxin JIANG",
      "photoUrl": "",
      "userId": "08237551511886881536"
     },
     "user_tz": -480
    },
    "id": "TQjlDQ2eWW14",
    "outputId": "6d4f31a7-e2c0-4877-c964-887e6f4bd02f"
   },
   "outputs": [
    {
     "name": "stdout",
     "output_type": "stream",
     "text": [
      "[0.11573161 0.05511457]\n"
     ]
    }
   ],
   "source": [
    "#使用PCA将每个句子的embedding降到2维，可视化Sentence BERT embedding的效果\n",
    "pca = PCA(n_components=2)\n",
    "pca.fit(title_encoded)\n",
    "print(pca.explained_variance_ratio_)"
   ]
  },
  {
   "cell_type": "code",
   "execution_count": 14,
   "metadata": {
    "colab": {
     "base_uri": "https://localhost:8080/",
     "height": 592
    },
    "executionInfo": {
     "elapsed": 1821,
     "status": "ok",
     "timestamp": 1605509921173,
     "user": {
      "displayName": "Yuxin JIANG",
      "photoUrl": "",
      "userId": "08237551511886881536"
     },
     "user_tz": -480
    },
    "id": "fam5iBueeKVZ",
    "outputId": "2bd68053-adb8-445e-9cd5-5ced1988fe9d"
   },
   "outputs": [
    {
     "data": {
      "image/png": "[encoded data removed]",
      "text/plain": [
       "<Figure size 720x720 with 1 Axes>"
      ]
     },
     "metadata": {
      "needs_background": "light",
      "tags": []
     },
     "output_type": "display_data"
    }
   ],
   "source": [
    "#可视化50个Title embedding的效果\n",
    "plot_only = 50\n",
    "low_dim_embs = pca.fit_transform(title_encoded[:plot_only])\n",
    "labels = [movies.Title[i] for i in range(plot_only)]\n",
    "\n",
    "plt.figure(figsize=(10, 10))\n",
    "for i, label in enumerate(labels):\n",
    "  x, y = low_dim_embs[i, :]\n",
    "  plt.scatter(x, y)\n",
    "  plt.annotate(label,xy=(x, y),xytext=(5, 2),textcoords='offset points',ha='right',va='bottom')"
   ]
  },
  {
   "cell_type": "markdown",
   "metadata": {
    "id": "hUTHS-XiWjgn"
   },
   "source": [
    "##### 1.2.2.2 Movie dataset 中其他字段处理"
   ]
  },
  {
   "cell_type": "code",
   "execution_count": null,
   "metadata": {
    "id": "bGV2Yyf4WmFq"
   },
   "outputs": [],
   "source": [
    "#电影类型one-hot编码\n",
    "movies.Genres=movies.Genres.apply(lambda x: x.split('|'))\n",
    "genres=[\n",
    "    'Action',\n",
    "    'Adventure',\n",
    "    'Animation',\n",
    "    \"Children's\",\n",
    "    'Comedy',\n",
    "    'Crime',\n",
    "    'Documentary',\n",
    "    'Drama',\n",
    "    'Fantasy',\n",
    "    'Film-Noir',\n",
    "    'Horror',\n",
    "    'Musical',\n",
    "    'Mystery',\n",
    "    'Romance',\n",
    "    'Sci-Fi',\n",
    "    'Thriller',\n",
    "    'War',\n",
    "    'Western'\n",
    "    ]\n",
    "for i in genres:\n",
    "  movies[i] = movies.Genres.apply(lambda x: i in x).astype(int)\n",
    "\n",
    "classes = movies.iloc[:,3:].values\n",
    "movies['Action']=movies['Action'].astype(object)\n",
    "for i in range(len(movies)):\n",
    "  movies['Action'][i]=classes[i]\n",
    "    \n",
    "movies.drop(columns=['Genres','Adventure',\n",
    "    'Animation',\n",
    "    \"Children's\",\n",
    "    'Comedy',\n",
    "    'Crime',\n",
    "    'Documentary',\n",
    "    'Drama',\n",
    "    'Fantasy',\n",
    "    'Film-Noir',\n",
    "    'Horror',\n",
    "    'Musical',\n",
    "    'Mystery',\n",
    "    'Romance',\n",
    "    'Sci-Fi',\n",
    "    'Thriller',\n",
    "    'War',\n",
    "    'Western'],inplace=True)\n",
    "\n",
    "movies = movies.rename(columns={'Action':'category'})"
   ]
  },
  {
   "cell_type": "code",
   "execution_count": 16,
   "metadata": {
    "colab": {
     "base_uri": "https://localhost:8080/"
    },
    "executionInfo": {
     "elapsed": 1044,
     "status": "ok",
     "timestamp": 1605509943719,
     "user": {
      "displayName": "Yuxin JIANG",
      "photoUrl": "",
      "userId": "08237551511886881536"
     },
     "user_tz": -480
    },
    "id": "xTrHFyR1WzWr",
    "outputId": "20a97f8d-815c-4d91-f675-1b366ce8b972"
   },
   "outputs": [
    {
     "name": "stderr",
     "output_type": "stream",
     "text": [
      "/usr/local/lib/python3.6/dist-packages/ipykernel_launcher.py:3: SettingWithCopyWarning: \n",
      "A value is trying to be set on a copy of a slice from a DataFrame\n",
      "\n",
      "See the caveats in the documentation: https://pandas.pydata.org/pandas-docs/stable/user_guide/indexing.html#returning-a-view-versus-a-copy\n",
      "  This is separate from the ipykernel package so we can avoid doing imports until\n"
     ]
    }
   ],
   "source": [
    "#把Title换成embedding\n",
    "for i in range(len(movies)):\n",
    "  movies['Title'][i] = title_encoded[i]"
   ]
  },
  {
   "cell_type": "markdown",
   "metadata": {
    "id": "SQD77iLUVojm"
   },
   "source": [
    "#### 1.2.3 Dataset合并"
   ]
  },
  {
   "cell_type": "code",
   "execution_count": 22,
   "metadata": {
    "executionInfo": {
     "elapsed": 5785,
     "status": "ok",
     "timestamp": 1605510042864,
     "user": {
      "displayName": "Yuxin JIANG",
      "photoUrl": "",
      "userId": "08237551511886881536"
     },
     "user_tz": -480
    },
    "id": "O3SI8BXqd0z0"
   },
   "outputs": [],
   "source": [
    "#读取评分数据集\n",
    "ratings_title = ['UserID','MovieID', 'ratings', 'timestamps']\n",
    "ratings = pd.read_csv('./ml-1m/ratings.dat', sep='::', header=None, names=ratings_title, engine = 'python')\n",
    "ratings = ratings.filter(regex='UserID|MovieID|ratings')\n",
    "\n",
    "#合并三个表\n",
    "data = pd.merge(pd.merge(ratings, users), movies)\n",
    "    \n",
    "#将数据分成feature dataframe和target dataframe\n",
    "target_fields = ['ratings']\n",
    "features_pd, targets_pd = data.drop(target_fields, axis=1), data[target_fields]\n",
    "\n",
    "#转化成numpy数组\n",
    "features = features_pd.values\n",
    "targets_values = targets_pd.values"
   ]
  },
  {
   "cell_type": "markdown",
   "metadata": {
    "id": "w8ZCRBhq8nFx"
   },
   "source": [
    "#### 1.2.4 预处理后的数据一览"
   ]
  },
  {
   "cell_type": "code",
   "execution_count": 23,
   "metadata": {
    "colab": {
     "base_uri": "https://localhost:8080/",
     "height": 206
    },
    "executionInfo": {
     "elapsed": 657,
     "status": "ok",
     "timestamp": 1605510045753,
     "user": {
      "displayName": "Yuxin JIANG",
      "photoUrl": "",
      "userId": "08237551511886881536"
     },
     "user_tz": -480
    },
    "id": "VmcyIUWq8nF0",
    "outputId": "1387b2ea-0d7b-43dc-ddb6-5d239373754a"
   },
   "outputs": [
    {
     "data": {
      "text/html": [
       "<div>\n",
       "<style scoped>\n",
       "    .dataframe tbody tr th:only-of-type {\n",
       "        vertical-align: middle;\n",
       "    }\n",
       "\n",
       "    .dataframe tbody tr th {\n",
       "        vertical-align: top;\n",
       "    }\n",
       "\n",
       "    .dataframe thead th {\n",
       "        text-align: right;\n",
       "    }\n",
       "</style>\n",
       "<table border=\"1\" class=\"dataframe\">\n",
       "  <thead>\n",
       "    <tr style=\"text-align: right;\">\n",
       "      <th></th>\n",
       "      <th>UserID</th>\n",
       "      <th>Gender</th>\n",
       "      <th>Age</th>\n",
       "      <th>JobID</th>\n",
       "    </tr>\n",
       "  </thead>\n",
       "  <tbody>\n",
       "    <tr>\n",
       "      <th>0</th>\n",
       "      <td>1</td>\n",
       "      <td>0</td>\n",
       "      <td>0</td>\n",
       "      <td>10</td>\n",
       "    </tr>\n",
       "    <tr>\n",
       "      <th>1</th>\n",
       "      <td>2</td>\n",
       "      <td>1</td>\n",
       "      <td>5</td>\n",
       "      <td>16</td>\n",
       "    </tr>\n",
       "    <tr>\n",
       "      <th>2</th>\n",
       "      <td>3</td>\n",
       "      <td>1</td>\n",
       "      <td>6</td>\n",
       "      <td>15</td>\n",
       "    </tr>\n",
       "    <tr>\n",
       "      <th>3</th>\n",
       "      <td>4</td>\n",
       "      <td>1</td>\n",
       "      <td>2</td>\n",
       "      <td>7</td>\n",
       "    </tr>\n",
       "    <tr>\n",
       "      <th>4</th>\n",
       "      <td>5</td>\n",
       "      <td>1</td>\n",
       "      <td>6</td>\n",
       "      <td>20</td>\n",
       "    </tr>\n",
       "  </tbody>\n",
       "</table>\n",
       "</div>"
      ],
      "text/plain": [
       "   UserID  Gender  Age  JobID\n",
       "0       1       0    0     10\n",
       "1       2       1    5     16\n",
       "2       3       1    6     15\n",
       "3       4       1    2      7\n",
       "4       5       1    6     20"
      ]
     },
     "execution_count": 23,
     "metadata": {
      "tags": []
     },
     "output_type": "execute_result"
    }
   ],
   "source": [
    "users.head()"
   ]
  },
  {
   "cell_type": "code",
   "execution_count": 24,
   "metadata": {
    "colab": {
     "base_uri": "https://localhost:8080/",
     "height": 206
    },
    "executionInfo": {
     "elapsed": 515,
     "status": "ok",
     "timestamp": 1605510046945,
     "user": {
      "displayName": "Yuxin JIANG",
      "photoUrl": "",
      "userId": "08237551511886881536"
     },
     "user_tz": -480
    },
    "id": "b-teBva59DXA",
    "outputId": "dec0a0b3-3a28-4055-a64f-1556396d0373"
   },
   "outputs": [
    {
     "data": {
      "text/html": [
       "<div>\n",
       "<style scoped>\n",
       "    .dataframe tbody tr th:only-of-type {\n",
       "        vertical-align: middle;\n",
       "    }\n",
       "\n",
       "    .dataframe tbody tr th {\n",
       "        vertical-align: top;\n",
       "    }\n",
       "\n",
       "    .dataframe thead th {\n",
       "        text-align: right;\n",
       "    }\n",
       "</style>\n",
       "<table border=\"1\" class=\"dataframe\">\n",
       "  <thead>\n",
       "    <tr style=\"text-align: right;\">\n",
       "      <th></th>\n",
       "      <th>MovieID</th>\n",
       "      <th>Title</th>\n",
       "      <th>category</th>\n",
       "    </tr>\n",
       "  </thead>\n",
       "  <tbody>\n",
       "    <tr>\n",
       "      <th>0</th>\n",
       "      <td>1</td>\n",
       "      <td>[0.13749585, -0.10785753, -0.25206077, -0.1367...</td>\n",
       "      <td>[0, 0, 1, 1, 1, 0, 0, 0, 0, 0, 0, 0, 0, 0, 0, ...</td>\n",
       "    </tr>\n",
       "    <tr>\n",
       "      <th>1</th>\n",
       "      <td>2</td>\n",
       "      <td>[-0.097109795, -0.5188881, -0.30558717, -0.261...</td>\n",
       "      <td>[0, 1, 0, 1, 0, 0, 0, 0, 1, 0, 0, 0, 0, 0, 0, ...</td>\n",
       "    </tr>\n",
       "    <tr>\n",
       "      <th>2</th>\n",
       "      <td>3</td>\n",
       "      <td>[-0.11809706, 0.104980096, 0.08601798, 0.02849...</td>\n",
       "      <td>[0, 0, 0, 0, 1, 0, 0, 0, 0, 0, 0, 0, 0, 1, 0, ...</td>\n",
       "    </tr>\n",
       "    <tr>\n",
       "      <th>3</th>\n",
       "      <td>4</td>\n",
       "      <td>[0.35723495, -0.14458236, 0.15157312, -0.09572...</td>\n",
       "      <td>[0, 0, 0, 0, 1, 0, 0, 1, 0, 0, 0, 0, 0, 0, 0, ...</td>\n",
       "    </tr>\n",
       "    <tr>\n",
       "      <th>4</th>\n",
       "      <td>5</td>\n",
       "      <td>[-0.546299, -0.3512171, 0.4043779, -0.2741943,...</td>\n",
       "      <td>[0, 0, 0, 0, 1, 0, 0, 0, 0, 0, 0, 0, 0, 0, 0, ...</td>\n",
       "    </tr>\n",
       "  </tbody>\n",
       "</table>\n",
       "</div>"
      ],
      "text/plain": [
       "   MovieID  ...                                           category\n",
       "0        1  ...  [0, 0, 1, 1, 1, 0, 0, 0, 0, 0, 0, 0, 0, 0, 0, ...\n",
       "1        2  ...  [0, 1, 0, 1, 0, 0, 0, 0, 1, 0, 0, 0, 0, 0, 0, ...\n",
       "2        3  ...  [0, 0, 0, 0, 1, 0, 0, 0, 0, 0, 0, 0, 0, 1, 0, ...\n",
       "3        4  ...  [0, 0, 0, 0, 1, 0, 0, 1, 0, 0, 0, 0, 0, 0, 0, ...\n",
       "4        5  ...  [0, 0, 0, 0, 1, 0, 0, 0, 0, 0, 0, 0, 0, 0, 0, ...\n",
       "\n",
       "[5 rows x 3 columns]"
      ]
     },
     "execution_count": 24,
     "metadata": {
      "tags": []
     },
     "output_type": "execute_result"
    }
   ],
   "source": [
    "movies.head()"
   ]
  },
  {
   "cell_type": "code",
   "execution_count": 25,
   "metadata": {
    "colab": {
     "base_uri": "https://localhost:8080/",
     "height": 206
    },
    "executionInfo": {
     "elapsed": 681,
     "status": "ok",
     "timestamp": 1605510048649,
     "user": {
      "displayName": "Yuxin JIANG",
      "photoUrl": "",
      "userId": "08237551511886881536"
     },
     "user_tz": -480
    },
    "id": "Mlqge92y8nF5",
    "outputId": "b8b19692-1a1e-4d16-9ed9-a33482170965"
   },
   "outputs": [
    {
     "data": {
      "text/html": [
       "<div>\n",
       "<style scoped>\n",
       "    .dataframe tbody tr th:only-of-type {\n",
       "        vertical-align: middle;\n",
       "    }\n",
       "\n",
       "    .dataframe tbody tr th {\n",
       "        vertical-align: top;\n",
       "    }\n",
       "\n",
       "    .dataframe thead th {\n",
       "        text-align: right;\n",
       "    }\n",
       "</style>\n",
       "<table border=\"1\" class=\"dataframe\">\n",
       "  <thead>\n",
       "    <tr style=\"text-align: right;\">\n",
       "      <th></th>\n",
       "      <th>UserID</th>\n",
       "      <th>MovieID</th>\n",
       "      <th>ratings</th>\n",
       "      <th>Gender</th>\n",
       "      <th>Age</th>\n",
       "      <th>JobID</th>\n",
       "      <th>Title</th>\n",
       "      <th>category</th>\n",
       "    </tr>\n",
       "  </thead>\n",
       "  <tbody>\n",
       "    <tr>\n",
       "      <th>0</th>\n",
       "      <td>1</td>\n",
       "      <td>1193</td>\n",
       "      <td>5</td>\n",
       "      <td>0</td>\n",
       "      <td>0</td>\n",
       "      <td>10</td>\n",
       "      <td>[0.33654428, 0.096753076, -0.31076264, -0.1392...</td>\n",
       "      <td>[0, 0, 0, 0, 0, 0, 0, 1, 0, 0, 0, 0, 0, 0, 0, ...</td>\n",
       "    </tr>\n",
       "    <tr>\n",
       "      <th>1</th>\n",
       "      <td>2</td>\n",
       "      <td>1193</td>\n",
       "      <td>5</td>\n",
       "      <td>1</td>\n",
       "      <td>5</td>\n",
       "      <td>16</td>\n",
       "      <td>[0.33654428, 0.096753076, -0.31076264, -0.1392...</td>\n",
       "      <td>[0, 0, 0, 0, 0, 0, 0, 1, 0, 0, 0, 0, 0, 0, 0, ...</td>\n",
       "    </tr>\n",
       "    <tr>\n",
       "      <th>2</th>\n",
       "      <td>12</td>\n",
       "      <td>1193</td>\n",
       "      <td>4</td>\n",
       "      <td>1</td>\n",
       "      <td>6</td>\n",
       "      <td>12</td>\n",
       "      <td>[0.33654428, 0.096753076, -0.31076264, -0.1392...</td>\n",
       "      <td>[0, 0, 0, 0, 0, 0, 0, 1, 0, 0, 0, 0, 0, 0, 0, ...</td>\n",
       "    </tr>\n",
       "    <tr>\n",
       "      <th>3</th>\n",
       "      <td>15</td>\n",
       "      <td>1193</td>\n",
       "      <td>4</td>\n",
       "      <td>1</td>\n",
       "      <td>6</td>\n",
       "      <td>7</td>\n",
       "      <td>[0.33654428, 0.096753076, -0.31076264, -0.1392...</td>\n",
       "      <td>[0, 0, 0, 0, 0, 0, 0, 1, 0, 0, 0, 0, 0, 0, 0, ...</td>\n",
       "    </tr>\n",
       "    <tr>\n",
       "      <th>4</th>\n",
       "      <td>17</td>\n",
       "      <td>1193</td>\n",
       "      <td>5</td>\n",
       "      <td>1</td>\n",
       "      <td>3</td>\n",
       "      <td>1</td>\n",
       "      <td>[0.33654428, 0.096753076, -0.31076264, -0.1392...</td>\n",
       "      <td>[0, 0, 0, 0, 0, 0, 0, 1, 0, 0, 0, 0, 0, 0, 0, ...</td>\n",
       "    </tr>\n",
       "  </tbody>\n",
       "</table>\n",
       "</div>"
      ],
      "text/plain": [
       "   UserID  ...                                           category\n",
       "0       1  ...  [0, 0, 0, 0, 0, 0, 0, 1, 0, 0, 0, 0, 0, 0, 0, ...\n",
       "1       2  ...  [0, 0, 0, 0, 0, 0, 0, 1, 0, 0, 0, 0, 0, 0, 0, ...\n",
       "2      12  ...  [0, 0, 0, 0, 0, 0, 0, 1, 0, 0, 0, 0, 0, 0, 0, ...\n",
       "3      15  ...  [0, 0, 0, 0, 0, 0, 0, 1, 0, 0, 0, 0, 0, 0, 0, ...\n",
       "4      17  ...  [0, 0, 0, 0, 0, 0, 0, 1, 0, 0, 0, 0, 0, 0, 0, ...\n",
       "\n",
       "[5 rows x 8 columns]"
      ]
     },
     "execution_count": 25,
     "metadata": {
      "tags": []
     },
     "output_type": "execute_result"
    }
   ],
   "source": [
    "data.head()"
   ]
  },
  {
   "cell_type": "markdown",
   "metadata": {
    "id": "_zMAKaKA8nGU"
   },
   "source": [
    "## **2. Model Design**"
   ]
  },
  {
   "cell_type": "markdown",
   "metadata": {
    "id": "egghvMDc8nGg"
   },
   "source": [
    "### 2.1 预定义"
   ]
  },
  {
   "cell_type": "markdown",
   "metadata": {
    "id": "OTuBXqPxrE8U"
   },
   "source": [
    "#### 2.1.1 预定义变量"
   ]
  },
  {
   "cell_type": "code",
   "execution_count": 26,
   "metadata": {
    "executionInfo": {
     "elapsed": 975,
     "status": "ok",
     "timestamp": 1605510062788,
     "user": {
      "displayName": "Yuxin JIANG",
      "photoUrl": "",
      "userId": "08237551511886881536"
     },
     "user_tz": -480
    },
    "id": "_C0gSlO78nGg"
   },
   "outputs": [],
   "source": [
    "#嵌入矩阵的维度\n",
    "embed_dim = 32\n",
    "#用户ID个数\n",
    "uid_max = max(features.take(0,1)) + 1  #共计6040\n",
    "#性别个数\n",
    "gender_max = max(features.take(2,1)) + 1  #共计2\n",
    "#年龄类别个数\n",
    "age_max = max(features.take(3,1)) + 1  #共计7\n",
    "#职业个数\n",
    "job_max = max(features.take(4,1)) + 1   #共计21\n",
    "#电影ID个数\n",
    "movie_id_max = max(features.take(1,1)) + 1  #共计3952\n",
    "#电影Title embedding长度\n",
    "sentences_size = title_count  = 768"
   ]
  },
  {
   "cell_type": "markdown",
   "metadata": {
    "id": "UfA1ZLGm8nGm"
   },
   "source": [
    "#### 2.1.2 预定义超参"
   ]
  },
  {
   "cell_type": "code",
   "execution_count": 27,
   "metadata": {
    "executionInfo": {
     "elapsed": 660,
     "status": "ok",
     "timestamp": 1605510065214,
     "user": {
      "displayName": "Yuxin JIANG",
      "photoUrl": "",
      "userId": "08237551511886881536"
     },
     "user_tz": -480
    },
    "id": "JolsyUpT8nGn"
   },
   "outputs": [],
   "source": [
    "#Number of Epochs\n",
    "num_epochs = 10\n",
    "\n",
    "#Batch Size\n",
    "batch_size = 256\n",
    "\n",
    "#dropout\n",
    "dropout_keep = 0.5\n",
    "\n",
    "#Learning Rate\n",
    "learning_rate = 0.0005\n",
    "\n",
    "#Show stats for every n number of batches\n",
    "show_every_n_batches = 20\n",
    "\n",
    "#save path\n",
    "save_dir = './save'"
   ]
  },
  {
   "cell_type": "markdown",
   "metadata": {
    "id": "QamhmNyc8nGr"
   },
   "source": [
    "#### 2.1.3 预定义占位符"
   ]
  },
  {
   "cell_type": "code",
   "execution_count": 28,
   "metadata": {
    "executionInfo": {
     "elapsed": 669,
     "status": "ok",
     "timestamp": 1605510067418,
     "user": {
      "displayName": "Yuxin JIANG",
      "photoUrl": "",
      "userId": "08237551511886881536"
     },
     "user_tz": -480
    },
    "id": "-g4kYV0A8nGu"
   },
   "outputs": [],
   "source": [
    "def get_inputs():\n",
    "    uid = tf.keras.layers.Input(shape=(1,), dtype='int32', name='uid')  \n",
    "    user_gender = tf.keras.layers.Input(shape=(1,), dtype='int32', name='user_gender')  \n",
    "    user_age = tf.keras.layers.Input(shape=(1,), dtype='int32', name='user_age') \n",
    "    user_job = tf.keras.layers.Input(shape=(1,), dtype='int32', name='user_job')\n",
    "\n",
    "    movie_id = tf.keras.layers.Input(shape=(1,), dtype='int32', name='movie_id') \n",
    "    movie_categories = tf.keras.layers.Input(shape=(18,), dtype='int32', name='movie_categories') \n",
    "    movie_titles = tf.keras.layers.Input(shape=(768,), dtype='int32', name='movie_titles') \n",
    "    return uid, user_gender, user_age, user_job, movie_id, movie_categories, movie_titles"
   ]
  },
  {
   "cell_type": "markdown",
   "metadata": {
    "id": "BZFUPF8x8nGz"
   },
   "source": [
    "### 2.2 构建神经网络"
   ]
  },
  {
   "cell_type": "markdown",
   "metadata": {
    "id": "m7t8uLC98nG1"
   },
   "source": [
    "#### 2.2.1 定义User ID, age, job的嵌入矩阵"
   ]
  },
  {
   "cell_type": "code",
   "execution_count": 29,
   "metadata": {
    "executionInfo": {
     "elapsed": 700,
     "status": "ok",
     "timestamp": 1605510069472,
     "user": {
      "displayName": "Yuxin JIANG",
      "photoUrl": "",
      "userId": "08237551511886881536"
     },
     "user_tz": -480
    },
    "id": "1J1_0cXt8nG1"
   },
   "outputs": [],
   "source": [
    "def get_user_embedding(uid, user_gender, user_age, user_job):\n",
    "    uid_embed_layer = tf.keras.layers.Embedding(uid_max, embed_dim, input_length=1, name='uid_embed_layer')(uid)\n",
    "    gender_embed_layer = tf.keras.layers.Embedding(gender_max, embed_dim // 2, input_length=1, name='gender_embed_layer')(user_gender)\n",
    "    age_embed_layer = tf.keras.layers.Embedding(age_max, embed_dim // 2, input_length=1, name='age_embed_layer')(user_age)\n",
    "    job_embed_layer = tf.keras.layers.Embedding(job_max, embed_dim // 2, input_length=1, name='job_embed_layer')(user_job)\n",
    "    return uid_embed_layer, gender_embed_layer, age_embed_layer, job_embed_layer"
   ]
  },
  {
   "cell_type": "markdown",
   "metadata": {
    "id": "rUsn5hBB8nG7"
   },
   "source": [
    "#### 2.2.2将User的嵌入矩阵一起全连接生成User的特征"
   ]
  },
  {
   "cell_type": "code",
   "execution_count": 30,
   "metadata": {
    "executionInfo": {
     "elapsed": 672,
     "status": "ok",
     "timestamp": 1605510071570,
     "user": {
      "displayName": "Yuxin JIANG",
      "photoUrl": "",
      "userId": "08237551511886881536"
     },
     "user_tz": -480
    },
    "id": "GRChqrcm8nG8"
   },
   "outputs": [],
   "source": [
    "def get_user_feature_layer(uid_embed_layer, gender_embed_layer, age_embed_layer, job_embed_layer):\n",
    "    #第一层全连接\n",
    "    uid_fc_layer = tf.keras.layers.Dense(embed_dim, name=\"uid_fc_layer\", activation='relu')(uid_embed_layer)\n",
    "    gender_fc_layer = tf.keras.layers.Dense(embed_dim, name=\"gender_fc_layer\", activation='relu')(gender_embed_layer)\n",
    "    age_fc_layer = tf.keras.layers.Dense(embed_dim, name=\"age_fc_layer\", activation='relu')(age_embed_layer)\n",
    "    job_fc_layer = tf.keras.layers.Dense(embed_dim, name=\"job_fc_layer\", activation='relu')(job_embed_layer)\n",
    "\n",
    "    #第二层全连接\n",
    "    user_combine_layer = tf.keras.layers.concatenate([uid_fc_layer, gender_fc_layer, age_fc_layer, job_fc_layer], 2)  #(?, 1, 128)\n",
    "    user_combine_layer = tf.keras.layers.Dense(200, activation='tanh')(user_combine_layer)  #(?, 1, 200)\n",
    "\n",
    "    user_combine_layer_flat = tf.keras.layers.Reshape([200], name=\"user_combine_layer_flat\")(user_combine_layer)\n",
    "    # dropout_layer = tf.keras.layers.Dropout(dropout_keep, name = \"dropout_layer\")(user_combine_layer_flat)\n",
    "    return user_combine_layer, user_combine_layer_flat"
   ]
  },
  {
   "cell_type": "markdown",
   "metadata": {
    "id": "2GSqTaU8tXh7"
   },
   "source": [
    "#### 2.2.3 定义Movie ID, genres, Title的嵌入矩阵"
   ]
  },
  {
   "cell_type": "markdown",
   "metadata": {
    "id": "V9WWJzG88nHF"
   },
   "source": [
    "##### 2.2.3.1 定义Movie ID的嵌入矩阵"
   ]
  },
  {
   "cell_type": "code",
   "execution_count": 31,
   "metadata": {
    "executionInfo": {
     "elapsed": 673,
     "status": "ok",
     "timestamp": 1605510073493,
     "user": {
      "displayName": "Yuxin JIANG",
      "photoUrl": "",
      "userId": "08237551511886881536"
     },
     "user_tz": -480
    },
    "id": "4AUm__GV8nHF"
   },
   "outputs": [],
   "source": [
    "def get_movie_id_embed_layer(movie_id):\n",
    "    movie_id_embed_layer = tf.keras.layers.Embedding(movie_id_max, embed_dim, input_length=1, name='movie_id_embed_layer')(movie_id)\n",
    "    movie_id_embed_layer_flat = tf.keras.layers.Reshape([32], name=\"movie_id_embed_layer_flat\")(movie_id_embed_layer)\n",
    "    return movie_id_embed_layer_flat"
   ]
  },
  {
   "cell_type": "markdown",
   "metadata": {
    "id": "0xj2Cr5B8nHK"
   },
   "source": [
    "##### 2.2.3.2 定义Movie genres的嵌入矩阵"
   ]
  },
  {
   "cell_type": "code",
   "execution_count": 32,
   "metadata": {
    "executionInfo": {
     "elapsed": 702,
     "status": "ok",
     "timestamp": 1605510075412,
     "user": {
      "displayName": "Yuxin JIANG",
      "photoUrl": "",
      "userId": "08237551511886881536"
     },
     "user_tz": -480
    },
    "id": "Ge5Nx3NZHBE7"
   },
   "outputs": [],
   "source": [
    "def get_movie_categories_layers(movie_categories):\n",
    "  movie_categories_fc_layer = tf.keras.layers.Dense(embed_dim, name=\"movie_categories_fc_layer\", activation='relu')(movie_categories)\n",
    "  return movie_categories_fc_layer"
   ]
  },
  {
   "cell_type": "markdown",
   "metadata": {
    "id": "EX-QjjY4tpFy"
   },
   "source": [
    "##### 2.2.3.3 定义Movie Title的嵌入矩阵"
   ]
  },
  {
   "cell_type": "code",
   "execution_count": 33,
   "metadata": {
    "executionInfo": {
     "elapsed": 717,
     "status": "ok",
     "timestamp": 1605510077315,
     "user": {
      "displayName": "Yuxin JIANG",
      "photoUrl": "",
      "userId": "08237551511886881536"
     },
     "user_tz": -480
    },
    "id": "6FUeTyyk8nHL"
   },
   "outputs": [],
   "source": [
    "def get_movie_titles_layers(movie_titles):\n",
    "  movie_titles_fc_layer = tf.keras.layers.Dense(embed_dim, name=\"movie_titles_fc_layer\", activation='relu')(movie_titles)\n",
    "  return movie_titles_fc_layer"
   ]
  },
  {
   "cell_type": "markdown",
   "metadata": {
    "id": "50i_PZhY8nHc"
   },
   "source": [
    "#### 2.2.4 将Movie的嵌入矩阵一起全连接生成movie的特征"
   ]
  },
  {
   "cell_type": "code",
   "execution_count": 34,
   "metadata": {
    "executionInfo": {
     "elapsed": 750,
     "status": "ok",
     "timestamp": 1605510084782,
     "user": {
      "displayName": "Yuxin JIANG",
      "photoUrl": "",
      "userId": "08237551511886881536"
     },
     "user_tz": -480
    },
    "id": "9djEwRQS8nHd"
   },
   "outputs": [],
   "source": [
    "def get_movie_feature_layer(movie_id_embed_layer_flat, movie_categories_fc_layer, movie_titles_fc_layer):\n",
    "    #第一层全连接\n",
    "    movie_id_fc_layer = tf.keras.layers.Dense(embed_dim, name=\"movie_id_fc_layer\", activation='relu')(movie_id_embed_layer_flat)\n",
    "\n",
    "    #第二层全连接\n",
    "    movie_combine_layer = tf.keras.layers.concatenate([movie_id_fc_layer, movie_categories_fc_layer, movie_titles_fc_layer], 1)  \n",
    "    movie_combine_layer = tf.keras.layers.Dense(200, activation='tanh')(movie_combine_layer)\n",
    "\n",
    "    movie_combine_layer_flat = tf.keras.layers.Reshape([200], name=\"movie_combine_layer_flat\")(movie_combine_layer)\n",
    "    # dropout_layer1 = tf.keras.layers.Dropout(dropout_keep, name = \"dropout_layer1\")(movie_combine_layer_flat)\n",
    "    return movie_combine_layer, movie_combine_layer_flat"
   ]
  },
  {
   "cell_type": "markdown",
   "metadata": {
    "id": "OczD316N8nHt"
   },
   "source": [
    "#### 2.2.5 构建Tensorflow计算图"
   ]
  },
  {
   "cell_type": "code",
   "execution_count": 35,
   "metadata": {
    "executionInfo": {
     "elapsed": 1074,
     "status": "ok",
     "timestamp": 1605510086960,
     "user": {
      "displayName": "Yuxin JIANG",
      "photoUrl": "",
      "userId": "08237551511886881536"
     },
     "user_tz": -480
    },
    "id": "ulvsrkcO8nHu"
   },
   "outputs": [],
   "source": [
    "MODEL_DIR = \"./models\"\n",
    "\n",
    "\n",
    "class mv_network(object):\n",
    "    def __init__(self, batch_size=256):\n",
    "        self.batch_size = batch_size\n",
    "        self.best_loss = 9999\n",
    "        self.losses = {'train': [], 'test': []}\n",
    "\n",
    "        # 获取输入占位符\n",
    "        uid, user_gender, user_age, user_job, movie_id, movie_categories, movie_titles = get_inputs()\n",
    "        # 获取User的4个嵌入向量\n",
    "        uid_embed_layer, gender_embed_layer, age_embed_layer, job_embed_layer = get_user_embedding(uid, user_gender, user_age, user_job)\n",
    "        # 得到用户特征\n",
    "        user_combine_layer, user_combine_layer_flat = get_user_feature_layer(uid_embed_layer, gender_embed_layer, age_embed_layer, job_embed_layer)\n",
    "        # 获取电影ID的嵌入向量\n",
    "        movie_id_embed_layer_flat = get_movie_id_embed_layer(movie_id)\n",
    "        # 获取电影种类的特征向量\n",
    "        movie_categories_fc_layer = get_movie_categories_layers(movie_categories)\n",
    "        # 获取电影名的特征向量\n",
    "        movie_titles_fc_layer = get_movie_titles_layers(movie_titles)\n",
    "        # 得到电影特征\n",
    "        movie_combine_layer, movie_combine_layer_flat = get_movie_feature_layer(movie_id_embed_layer_flat,movie_titles_fc_layer, movie_titles_fc_layer)\n",
    "        \n",
    "        ######## Plan 1 #########\n",
    "        # 将用户特征和电影特征做矩阵乘法得到一个预测评分的方案\n",
    "        inference = tf.keras.layers.Lambda(lambda layer: \n",
    "            tf.reduce_sum(layer[0] * layer[1], axis=1), name=\"inference\")((user_combine_layer_flat, movie_combine_layer_flat))\n",
    "        inference = tf.keras.layers.Lambda(lambda layer: tf.expand_dims(layer, axis=1))(inference)\n",
    "        \n",
    "        ######## Plan 2 #########\n",
    "        # # 将用户特征和电影特征作为输入，经过全连接，输出一个值的方案\n",
    "        # inference_layer = tf.keras.layers.concatenate([user_combine_layer_flat, movie_combine_layer_flat],1)  # (?, 400)\n",
    "        # # 你可以使用下面这个全连接层，试试效果\n",
    "        # inference_dense = tf.keras.layers.Dense(64, kernel_regularizer=tf.nn.l2_loss, activation='relu')(inference_layer)\n",
    "        # inference = tf.keras.layers.Dense(1, name=\"inference\")(inference_layer)  # inference_dense\n",
    "\n",
    "        self.model = tf.keras.Model(\n",
    "            inputs=[uid, user_gender, user_age, user_job, movie_id, movie_categories, movie_titles],\n",
    "            outputs=[inference])\n",
    "\n",
    "        self.model.summary()\n",
    "\n",
    "        self.optimizer = tf.keras.optimizers.Adam(learning_rate)\n",
    "        # MSE损失，将计算值回归到评分\n",
    "        self.ComputeLoss = tf.keras.losses.MeanSquaredError()\n",
    "        self.ComputeMetrics = tf.keras.metrics.MeanSquaredError()\n",
    "\n",
    "        if tf.io.gfile.exists(MODEL_DIR):\n",
    "            print('Removing existing model dir: {}'.format(MODEL_DIR))\n",
    "            tf.io.gfile.rmtree(MODEL_DIR)\n",
    "            pass\n",
    "        else:\n",
    "            tf.io.gfile.makedirs(MODEL_DIR)\n",
    "\n",
    "        train_dir = os.path.join(MODEL_DIR, 'summaries', 'train')\n",
    "        test_dir = os.path.join(MODEL_DIR, 'summaries', 'eval')\n",
    "\n",
    "        #         self.train_summary_writer = summary_ops_v2.create_file_writer(train_dir, flush_millis=10000)\n",
    "        #         self.test_summary_writer = summary_ops_v2.create_file_writer(test_dir, flush_millis=10000, name='test')\n",
    "\n",
    "        checkpoint_dir = os.path.join(MODEL_DIR, 'checkpoints')\n",
    "        self.checkpoint_prefix = os.path.join(checkpoint_dir, 'ckpt')\n",
    "        self.checkpoint = tf.train.Checkpoint(model=self.model, optimizer=self.optimizer)\n",
    "\n",
    "        # Restore variables on creation if a checkpoint exists.\n",
    "        self.checkpoint.restore(tf.train.latest_checkpoint(checkpoint_dir))\n",
    "\n",
    "    def compute_loss(self, labels, logits):\n",
    "        return tf.reduce_mean(tf.keras.losses.mse(labels, logits))\n",
    "\n",
    "    def compute_metrics(self, labels, logits):\n",
    "        return tf.keras.metrics.mse(labels, logits)  #\n",
    "\n",
    "    @tf.function\n",
    "    def train_step(self, x, y):\n",
    "        # Record the operations used to compute the loss, so that the gradient\n",
    "        # of the loss with respect to the variables can be computed.\n",
    "        #         metrics = 0\n",
    "        with tf.GradientTape() as tape:\n",
    "            logits = self.model([x[0],\n",
    "                                 x[1],\n",
    "                                 x[2],\n",
    "                                 x[3],\n",
    "                                 x[4],\n",
    "                                 x[5],\n",
    "                                 x[6]], training=True)\n",
    "            loss = self.ComputeLoss(y, logits)\n",
    "            # loss = self.compute_loss(labels, logits)\n",
    "            self.ComputeMetrics(y, logits)\n",
    "            # metrics = self.compute_metrics(labels, logits)\n",
    "        grads = tape.gradient(loss, self.model.trainable_variables)\n",
    "        self.optimizer.apply_gradients(zip(grads, self.model.trainable_variables))\n",
    "        return loss, logits\n",
    "\n",
    "    def training(self, features, targets_values, epochs=7, log_freq=50):\n",
    "        train_X, test_X, train_y, test_y = train_test_split(features, targets_values, test_size=0.2, random_state=0)\n",
    "        for epoch_i in range(epochs):\n",
    "            # 将训练集shuffle\n",
    "            state = np.random.get_state()\n",
    "            np.random.shuffle(train_X)\n",
    "\n",
    "            np.random.set_state(state)\n",
    "            np.random.shuffle(train_y)\n",
    "\n",
    "            train_batches = get_batches(train_X, train_y, self.batch_size)\n",
    "            batch_num = (len(train_X) // self.batch_size)\n",
    "\n",
    "            train_start = time.time()\n",
    "            #             with self.train_summary_writer.as_default():\n",
    "            if True:\n",
    "                start = time.time()\n",
    "                # Metrics are stateful. They accumulate values and return a cumulative\n",
    "                # result when you call .result(). Clear accumulated values with .reset_states()\n",
    "                avg_loss = tf.keras.metrics.Mean('loss', dtype=tf.float32)\n",
    "                #                 avg_mae = tf.keras.metrics.Mean('mae', dtype=tf.float32)\n",
    "\n",
    "                # Datasets can be iterated over like any other Python iterable.\n",
    "                for batch_i in range(batch_num):\n",
    "                    x, y = next(train_batches)\n",
    "                    categories = np.zeros([self.batch_size, 18])\n",
    "                    for i in range(self.batch_size):\n",
    "                        categories[i] = x.take(6, 1)[i]\n",
    "\n",
    "                    titles = np.zeros([self.batch_size, sentences_size])\n",
    "                    for i in range(self.batch_size):\n",
    "                        titles[i] = x.take(5, 1)[i]\n",
    "\n",
    "                    loss, logits = self.train_step([np.reshape(x.take(0, 1), [self.batch_size, 1]).astype(np.float32),\n",
    "                                                    np.reshape(x.take(2, 1), [self.batch_size, 1]).astype(np.float32),\n",
    "                                                    np.reshape(x.take(3, 1), [self.batch_size, 1]).astype(np.float32),\n",
    "                                                    np.reshape(x.take(4, 1), [self.batch_size, 1]).astype(np.float32),\n",
    "                                                    np.reshape(x.take(1, 1), [self.batch_size, 1]).astype(np.float32),\n",
    "                                                    categories.astype(np.float32),\n",
    "                                                    titles.astype(np.float32)],\n",
    "                                                   np.reshape(y, [self.batch_size, 1]).astype(np.float32))\n",
    "                    avg_loss(loss)\n",
    "                    self.losses['train'].append(loss)\n",
    "\n",
    "                    if tf.equal(self.optimizer.iterations % log_freq, 0):\n",
    "                        #                         summary_ops_v2.scalar('loss', avg_loss.result(), step=self.optimizer.iterations)\n",
    "                        #                         summary_ops_v2.scalar('mae', self.ComputeMetrics.result(), step=self.optimizer.iterations)\n",
    "                        # summary_ops_v2.scalar('mae', avg_mae.result(), step=self.optimizer.iterations)\n",
    "\n",
    "                        rate = log_freq / (time.time() - start)\n",
    "                        print('Step #{}\\tEpoch {:>3} Batch {:>4}/{}   Loss: {:0.6f} mse: {:0.6f} ({} steps/sec)'.format(\n",
    "                            self.optimizer.iterations.numpy(),\n",
    "                            epoch_i,\n",
    "                            batch_i,\n",
    "                            batch_num,\n",
    "                            loss, (self.ComputeMetrics.result()), rate))\n",
    "                        # print('Step #{}\\tLoss: {:0.6f} mae: {:0.6f} ({} steps/sec)'.format(\n",
    "                        #     self.optimizer.iterations.numpy(), loss, (avg_mae.result()), rate))\n",
    "                        avg_loss.reset_states()\n",
    "                        self.ComputeMetrics.reset_states()\n",
    "                        # avg_mae.reset_states()\n",
    "                        start = time.time()\n",
    "\n",
    "            train_end = time.time()\n",
    "            print(\n",
    "                '\\nTrain time for epoch #{} ({} total steps): {}'.format(epoch_i + 1, self.optimizer.iterations.numpy(),\n",
    "                                                                         train_end - train_start))\n",
    "            #             with self.test_summary_writer.as_default():\n",
    "            self.testing((test_X, test_y), self.optimizer.iterations)\n",
    "            # self.checkpoint.save(self.checkpoint_prefix)\n",
    "        self.export_path = os.path.join(MODEL_DIR, 'export')\n",
    "        tf.saved_model.save(self.model, self.export_path)\n",
    "\n",
    "    def testing(self, test_dataset, step_num):\n",
    "        test_X, test_y = test_dataset\n",
    "        test_batches = get_batches(test_X, test_y, self.batch_size)\n",
    "\n",
    "        \"\"\"Perform an evaluation of `model` on the examples from `dataset`.\"\"\"\n",
    "        avg_loss = tf.keras.metrics.Mean('loss', dtype=tf.float32)\n",
    "        #         avg_mae = tf.keras.metrics.Mean('mae', dtype=tf.float32)\n",
    "\n",
    "        batch_num = (len(test_X) // self.batch_size)\n",
    "        for batch_i in range(batch_num):\n",
    "            x, y = next(test_batches)\n",
    "            categories = np.zeros([self.batch_size, 18])\n",
    "            for i in range(self.batch_size):\n",
    "                categories[i] = x.take(6, 1)[i]\n",
    "\n",
    "            titles = np.zeros([self.batch_size, sentences_size])\n",
    "            for i in range(self.batch_size):\n",
    "                titles[i] = x.take(5, 1)[i]\n",
    "\n",
    "            logits = self.model([np.reshape(x.take(0, 1), [self.batch_size, 1]).astype(np.float32),\n",
    "                                 np.reshape(x.take(2, 1), [self.batch_size, 1]).astype(np.float32),\n",
    "                                 np.reshape(x.take(3, 1), [self.batch_size, 1]).astype(np.float32),\n",
    "                                 np.reshape(x.take(4, 1), [self.batch_size, 1]).astype(np.float32),\n",
    "                                 np.reshape(x.take(1, 1), [self.batch_size, 1]).astype(np.float32),\n",
    "                                 categories.astype(np.float32),\n",
    "                                 titles.astype(np.float32)], training=False)\n",
    "            test_loss = self.ComputeLoss(np.reshape(y, [self.batch_size, 1]).astype(np.float32), logits)\n",
    "            avg_loss(test_loss)\n",
    "            # 保存测试损失\n",
    "            self.losses['test'].append(test_loss)\n",
    "            self.ComputeMetrics(np.reshape(y, [self.batch_size, 1]).astype(np.float32), logits)\n",
    "            # avg_loss(self.compute_loss(labels, logits))\n",
    "            # avg_mae(self.compute_metrics(labels, logits))\n",
    "\n",
    "        print('Model test set loss: {:0.6f} mse: {:0.6f}'.format(avg_loss.result(), self.ComputeMetrics.result()))\n",
    "        # print('Model test set loss: {:0.6f} mae: {:0.6f}'.format(avg_loss.result(), avg_mae.result()))\n",
    "        #         summary_ops_v2.scalar('loss', avg_loss.result(), step=step_num)\n",
    "        #         summary_ops_v2.scalar('mae', self.ComputeMetrics.result(), step=step_num)\n",
    "        # summary_ops_v2.scalar('mae', avg_mae.result(), step=step_num)\n",
    "\n",
    "        if avg_loss.result() < self.best_loss:\n",
    "            self.best_loss = avg_loss.result()\n",
    "            print(\"best loss = {}\".format(self.best_loss))\n",
    "            self.checkpoint.save(self.checkpoint_prefix)\n",
    "\n",
    "    def forward(self, xs):\n",
    "        predictions = self.model(xs)\n",
    "        # logits = tf.nn.softmax(predictions)\n",
    "\n",
    "        return predictions"
   ]
  },
  {
   "cell_type": "code",
   "execution_count": 36,
   "metadata": {
    "executionInfo": {
     "elapsed": 743,
     "status": "ok",
     "timestamp": 1605510089430,
     "user": {
      "displayName": "Yuxin JIANG",
      "photoUrl": "",
      "userId": "08237551511886881536"
     },
     "user_tz": -480
    },
    "id": "Wa3Gui4I8nHz"
   },
   "outputs": [],
   "source": [
    "def get_batches(Xs, ys, batch_size):\n",
    "    for start in range(0, len(Xs), batch_size):\n",
    "        end = min(start + batch_size, len(Xs))\n",
    "        yield Xs[start:end], ys[start:end]"
   ]
  },
  {
   "cell_type": "markdown",
   "metadata": {
    "id": "LOCTMXlD8nH4"
   },
   "source": [
    "### 2.3 训练神经网络"
   ]
  },
  {
   "cell_type": "code",
   "execution_count": 37,
   "metadata": {
    "colab": {
     "base_uri": "https://localhost:8080/"
    },
    "executionInfo": {
     "elapsed": 704441,
     "status": "ok",
     "timestamp": 1605510797037,
     "user": {
      "displayName": "Yuxin JIANG",
      "photoUrl": "",
      "userId": "08237551511886881536"
     },
     "user_tz": -480
    },
    "id": "aRESiEPr8nH6",
    "outputId": "0418c31f-84be-4077-e369-5361595c9375"
   },
   "outputs": [
    {
     "name": "stdout",
     "output_type": "stream",
     "text": [
      "Model: \"functional_1\"\n",
      "__________________________________________________________________________________________________\n",
      "Layer (type)                    Output Shape         Param #     Connected to                     \n",
      "==================================================================================================\n",
      "movie_id (InputLayer)           [(None, 1)]          0                                            \n",
      "__________________________________________________________________________________________________\n",
      "uid (InputLayer)                [(None, 1)]          0                                            \n",
      "__________________________________________________________________________________________________\n",
      "user_gender (InputLayer)        [(None, 1)]          0                                            \n",
      "__________________________________________________________________________________________________\n",
      "user_age (InputLayer)           [(None, 1)]          0                                            \n",
      "__________________________________________________________________________________________________\n",
      "user_job (InputLayer)           [(None, 1)]          0                                            \n",
      "__________________________________________________________________________________________________\n",
      "movie_id_embed_layer (Embedding (None, 1, 32)        126496      movie_id[0][0]                   \n",
      "__________________________________________________________________________________________________\n",
      "uid_embed_layer (Embedding)     (None, 1, 32)        193312      uid[0][0]                        \n",
      "__________________________________________________________________________________________________\n",
      "gender_embed_layer (Embedding)  (None, 1, 16)        32          user_gender[0][0]                \n",
      "__________________________________________________________________________________________________\n",
      "age_embed_layer (Embedding)     (None, 1, 16)        112         user_age[0][0]                   \n",
      "__________________________________________________________________________________________________\n",
      "job_embed_layer (Embedding)     (None, 1, 16)        336         user_job[0][0]                   \n",
      "__________________________________________________________________________________________________\n",
      "movie_id_embed_layer_flat (Resh (None, 32)           0           movie_id_embed_layer[0][0]       \n",
      "__________________________________________________________________________________________________\n",
      "movie_titles (InputLayer)       [(None, 768)]        0                                            \n",
      "__________________________________________________________________________________________________\n",
      "uid_fc_layer (Dense)            (None, 1, 32)        1056        uid_embed_layer[0][0]            \n",
      "__________________________________________________________________________________________________\n",
      "gender_fc_layer (Dense)         (None, 1, 32)        544         gender_embed_layer[0][0]         \n",
      "__________________________________________________________________________________________________\n",
      "age_fc_layer (Dense)            (None, 1, 32)        544         age_embed_layer[0][0]            \n",
      "__________________________________________________________________________________________________\n",
      "job_fc_layer (Dense)            (None, 1, 32)        544         job_embed_layer[0][0]            \n",
      "__________________________________________________________________________________________________\n",
      "movie_id_fc_layer (Dense)       (None, 32)           1056        movie_id_embed_layer_flat[0][0]  \n",
      "__________________________________________________________________________________________________\n",
      "movie_titles_fc_layer (Dense)   (None, 32)           24608       movie_titles[0][0]               \n",
      "__________________________________________________________________________________________________\n",
      "concatenate (Concatenate)       (None, 1, 128)       0           uid_fc_layer[0][0]               \n",
      "                                                                 gender_fc_layer[0][0]            \n",
      "                                                                 age_fc_layer[0][0]               \n",
      "                                                                 job_fc_layer[0][0]               \n",
      "__________________________________________________________________________________________________\n",
      "concatenate_1 (Concatenate)     (None, 96)           0           movie_id_fc_layer[0][0]          \n",
      "                                                                 movie_titles_fc_layer[0][0]      \n",
      "                                                                 movie_titles_fc_layer[0][0]      \n",
      "__________________________________________________________________________________________________\n",
      "dense (Dense)                   (None, 1, 200)       25800       concatenate[0][0]                \n",
      "__________________________________________________________________________________________________\n",
      "dense_1 (Dense)                 (None, 200)          19400       concatenate_1[0][0]              \n",
      "__________________________________________________________________________________________________\n",
      "user_combine_layer_flat (Reshap (None, 200)          0           dense[0][0]                      \n",
      "__________________________________________________________________________________________________\n",
      "movie_combine_layer_flat (Resha (None, 200)          0           dense_1[0][0]                    \n",
      "__________________________________________________________________________________________________\n",
      "inference (Lambda)              (None,)              0           user_combine_layer_flat[0][0]    \n",
      "                                                                 movie_combine_layer_flat[0][0]   \n",
      "__________________________________________________________________________________________________\n",
      "movie_categories (InputLayer)   [(None, 18)]         0                                            \n",
      "__________________________________________________________________________________________________\n",
      "lambda (Lambda)                 (None, 1)            0           inference[0][0]                  \n",
      "==================================================================================================\n",
      "Total params: 393,840\n",
      "Trainable params: 393,840\n",
      "Non-trainable params: 0\n",
      "__________________________________________________________________________________________________\n",
      "Removing existing model dir: ./models\n",
      "Step #50\tEpoch   0 Batch   49/3125   Loss: 1.446336 mse: 6.468303 (21.29895522841296 steps/sec)\n",
      "Step #100\tEpoch   0 Batch   99/3125   Loss: 1.339783 mse: 1.452173 (60.7270619208978 steps/sec)\n",
      "Step #150\tEpoch   0 Batch  149/3125   Loss: 0.967462 mse: 1.199104 (61.58801572920858 steps/sec)\n",
      "Step #200\tEpoch   0 Batch  199/3125   Loss: 1.031086 mse: 1.024642 (63.06600038672865 steps/sec)\n",
      "Step #250\tEpoch   0 Batch  249/3125   Loss: 0.964895 mse: 0.991368 (61.99599021143328 steps/sec)\n",
      "Step #300\tEpoch   0 Batch  299/3125   Loss: 0.941791 mse: 0.978534 (63.16545952176641 steps/sec)\n",
      "Step #350\tEpoch   0 Batch  349/3125   Loss: 0.967697 mse: 0.940787 (61.70320877563756 steps/sec)\n",
      "Step #400\tEpoch   0 Batch  399/3125   Loss: 0.986873 mse: 0.939771 (59.10858759880664 steps/sec)\n",
      "Step #450\tEpoch   0 Batch  449/3125   Loss: 0.899498 mse: 0.912005 (62.26339694210013 steps/sec)\n",
      "Step #500\tEpoch   0 Batch  499/3125   Loss: 0.917889 mse: 0.922301 (61.639425210666936 steps/sec)\n",
      "Step #550\tEpoch   0 Batch  549/3125   Loss: 0.824604 mse: 0.910118 (62.10574446863606 steps/sec)\n",
      "Step #600\tEpoch   0 Batch  599/3125   Loss: 0.865908 mse: 0.913947 (64.16334552868662 steps/sec)\n",
      "Step #650\tEpoch   0 Batch  649/3125   Loss: 0.778834 mse: 0.910963 (61.83201132885553 steps/sec)\n",
      "Step #700\tEpoch   0 Batch  699/3125   Loss: 0.963201 mse: 0.915926 (63.05223455414898 steps/sec)\n",
      "Step #750\tEpoch   0 Batch  749/3125   Loss: 0.941497 mse: 0.879395 (61.925071664881195 steps/sec)\n",
      "Step #800\tEpoch   0 Batch  799/3125   Loss: 0.760762 mse: 0.883952 (63.22872456373985 steps/sec)\n",
      "Step #850\tEpoch   0 Batch  849/3125   Loss: 1.053151 mse: 0.882922 (61.86278136380879 steps/sec)\n",
      "Step #900\tEpoch   0 Batch  899/3125   Loss: 0.926195 mse: 0.881672 (62.02391518511629 steps/sec)\n",
      "Step #950\tEpoch   0 Batch  949/3125   Loss: 0.814268 mse: 0.886293 (64.09535670897102 steps/sec)\n",
      "Step #1000\tEpoch   0 Batch  999/3125   Loss: 0.764853 mse: 0.877820 (63.70333469013323 steps/sec)\n",
      "Step #1050\tEpoch   0 Batch 1049/3125   Loss: 0.730999 mse: 0.845677 (61.88954534991471 steps/sec)\n",
      "Step #1100\tEpoch   0 Batch 1099/3125   Loss: 0.903161 mse: 0.867228 (64.03118706498893 steps/sec)\n",
      "Step #1150\tEpoch   0 Batch 1149/3125   Loss: 0.902896 mse: 0.848962 (63.51204960667479 steps/sec)\n",
      "Step #1200\tEpoch   0 Batch 1199/3125   Loss: 0.794482 mse: 0.875652 (63.97013113383949 steps/sec)\n",
      "Step #1250\tEpoch   0 Batch 1249/3125   Loss: 0.862669 mse: 0.855263 (63.30696187247032 steps/sec)\n",
      "Step #1300\tEpoch   0 Batch 1299/3125   Loss: 0.786427 mse: 0.869535 (62.52156196579541 steps/sec)\n",
      "Step #1350\tEpoch   0 Batch 1349/3125   Loss: 0.829890 mse: 0.872772 (61.33685943529138 steps/sec)\n",
      "Step #1400\tEpoch   0 Batch 1399/3125   Loss: 0.867619 mse: 0.875311 (63.444646364842896 steps/sec)\n",
      "Step #1450\tEpoch   0 Batch 1449/3125   Loss: 0.955670 mse: 0.848363 (63.452075219600275 steps/sec)\n",
      "Step #1500\tEpoch   0 Batch 1499/3125   Loss: 0.955972 mse: 0.849949 (64.35220104171205 steps/sec)\n",
      "Step #1550\tEpoch   0 Batch 1549/3125   Loss: 0.840524 mse: 0.861808 (62.75324650453544 steps/sec)\n",
      "Step #1600\tEpoch   0 Batch 1599/3125   Loss: 0.871634 mse: 0.862201 (63.34026995436327 steps/sec)\n",
      "Step #1650\tEpoch   0 Batch 1649/3125   Loss: 0.934624 mse: 0.899567 (63.34264224481893 steps/sec)\n",
      "Step #1700\tEpoch   0 Batch 1699/3125   Loss: 0.873988 mse: 0.862966 (61.40960104807493 steps/sec)\n",
      "Step #1750\tEpoch   0 Batch 1749/3125   Loss: 0.878896 mse: 0.875414 (63.395145922207064 steps/sec)\n",
      "Step #1800\tEpoch   0 Batch 1799/3125   Loss: 0.806684 mse: 0.853555 (63.77256889644657 steps/sec)\n",
      "Step #1850\tEpoch   0 Batch 1849/3125   Loss: 0.896253 mse: 0.861394 (63.89326424302176 steps/sec)\n",
      "Step #1900\tEpoch   0 Batch 1899/3125   Loss: 0.889616 mse: 0.839301 (62.61809463096967 steps/sec)\n",
      "Step #1950\tEpoch   0 Batch 1949/3125   Loss: 0.976565 mse: 0.857667 (63.05754297870421 steps/sec)\n",
      "Step #2000\tEpoch   0 Batch 1999/3125   Loss: 0.752855 mse: 0.851679 (64.03192998461758 steps/sec)\n",
      "Step #2050\tEpoch   0 Batch 2049/3125   Loss: 0.826554 mse: 0.868012 (62.80353590921968 steps/sec)\n",
      "Step #2100\tEpoch   0 Batch 2099/3125   Loss: 0.903911 mse: 0.855215 (61.284484635424654 steps/sec)\n",
      "Step #2150\tEpoch   0 Batch 2149/3125   Loss: 0.908140 mse: 0.842654 (63.09954894764982 steps/sec)\n",
      "Step #2200\tEpoch   0 Batch 2199/3125   Loss: 0.923276 mse: 0.848532 (63.49829987071145 steps/sec)\n",
      "Step #2250\tEpoch   0 Batch 2249/3125   Loss: 0.839799 mse: 0.846650 (62.819281994998185 steps/sec)\n",
      "Step #2300\tEpoch   0 Batch 2299/3125   Loss: 0.991292 mse: 0.844667 (61.88046928965367 steps/sec)\n",
      "Step #2350\tEpoch   0 Batch 2349/3125   Loss: 0.975274 mse: 0.838940 (61.427084715489016 steps/sec)\n",
      "Step #2400\tEpoch   0 Batch 2399/3125   Loss: 0.766942 mse: 0.828400 (61.84864195004042 steps/sec)\n",
      "Step #2450\tEpoch   0 Batch 2449/3125   Loss: 0.960745 mse: 0.828345 (63.32003618370598 steps/sec)\n",
      "Step #2500\tEpoch   0 Batch 2499/3125   Loss: 0.943038 mse: 0.866202 (64.1791917190667 steps/sec)\n",
      "Step #2550\tEpoch   0 Batch 2549/3125   Loss: 0.880563 mse: 0.866342 (62.33983657861444 steps/sec)\n",
      "Step #2600\tEpoch   0 Batch 2599/3125   Loss: 0.921361 mse: 0.852200 (63.52493938003305 steps/sec)\n",
      "Step #2650\tEpoch   0 Batch 2649/3125   Loss: 0.871552 mse: 0.855504 (64.54685971662997 steps/sec)\n",
      "Step #2700\tEpoch   0 Batch 2699/3125   Loss: 0.924136 mse: 0.845789 (61.46590091430129 steps/sec)\n",
      "Step #2750\tEpoch   0 Batch 2749/3125   Loss: 0.854233 mse: 0.835554 (64.06121083102782 steps/sec)\n",
      "Step #2800\tEpoch   0 Batch 2799/3125   Loss: 0.769774 mse: 0.846179 (63.07876664533113 steps/sec)\n",
      "Step #2850\tEpoch   0 Batch 2849/3125   Loss: 0.846930 mse: 0.853957 (63.94060205302447 steps/sec)\n",
      "Step #2900\tEpoch   0 Batch 2899/3125   Loss: 0.853260 mse: 0.834662 (64.69099410543343 steps/sec)\n",
      "Step #2950\tEpoch   0 Batch 2949/3125   Loss: 0.767411 mse: 0.841581 (63.18576594458736 steps/sec)\n",
      "Step #3000\tEpoch   0 Batch 2999/3125   Loss: 0.810327 mse: 0.850160 (61.528116193748176 steps/sec)\n",
      "Step #3050\tEpoch   0 Batch 3049/3125   Loss: 0.991333 mse: 0.828040 (62.973452773033344 steps/sec)\n",
      "Step #3100\tEpoch   0 Batch 3099/3125   Loss: 0.867230 mse: 0.842891 (63.07804567879029 steps/sec)\n",
      "\n",
      "Train time for epoch #1 (3125 total steps): 51.411123752593994\n",
      "Model test set loss: 0.840560 mse: 0.841159\n",
      "best loss = 0.8405604362487793\n",
      "Step #3150\tEpoch   1 Batch   24/3125   Loss: 0.939552 mse: 0.840590 (121.78752781688014 steps/sec)\n",
      "Step #3200\tEpoch   1 Batch   74/3125   Loss: 0.849181 mse: 0.816748 (65.2476867840231 steps/sec)\n",
      "Step #3250\tEpoch   1 Batch  124/3125   Loss: 0.840945 mse: 0.799794 (63.715934422005894 steps/sec)\n",
      "Step #3300\tEpoch   1 Batch  174/3125   Loss: 0.826288 mse: 0.808123 (63.309790359254755 steps/sec)\n",
      "Step #3350\tEpoch   1 Batch  224/3125   Loss: 0.811699 mse: 0.811302 (62.1304366116984 steps/sec)\n",
      "Step #3400\tEpoch   1 Batch  274/3125   Loss: 0.719292 mse: 0.822379 (62.9247412231299 steps/sec)\n",
      "Step #3450\tEpoch   1 Batch  324/3125   Loss: 0.710022 mse: 0.816678 (63.619077666074105 steps/sec)\n",
      "Step #3500\tEpoch   1 Batch  374/3125   Loss: 0.881750 mse: 0.821466 (61.61043347157709 steps/sec)\n",
      "Step #3550\tEpoch   1 Batch  424/3125   Loss: 0.788694 mse: 0.813771 (62.60261741766949 steps/sec)\n",
      "Step #3600\tEpoch   1 Batch  474/3125   Loss: 0.898079 mse: 0.832876 (63.93567019511923 steps/sec)\n",
      "Step #3650\tEpoch   1 Batch  524/3125   Loss: 0.880008 mse: 0.829884 (62.59701161975415 steps/sec)\n",
      "Step #3700\tEpoch   1 Batch  574/3125   Loss: 0.703413 mse: 0.802184 (63.28892665897316 steps/sec)\n",
      "Step #3750\tEpoch   1 Batch  624/3125   Loss: 0.760301 mse: 0.816061 (63.92927745642714 steps/sec)\n",
      "Step #3800\tEpoch   1 Batch  674/3125   Loss: 0.823218 mse: 0.816386 (61.47891062693097 steps/sec)\n",
      "Step #3850\tEpoch   1 Batch  724/3125   Loss: 0.786557 mse: 0.823580 (64.98694157734838 steps/sec)\n",
      "Step #3900\tEpoch   1 Batch  774/3125   Loss: 0.802562 mse: 0.836288 (62.865512327282254 steps/sec)\n",
      "Step #3950\tEpoch   1 Batch  824/3125   Loss: 0.688072 mse: 0.821608 (60.79141966809189 steps/sec)\n",
      "Step #4000\tEpoch   1 Batch  874/3125   Loss: 0.750464 mse: 0.813318 (62.23097144793586 steps/sec)\n",
      "Step #4050\tEpoch   1 Batch  924/3125   Loss: 0.850963 mse: 0.811795 (61.471287925064985 steps/sec)\n",
      "Step #4100\tEpoch   1 Batch  974/3125   Loss: 0.682716 mse: 0.804208 (63.32829642621173 steps/sec)\n",
      "Step #4150\tEpoch   1 Batch 1024/3125   Loss: 0.717250 mse: 0.831747 (63.29461886845754 steps/sec)\n",
      "Step #4200\tEpoch   1 Batch 1074/3125   Loss: 0.940751 mse: 0.823350 (62.51433075166171 steps/sec)\n",
      "Step #4250\tEpoch   1 Batch 1124/3125   Loss: 0.798035 mse: 0.811371 (63.15764112917798 steps/sec)\n",
      "Step #4300\tEpoch   1 Batch 1174/3125   Loss: 0.763223 mse: 0.806220 (63.95762573075517 steps/sec)\n",
      "Step #4350\tEpoch   1 Batch 1224/3125   Loss: 0.760890 mse: 0.812449 (65.0460810483043 steps/sec)\n",
      "Step #4400\tEpoch   1 Batch 1274/3125   Loss: 0.787385 mse: 0.825315 (63.933954944614406 steps/sec)\n",
      "Step #4450\tEpoch   1 Batch 1324/3125   Loss: 0.764623 mse: 0.811571 (62.65270302769574 steps/sec)\n",
      "Step #4500\tEpoch   1 Batch 1374/3125   Loss: 0.941075 mse: 0.818365 (62.52687461929796 steps/sec)\n",
      "Step #4550\tEpoch   1 Batch 1424/3125   Loss: 0.767061 mse: 0.826164 (63.25498568194308 steps/sec)\n",
      "Step #4600\tEpoch   1 Batch 1474/3125   Loss: 0.687737 mse: 0.801785 (63.927231270556895 steps/sec)\n",
      "Step #4650\tEpoch   1 Batch 1524/3125   Loss: 0.769520 mse: 0.800064 (62.385734841469315 steps/sec)\n",
      "Step #4700\tEpoch   1 Batch 1574/3125   Loss: 0.846156 mse: 0.803795 (63.233204765454076 steps/sec)\n",
      "Step #4750\tEpoch   1 Batch 1624/3125   Loss: 0.762625 mse: 0.808965 (63.25574885819131 steps/sec)\n",
      "Step #4800\tEpoch   1 Batch 1674/3125   Loss: 0.897915 mse: 0.826517 (64.69897720089381 steps/sec)\n",
      "Step #4850\tEpoch   1 Batch 1724/3125   Loss: 0.731890 mse: 0.800391 (60.97440917695747 steps/sec)\n",
      "Step #4900\tEpoch   1 Batch 1774/3125   Loss: 0.845242 mse: 0.814103 (60.929483519870956 steps/sec)\n",
      "Step #4950\tEpoch   1 Batch 1824/3125   Loss: 0.773050 mse: 0.804612 (62.129516284041365 steps/sec)\n",
      "Step #5000\tEpoch   1 Batch 1874/3125   Loss: 0.896273 mse: 0.834357 (63.461445351460746 steps/sec)\n",
      "Step #5050\tEpoch   1 Batch 1924/3125   Loss: 0.858499 mse: 0.812194 (63.26832483833354 steps/sec)\n",
      "Step #5100\tEpoch   1 Batch 1974/3125   Loss: 0.683120 mse: 0.796210 (63.29484810639283 steps/sec)\n",
      "Step #5150\tEpoch   1 Batch 2024/3125   Loss: 0.864795 mse: 0.832673 (62.178312815779634 steps/sec)\n",
      "Step #5200\tEpoch   1 Batch 2074/3125   Loss: 0.822491 mse: 0.814079 (61.75399251703044 steps/sec)\n",
      "Step #5250\tEpoch   1 Batch 2124/3125   Loss: 0.895554 mse: 0.831577 (61.41429475904909 steps/sec)\n",
      "Step #5300\tEpoch   1 Batch 2174/3125   Loss: 0.771541 mse: 0.821406 (61.70738460569721 steps/sec)\n",
      "Step #5350\tEpoch   1 Batch 2224/3125   Loss: 0.805371 mse: 0.806761 (61.88806597137892 steps/sec)\n",
      "Step #5400\tEpoch   1 Batch 2274/3125   Loss: 0.872807 mse: 0.815105 (61.89380124056055 steps/sec)\n",
      "Step #5450\tEpoch   1 Batch 2324/3125   Loss: 0.923786 mse: 0.797116 (62.315366592529536 steps/sec)\n",
      "Step #5500\tEpoch   1 Batch 2374/3125   Loss: 0.852572 mse: 0.790620 (61.81054334220193 steps/sec)\n",
      "Step #5550\tEpoch   1 Batch 2424/3125   Loss: 0.840238 mse: 0.801337 (61.97495766681344 steps/sec)\n",
      "Step #5600\tEpoch   1 Batch 2474/3125   Loss: 0.830354 mse: 0.802662 (63.11398124654471 steps/sec)\n",
      "Step #5650\tEpoch   1 Batch 2524/3125   Loss: 0.829235 mse: 0.806920 (62.162094067522055 steps/sec)\n",
      "Step #5700\tEpoch   1 Batch 2574/3125   Loss: 0.823767 mse: 0.796332 (62.74414063960876 steps/sec)\n",
      "Step #5750\tEpoch   1 Batch 2624/3125   Loss: 0.924529 mse: 0.796737 (62.973396043923834 steps/sec)\n",
      "Step #5800\tEpoch   1 Batch 2674/3125   Loss: 0.763748 mse: 0.801204 (61.16494292414901 steps/sec)\n",
      "Step #5850\tEpoch   1 Batch 2724/3125   Loss: 0.770263 mse: 0.794402 (61.80416778040688 steps/sec)\n",
      "Step #5900\tEpoch   1 Batch 2774/3125   Loss: 0.758116 mse: 0.797868 (60.75688260112159 steps/sec)\n",
      "Step #5950\tEpoch   1 Batch 2824/3125   Loss: 0.852605 mse: 0.802837 (60.92852762081902 steps/sec)\n",
      "Step #6000\tEpoch   1 Batch 2874/3125   Loss: 0.902130 mse: 0.799063 (63.69321593411616 steps/sec)\n",
      "Step #6050\tEpoch   1 Batch 2924/3125   Loss: 0.788894 mse: 0.811522 (62.077286392058475 steps/sec)\n",
      "Step #6100\tEpoch   1 Batch 2974/3125   Loss: 0.798465 mse: 0.802653 (63.39284634711975 steps/sec)\n",
      "Step #6150\tEpoch   1 Batch 3024/3125   Loss: 0.757853 mse: 0.792354 (63.72906202299732 steps/sec)\n",
      "Step #6200\tEpoch   1 Batch 3074/3125   Loss: 0.866082 mse: 0.803143 (63.44932998793733 steps/sec)\n",
      "Step #6250\tEpoch   1 Batch 3124/3125   Loss: 0.864308 mse: 0.807296 (62.64793040818277 steps/sec)\n",
      "\n",
      "Train time for epoch #2 (6250 total steps): 49.93404293060303\n",
      "Model test set loss: 0.802565 mse: 0.802565\n",
      "best loss = 0.8025650978088379\n",
      "Step #6300\tEpoch   2 Batch   49/3125   Loss: 0.813889 mse: 0.800801 (62.61095322670837 steps/sec)\n",
      "Step #6350\tEpoch   2 Batch   99/3125   Loss: 0.662282 mse: 0.769048 (64.39642476819581 steps/sec)\n",
      "Step #6400\tEpoch   2 Batch  149/3125   Loss: 0.800625 mse: 0.780482 (61.95910109385193 steps/sec)\n",
      "Step #6450\tEpoch   2 Batch  199/3125   Loss: 0.683637 mse: 0.765284 (63.107390943767776 steps/sec)\n",
      "Step #6500\tEpoch   2 Batch  249/3125   Loss: 0.695655 mse: 0.782494 (63.75221307807545 steps/sec)\n",
      "Step #6550\tEpoch   2 Batch  299/3125   Loss: 0.767341 mse: 0.808741 (62.22297650533382 steps/sec)\n",
      "Step #6600\tEpoch   2 Batch  349/3125   Loss: 0.704351 mse: 0.775135 (58.49762107390724 steps/sec)\n",
      "Step #6650\tEpoch   2 Batch  399/3125   Loss: 0.865762 mse: 0.790302 (63.57277342420216 steps/sec)\n",
      "Step #6700\tEpoch   2 Batch  449/3125   Loss: 0.659424 mse: 0.766745 (61.186053975200586 steps/sec)\n",
      "Step #6750\tEpoch   2 Batch  499/3125   Loss: 0.868598 mse: 0.789623 (64.72897132223648 steps/sec)\n",
      "Step #6800\tEpoch   2 Batch  549/3125   Loss: 0.888490 mse: 0.775693 (65.13009702345663 steps/sec)\n",
      "Step #6850\tEpoch   2 Batch  599/3125   Loss: 0.698548 mse: 0.791246 (62.21808453985244 steps/sec)\n",
      "Step #6900\tEpoch   2 Batch  649/3125   Loss: 0.700929 mse: 0.799207 (63.49474321613746 steps/sec)\n",
      "Step #6950\tEpoch   2 Batch  699/3125   Loss: 0.879349 mse: 0.781322 (62.6008234531001 steps/sec)\n",
      "Step #7000\tEpoch   2 Batch  749/3125   Loss: 0.824155 mse: 0.785065 (63.308777426154926 steps/sec)\n",
      "Step #7050\tEpoch   2 Batch  799/3125   Loss: 0.844875 mse: 0.776201 (63.924152494842545 steps/sec)\n",
      "Step #7100\tEpoch   2 Batch  849/3125   Loss: 0.810318 mse: 0.776105 (64.35972545523457 steps/sec)\n",
      "Step #7150\tEpoch   2 Batch  899/3125   Loss: 0.961124 mse: 0.783892 (62.54397444263251 steps/sec)\n",
      "Step #7200\tEpoch   2 Batch  949/3125   Loss: 0.820542 mse: 0.787878 (62.64458065076938 steps/sec)\n",
      "Step #7250\tEpoch   2 Batch  999/3125   Loss: 0.717107 mse: 0.800213 (57.74445100076244 steps/sec)\n",
      "Step #7300\tEpoch   2 Batch 1049/3125   Loss: 0.638832 mse: 0.782519 (63.17997909216619 steps/sec)\n",
      "Step #7350\tEpoch   2 Batch 1099/3125   Loss: 0.699771 mse: 0.784435 (61.33219548958817 steps/sec)\n",
      "Step #7400\tEpoch   2 Batch 1149/3125   Loss: 0.748250 mse: 0.787423 (62.383674926376536 steps/sec)\n",
      "Step #7450\tEpoch   2 Batch 1199/3125   Loss: 0.823327 mse: 0.783031 (62.52301586544424 steps/sec)\n",
      "Step #7500\tEpoch   2 Batch 1249/3125   Loss: 0.902379 mse: 0.790439 (61.62071598846187 steps/sec)\n",
      "Step #7550\tEpoch   2 Batch 1299/3125   Loss: 0.860560 mse: 0.769942 (62.496353153602044 steps/sec)\n",
      "Step #7600\tEpoch   2 Batch 1349/3125   Loss: 0.799143 mse: 0.783890 (64.4599023612376 steps/sec)\n",
      "Step #7650\tEpoch   2 Batch 1399/3125   Loss: 0.643541 mse: 0.791632 (63.43952204492173 steps/sec)\n",
      "Step #7700\tEpoch   2 Batch 1449/3125   Loss: 0.721747 mse: 0.792948 (63.94315600175991 steps/sec)\n",
      "Step #7750\tEpoch   2 Batch 1499/3125   Loss: 0.964862 mse: 0.786354 (64.40306950359489 steps/sec)\n",
      "Step #7800\tEpoch   2 Batch 1549/3125   Loss: 0.760250 mse: 0.776469 (64.68656433749196 steps/sec)\n",
      "Step #7850\tEpoch   2 Batch 1599/3125   Loss: 0.783549 mse: 0.770666 (62.99338992815609 steps/sec)\n",
      "Step #7900\tEpoch   2 Batch 1649/3125   Loss: 0.886457 mse: 0.775357 (62.04123653393013 steps/sec)\n",
      "Step #7950\tEpoch   2 Batch 1699/3125   Loss: 0.819783 mse: 0.781880 (62.5314237137634 steps/sec)\n",
      "Step #8000\tEpoch   2 Batch 1749/3125   Loss: 0.623549 mse: 0.752642 (61.679834567673936 steps/sec)\n",
      "Step #8050\tEpoch   2 Batch 1799/3125   Loss: 0.779355 mse: 0.791897 (64.29618864980125 steps/sec)\n",
      "Step #8100\tEpoch   2 Batch 1849/3125   Loss: 0.682919 mse: 0.785938 (63.34704293150195 steps/sec)\n",
      "Step #8150\tEpoch   2 Batch 1899/3125   Loss: 0.781316 mse: 0.771269 (62.42060701054346 steps/sec)\n",
      "Step #8200\tEpoch   2 Batch 1949/3125   Loss: 0.731713 mse: 0.787441 (63.9502535411754 steps/sec)\n",
      "Step #8250\tEpoch   2 Batch 1999/3125   Loss: 0.774170 mse: 0.774091 (63.57707122844312 steps/sec)\n",
      "Step #8300\tEpoch   2 Batch 2049/3125   Loss: 0.657740 mse: 0.782420 (63.50118393721196 steps/sec)\n",
      "Step #8350\tEpoch   2 Batch 2099/3125   Loss: 0.696223 mse: 0.771099 (63.99923829031576 steps/sec)\n",
      "Step #8400\tEpoch   2 Batch 2149/3125   Loss: 0.699924 mse: 0.789796 (63.900311769480716 steps/sec)\n",
      "Step #8450\tEpoch   2 Batch 2199/3125   Loss: 0.801888 mse: 0.785113 (63.97342900485974 steps/sec)\n",
      "Step #8500\tEpoch   2 Batch 2249/3125   Loss: 0.716592 mse: 0.768531 (62.81484143921524 steps/sec)\n",
      "Step #8550\tEpoch   2 Batch 2299/3125   Loss: 0.862439 mse: 0.785245 (63.035916746921174 steps/sec)\n",
      "Step #8600\tEpoch   2 Batch 2349/3125   Loss: 0.779857 mse: 0.783802 (63.361167525419674 steps/sec)\n",
      "Step #8650\tEpoch   2 Batch 2399/3125   Loss: 0.720106 mse: 0.784975 (64.79586918424299 steps/sec)\n",
      "Step #8700\tEpoch   2 Batch 2449/3125   Loss: 0.799831 mse: 0.786923 (62.584532982224836 steps/sec)\n",
      "Step #8750\tEpoch   2 Batch 2499/3125   Loss: 0.880606 mse: 0.757826 (64.91558953910176 steps/sec)\n",
      "Step #8800\tEpoch   2 Batch 2549/3125   Loss: 0.776256 mse: 0.785302 (64.1707276622802 steps/sec)\n",
      "Step #8850\tEpoch   2 Batch 2599/3125   Loss: 0.836209 mse: 0.769369 (63.426206522777946 steps/sec)\n",
      "Step #8900\tEpoch   2 Batch 2649/3125   Loss: 0.841205 mse: 0.770017 (63.54122259964447 steps/sec)\n",
      "Step #8950\tEpoch   2 Batch 2699/3125   Loss: 0.708039 mse: 0.780865 (63.58125395459166 steps/sec)\n",
      "Step #9000\tEpoch   2 Batch 2749/3125   Loss: 0.755377 mse: 0.764460 (64.32324550897101 steps/sec)\n",
      "Step #9050\tEpoch   2 Batch 2799/3125   Loss: 0.862104 mse: 0.775527 (61.97490272241305 steps/sec)\n",
      "Step #9100\tEpoch   2 Batch 2849/3125   Loss: 0.854668 mse: 0.789489 (63.49435873680514 steps/sec)\n",
      "Step #9150\tEpoch   2 Batch 2899/3125   Loss: 0.786786 mse: 0.765001 (63.82808025015629 steps/sec)\n",
      "Step #9200\tEpoch   2 Batch 2949/3125   Loss: 0.813749 mse: 0.771421 (59.36714174866448 steps/sec)\n",
      "Step #9250\tEpoch   2 Batch 2999/3125   Loss: 0.781799 mse: 0.763343 (59.741911995745156 steps/sec)\n",
      "Step #9300\tEpoch   2 Batch 3049/3125   Loss: 0.734099 mse: 0.781238 (57.379095385763684 steps/sec)\n",
      "Step #9350\tEpoch   2 Batch 3099/3125   Loss: 0.854676 mse: 0.770280 (55.979943709132534 steps/sec)\n",
      "\n",
      "Train time for epoch #3 (9375 total steps): 49.96388864517212\n",
      "Model test set loss: 0.785887 mse: 0.786166\n",
      "best loss = 0.7858871817588806\n",
      "Step #9400\tEpoch   3 Batch   24/3125   Loss: 0.716854 mse: 0.785026 (129.1955954702884 steps/sec)\n",
      "Step #9450\tEpoch   3 Batch   74/3125   Loss: 0.734975 mse: 0.717490 (61.61658808697152 steps/sec)\n",
      "Step #9500\tEpoch   3 Batch  124/3125   Loss: 0.889132 mse: 0.742607 (63.80782488288294 steps/sec)\n",
      "Step #9550\tEpoch   3 Batch  174/3125   Loss: 0.681620 mse: 0.758105 (59.19424324784332 steps/sec)\n",
      "Step #9600\tEpoch   3 Batch  224/3125   Loss: 0.770647 mse: 0.745179 (62.3934189680692 steps/sec)\n",
      "Step #9650\tEpoch   3 Batch  274/3125   Loss: 0.577506 mse: 0.752384 (64.80239637157602 steps/sec)\n",
      "Step #9700\tEpoch   3 Batch  324/3125   Loss: 0.703765 mse: 0.725463 (61.094541392994415 steps/sec)\n",
      "Step #9750\tEpoch   3 Batch  374/3125   Loss: 0.748887 mse: 0.735355 (62.38267285470621 steps/sec)\n",
      "Step #9800\tEpoch   3 Batch  424/3125   Loss: 0.768162 mse: 0.754615 (60.532654523874605 steps/sec)\n",
      "Step #9850\tEpoch   3 Batch  474/3125   Loss: 0.616857 mse: 0.744767 (61.95836888467657 steps/sec)\n",
      "Step #9900\tEpoch   3 Batch  524/3125   Loss: 0.615782 mse: 0.736788 (61.20932334013485 steps/sec)\n",
      "Step #9950\tEpoch   3 Batch  574/3125   Loss: 0.544973 mse: 0.736159 (62.096145225161415 steps/sec)\n",
      "Step #10000\tEpoch   3 Batch  624/3125   Loss: 0.762375 mse: 0.737472 (59.330812781708985 steps/sec)\n",
      "Step #10050\tEpoch   3 Batch  674/3125   Loss: 0.842979 mse: 0.754979 (62.952167624939136 steps/sec)\n",
      "Step #10100\tEpoch   3 Batch  724/3125   Loss: 0.588225 mse: 0.737091 (62.63631071690231 steps/sec)\n",
      "Step #10150\tEpoch   3 Batch  774/3125   Loss: 0.683414 mse: 0.744289 (63.259660425519336 steps/sec)\n",
      "Step #10200\tEpoch   3 Batch  824/3125   Loss: 0.809963 mse: 0.726022 (62.189412790044244 steps/sec)\n",
      "Step #10250\tEpoch   3 Batch  874/3125   Loss: 0.808951 mse: 0.752368 (60.25123258996305 steps/sec)\n",
      "Step #10300\tEpoch   3 Batch  924/3125   Loss: 0.717509 mse: 0.732615 (63.650029728509956 steps/sec)\n",
      "Step #10350\tEpoch   3 Batch  974/3125   Loss: 0.859406 mse: 0.761693 (60.51834811024449 steps/sec)\n",
      "Step #10400\tEpoch   3 Batch 1024/3125   Loss: 0.633474 mse: 0.733463 (62.761566130244304 steps/sec)\n",
      "Step #10450\tEpoch   3 Batch 1074/3125   Loss: 0.738261 mse: 0.769771 (61.668281041127436 steps/sec)\n",
      "Step #10500\tEpoch   3 Batch 1124/3125   Loss: 0.658405 mse: 0.736120 (60.10929525598054 steps/sec)\n",
      "Step #10550\tEpoch   3 Batch 1174/3125   Loss: 0.688428 mse: 0.754773 (61.26622290583009 steps/sec)\n",
      "Step #10600\tEpoch   3 Batch 1224/3125   Loss: 0.776607 mse: 0.752299 (61.01453681627285 steps/sec)\n",
      "Step #10650\tEpoch   3 Batch 1274/3125   Loss: 0.708721 mse: 0.748704 (62.00561351098118 steps/sec)\n",
      "Step #10700\tEpoch   3 Batch 1324/3125   Loss: 0.732476 mse: 0.750483 (60.81223835161773 steps/sec)\n",
      "Step #10750\tEpoch   3 Batch 1374/3125   Loss: 0.718437 mse: 0.740920 (60.31557398030352 steps/sec)\n",
      "Step #10800\tEpoch   3 Batch 1424/3125   Loss: 0.777102 mse: 0.750006 (58.681817062551346 steps/sec)\n",
      "Step #10850\tEpoch   3 Batch 1474/3125   Loss: 0.797278 mse: 0.754545 (61.166691215180606 steps/sec)\n",
      "Step #10900\tEpoch   3 Batch 1524/3125   Loss: 0.774994 mse: 0.747904 (62.57254472777247 steps/sec)\n",
      "Step #10950\tEpoch   3 Batch 1574/3125   Loss: 0.819172 mse: 0.748341 (62.499556693598834 steps/sec)\n",
      "Step #11000\tEpoch   3 Batch 1624/3125   Loss: 0.746080 mse: 0.746158 (59.11211969942665 steps/sec)\n",
      "Step #11050\tEpoch   3 Batch 1674/3125   Loss: 0.732605 mse: 0.743719 (59.330057450078804 steps/sec)\n",
      "Step #11100\tEpoch   3 Batch 1724/3125   Loss: 0.804639 mse: 0.747756 (61.964703066690696 steps/sec)\n",
      "Step #11150\tEpoch   3 Batch 1774/3125   Loss: 0.785229 mse: 0.745316 (60.51227124152832 steps/sec)\n",
      "Step #11200\tEpoch   3 Batch 1824/3125   Loss: 0.714195 mse: 0.729984 (63.52586302732565 steps/sec)\n",
      "Step #11250\tEpoch   3 Batch 1874/3125   Loss: 0.768603 mse: 0.752765 (63.06912982337112 steps/sec)\n",
      "Step #11300\tEpoch   3 Batch 1924/3125   Loss: 0.698240 mse: 0.742818 (60.38782471580618 steps/sec)\n",
      "Step #11350\tEpoch   3 Batch 1974/3125   Loss: 0.763011 mse: 0.757280 (61.88203960458561 steps/sec)\n",
      "Step #11400\tEpoch   3 Batch 2024/3125   Loss: 0.719980 mse: 0.742688 (62.398022926412864 steps/sec)\n",
      "Step #11450\tEpoch   3 Batch 2074/3125   Loss: 0.789426 mse: 0.750616 (61.01084471348946 steps/sec)\n",
      "Step #11500\tEpoch   3 Batch 2124/3125   Loss: 0.923945 mse: 0.744345 (62.90213053900549 steps/sec)\n",
      "Step #11550\tEpoch   3 Batch 2174/3125   Loss: 0.588398 mse: 0.755185 (64.15041125784118 steps/sec)\n",
      "Step #11600\tEpoch   3 Batch 2224/3125   Loss: 0.775125 mse: 0.743850 (59.0171666440127 steps/sec)\n",
      "Step #11650\tEpoch   3 Batch 2274/3125   Loss: 0.828956 mse: 0.748778 (61.355073553462226 steps/sec)\n",
      "Step #11700\tEpoch   3 Batch 2324/3125   Loss: 0.765290 mse: 0.752598 (61.9067003463513 steps/sec)\n",
      "Step #11750\tEpoch   3 Batch 2374/3125   Loss: 0.719068 mse: 0.762432 (60.88497753922326 steps/sec)\n",
      "Step #11800\tEpoch   3 Batch 2424/3125   Loss: 0.789138 mse: 0.746062 (61.57544794579874 steps/sec)\n",
      "Step #11850\tEpoch   3 Batch 2474/3125   Loss: 0.723152 mse: 0.750022 (60.68971744140047 steps/sec)\n",
      "Step #11900\tEpoch   3 Batch 2524/3125   Loss: 0.696145 mse: 0.763060 (59.665374627011744 steps/sec)\n",
      "Step #11950\tEpoch   3 Batch 2574/3125   Loss: 0.711243 mse: 0.747676 (57.262718255626055 steps/sec)\n",
      "Step #12000\tEpoch   3 Batch 2624/3125   Loss: 0.704420 mse: 0.761502 (59.76305679700642 steps/sec)\n",
      "Step #12050\tEpoch   3 Batch 2674/3125   Loss: 0.679682 mse: 0.736816 (59.677293596125836 steps/sec)\n",
      "Step #12100\tEpoch   3 Batch 2724/3125   Loss: 0.669592 mse: 0.749117 (61.37125101363502 steps/sec)\n",
      "Step #12150\tEpoch   3 Batch 2774/3125   Loss: 0.770392 mse: 0.748868 (63.55345012340052 steps/sec)\n",
      "Step #12200\tEpoch   3 Batch 2824/3125   Loss: 0.619405 mse: 0.751654 (63.71016618429283 steps/sec)\n",
      "Step #12250\tEpoch   3 Batch 2874/3125   Loss: 0.776774 mse: 0.745754 (62.59615215284413 steps/sec)\n",
      "Step #12300\tEpoch   3 Batch 2924/3125   Loss: 0.671521 mse: 0.753835 (62.51783432692818 steps/sec)\n",
      "Step #12350\tEpoch   3 Batch 2974/3125   Loss: 0.995140 mse: 0.736503 (62.69512705530643 steps/sec)\n",
      "Step #12400\tEpoch   3 Batch 3024/3125   Loss: 0.780942 mse: 0.746901 (62.46560098603308 steps/sec)\n",
      "Step #12450\tEpoch   3 Batch 3074/3125   Loss: 0.724963 mse: 0.753163 (62.817833100591706 steps/sec)\n",
      "Step #12500\tEpoch   3 Batch 3124/3125   Loss: 0.725360 mse: 0.733027 (60.78391363223209 steps/sec)\n",
      "\n",
      "Train time for epoch #4 (12500 total steps): 50.88632822036743\n",
      "Model test set loss: 0.763582 mse: 0.763582\n",
      "best loss = 0.7635822296142578\n",
      "Step #12550\tEpoch   4 Batch   49/3125   Loss: 0.601495 mse: 0.759809 (62.981906552676776 steps/sec)\n",
      "Step #12600\tEpoch   4 Batch   99/3125   Loss: 0.626874 mse: 0.713282 (63.572195288602 steps/sec)\n",
      "Step #12650\tEpoch   4 Batch  149/3125   Loss: 0.702920 mse: 0.711309 (61.50747201495547 steps/sec)\n",
      "Step #12700\tEpoch   4 Batch  199/3125   Loss: 0.621186 mse: 0.705960 (58.882382752671205 steps/sec)\n",
      "Step #12750\tEpoch   4 Batch  249/3125   Loss: 0.643888 mse: 0.699946 (58.64179562312808 steps/sec)\n",
      "Step #12800\tEpoch   4 Batch  299/3125   Loss: 0.671848 mse: 0.704741 (60.18588830744982 steps/sec)\n",
      "Step #12850\tEpoch   4 Batch  349/3125   Loss: 0.759093 mse: 0.724253 (61.42240703907758 steps/sec)\n",
      "Step #12900\tEpoch   4 Batch  399/3125   Loss: 0.724072 mse: 0.711260 (61.80613495630708 steps/sec)\n",
      "Step #12950\tEpoch   4 Batch  449/3125   Loss: 0.631544 mse: 0.693045 (60.79543774470782 steps/sec)\n",
      "Step #13000\tEpoch   4 Batch  499/3125   Loss: 0.682812 mse: 0.713407 (59.60896849566054 steps/sec)\n",
      "Step #13050\tEpoch   4 Batch  549/3125   Loss: 0.768831 mse: 0.716022 (60.97761815483529 steps/sec)\n",
      "Step #13100\tEpoch   4 Batch  599/3125   Loss: 0.747223 mse: 0.713224 (59.07583581882695 steps/sec)\n",
      "Step #13150\tEpoch   4 Batch  649/3125   Loss: 0.827271 mse: 0.736776 (58.1349809169193 steps/sec)\n",
      "Step #13200\tEpoch   4 Batch  699/3125   Loss: 0.684849 mse: 0.709490 (63.20402812842538 steps/sec)\n",
      "Step #13250\tEpoch   4 Batch  749/3125   Loss: 0.805213 mse: 0.712862 (60.60561923934335 steps/sec)\n",
      "Step #13300\tEpoch   4 Batch  799/3125   Loss: 0.704034 mse: 0.712764 (60.198223520442376 steps/sec)\n",
      "Step #13350\tEpoch   4 Batch  849/3125   Loss: 0.716059 mse: 0.700668 (60.50340260090959 steps/sec)\n",
      "Step #13400\tEpoch   4 Batch  899/3125   Loss: 0.638812 mse: 0.714736 (61.290323523403345 steps/sec)\n",
      "Step #13450\tEpoch   4 Batch  949/3125   Loss: 0.778055 mse: 0.716567 (63.76204040767047 steps/sec)\n",
      "Step #13500\tEpoch   4 Batch  999/3125   Loss: 0.621419 mse: 0.718222 (63.584299788098015 steps/sec)\n",
      "Step #13550\tEpoch   4 Batch 1049/3125   Loss: 0.801187 mse: 0.719448 (64.53742453099895 steps/sec)\n",
      "Step #13600\tEpoch   4 Batch 1099/3125   Loss: 0.855304 mse: 0.723929 (62.167677522247715 steps/sec)\n",
      "Step #13650\tEpoch   4 Batch 1149/3125   Loss: 0.710980 mse: 0.715353 (52.65605034929497 steps/sec)\n",
      "Step #13700\tEpoch   4 Batch 1199/3125   Loss: 0.847592 mse: 0.732967 (63.66303355287443 steps/sec)\n",
      "Step #13750\tEpoch   4 Batch 1249/3125   Loss: 0.649470 mse: 0.740483 (62.95823412701391 steps/sec)\n",
      "Step #13800\tEpoch   4 Batch 1299/3125   Loss: 0.653211 mse: 0.710640 (61.95727060336158 steps/sec)\n",
      "Step #13850\tEpoch   4 Batch 1349/3125   Loss: 0.868359 mse: 0.724523 (61.30506898001255 steps/sec)\n",
      "Step #13900\tEpoch   4 Batch 1399/3125   Loss: 0.718001 mse: 0.711773 (62.64291526225675 steps/sec)\n",
      "Step #13950\tEpoch   4 Batch 1449/3125   Loss: 0.774025 mse: 0.715702 (61.2630908596952 steps/sec)\n",
      "Step #14000\tEpoch   4 Batch 1499/3125   Loss: 0.701155 mse: 0.714771 (63.32389834367317 steps/sec)\n",
      "Step #14050\tEpoch   4 Batch 1549/3125   Loss: 0.800582 mse: 0.719233 (60.279998551315344 steps/sec)\n",
      "Step #14100\tEpoch   4 Batch 1599/3125   Loss: 0.790600 mse: 0.731433 (61.81606381950192 steps/sec)\n",
      "Step #14150\tEpoch   4 Batch 1649/3125   Loss: 0.820614 mse: 0.724020 (56.30925367587929 steps/sec)\n",
      "Step #14200\tEpoch   4 Batch 1699/3125   Loss: 0.777420 mse: 0.722093 (53.835895337461395 steps/sec)\n",
      "Step #14250\tEpoch   4 Batch 1749/3125   Loss: 0.721379 mse: 0.728089 (53.250116484121975 steps/sec)\n",
      "Step #14300\tEpoch   4 Batch 1799/3125   Loss: 0.629080 mse: 0.714677 (52.00702304312029 steps/sec)\n",
      "Step #14350\tEpoch   4 Batch 1849/3125   Loss: 0.733673 mse: 0.727000 (52.22686482714584 steps/sec)\n",
      "Step #14400\tEpoch   4 Batch 1899/3125   Loss: 0.655727 mse: 0.725324 (51.0509352574027 steps/sec)\n",
      "Step #14450\tEpoch   4 Batch 1949/3125   Loss: 0.845624 mse: 0.739176 (50.62394254442068 steps/sec)\n",
      "Step #14500\tEpoch   4 Batch 1999/3125   Loss: 0.694966 mse: 0.736264 (50.13852243374879 steps/sec)\n",
      "Step #14550\tEpoch   4 Batch 2049/3125   Loss: 0.736888 mse: 0.716404 (52.87495890322542 steps/sec)\n",
      "Step #14600\tEpoch   4 Batch 2099/3125   Loss: 0.736260 mse: 0.723310 (51.36811268323211 steps/sec)\n",
      "Step #14650\tEpoch   4 Batch 2149/3125   Loss: 0.653923 mse: 0.715716 (52.73272506088843 steps/sec)\n",
      "Step #14700\tEpoch   4 Batch 2199/3125   Loss: 0.765228 mse: 0.726142 (59.12873623107989 steps/sec)\n",
      "Step #14750\tEpoch   4 Batch 2249/3125   Loss: 0.722523 mse: 0.724829 (62.59092112414339 steps/sec)\n",
      "Step #14800\tEpoch   4 Batch 2299/3125   Loss: 0.605949 mse: 0.740814 (56.24725757499359 steps/sec)\n",
      "Step #14850\tEpoch   4 Batch 2349/3125   Loss: 0.664821 mse: 0.716774 (51.531836847826725 steps/sec)\n",
      "Step #14900\tEpoch   4 Batch 2399/3125   Loss: 0.679749 mse: 0.721871 (54.084279223832084 steps/sec)\n",
      "Step #14950\tEpoch   4 Batch 2449/3125   Loss: 0.831516 mse: 0.721156 (50.810879960304 steps/sec)\n",
      "Step #15000\tEpoch   4 Batch 2499/3125   Loss: 0.816046 mse: 0.720774 (51.203425229129095 steps/sec)\n",
      "Step #15050\tEpoch   4 Batch 2549/3125   Loss: 0.655002 mse: 0.742470 (49.29433353696819 steps/sec)\n",
      "Step #15100\tEpoch   4 Batch 2599/3125   Loss: 0.704728 mse: 0.722546 (53.08310231918629 steps/sec)\n",
      "Step #15150\tEpoch   4 Batch 2649/3125   Loss: 0.637138 mse: 0.715614 (49.77257456979036 steps/sec)\n",
      "Step #15200\tEpoch   4 Batch 2699/3125   Loss: 0.730929 mse: 0.743471 (48.31969328319693 steps/sec)\n",
      "Step #15250\tEpoch   4 Batch 2749/3125   Loss: 0.707193 mse: 0.735602 (50.62768223377189 steps/sec)\n",
      "Step #15300\tEpoch   4 Batch 2799/3125   Loss: 0.902831 mse: 0.725057 (50.374212194335726 steps/sec)\n",
      "Step #15350\tEpoch   4 Batch 2849/3125   Loss: 0.737530 mse: 0.708629 (58.70561951494253 steps/sec)\n",
      "Step #15400\tEpoch   4 Batch 2899/3125   Loss: 0.689198 mse: 0.738855 (61.93776429441844 steps/sec)\n",
      "Step #15450\tEpoch   4 Batch 2949/3125   Loss: 0.648011 mse: 0.723857 (63.19044950252804 steps/sec)\n",
      "Step #15500\tEpoch   4 Batch 2999/3125   Loss: 0.776897 mse: 0.726807 (61.828201404403785 steps/sec)\n",
      "Step #15550\tEpoch   4 Batch 3049/3125   Loss: 0.776105 mse: 0.729166 (62.847388710945744 steps/sec)\n",
      "Step #15600\tEpoch   4 Batch 3099/3125   Loss: 0.673441 mse: 0.731037 (63.240870242276095 steps/sec)\n",
      "\n",
      "Train time for epoch #5 (15625 total steps): 54.39093089103699\n",
      "Model test set loss: 0.758675 mse: 0.757703\n",
      "best loss = 0.7586748003959656\n",
      "Step #15650\tEpoch   5 Batch   24/3125   Loss: 0.721040 mse: 0.755243 (118.03974786240839 steps/sec)\n",
      "Step #15700\tEpoch   5 Batch   74/3125   Loss: 0.602270 mse: 0.676871 (62.77379603976044 steps/sec)\n",
      "Step #15750\tEpoch   5 Batch  124/3125   Loss: 0.616509 mse: 0.673134 (61.171865314974355 steps/sec)\n",
      "Step #15800\tEpoch   5 Batch  174/3125   Loss: 0.708575 mse: 0.692689 (60.02513030262266 steps/sec)\n",
      "Step #15850\tEpoch   5 Batch  224/3125   Loss: 0.677299 mse: 0.699218 (63.81516426877595 steps/sec)\n",
      "Step #15900\tEpoch   5 Batch  274/3125   Loss: 0.669247 mse: 0.670961 (58.93667618990342 steps/sec)\n",
      "Step #15950\tEpoch   5 Batch  324/3125   Loss: 0.788945 mse: 0.679913 (54.17765469350638 steps/sec)\n",
      "Step #16000\tEpoch   5 Batch  374/3125   Loss: 0.636570 mse: 0.681194 (61.4180538418938 steps/sec)\n",
      "Step #16050\tEpoch   5 Batch  424/3125   Loss: 0.717288 mse: 0.693817 (60.924226446228175 steps/sec)\n",
      "Step #16100\tEpoch   5 Batch  474/3125   Loss: 0.683809 mse: 0.695765 (61.47750488017446 steps/sec)\n",
      "Step #16150\tEpoch   5 Batch  524/3125   Loss: 0.677944 mse: 0.689616 (61.40728143286155 steps/sec)\n",
      "Step #16200\tEpoch   5 Batch  574/3125   Loss: 0.677823 mse: 0.699875 (58.331625048015106 steps/sec)\n",
      "Step #16250\tEpoch   5 Batch  624/3125   Loss: 0.619961 mse: 0.711765 (59.16466785269545 steps/sec)\n",
      "Step #16300\tEpoch   5 Batch  674/3125   Loss: 0.677964 mse: 0.693655 (61.9371057591722 steps/sec)\n",
      "Step #16350\tEpoch   5 Batch  724/3125   Loss: 0.619000 mse: 0.674399 (61.00644317488614 steps/sec)\n",
      "Step #16400\tEpoch   5 Batch  774/3125   Loss: 0.689985 mse: 0.696000 (57.156827020328315 steps/sec)\n",
      "Step #16450\tEpoch   5 Batch  824/3125   Loss: 0.613068 mse: 0.683438 (49.58489550687482 steps/sec)\n",
      "Step #16500\tEpoch   5 Batch  874/3125   Loss: 0.716761 mse: 0.708910 (40.8504060200992 steps/sec)\n",
      "Step #16550\tEpoch   5 Batch  924/3125   Loss: 0.687529 mse: 0.709736 (40.19951468881946 steps/sec)\n",
      "Step #16600\tEpoch   5 Batch  974/3125   Loss: 0.816409 mse: 0.686958 (48.24168690585019 steps/sec)\n",
      "Step #16650\tEpoch   5 Batch 1024/3125   Loss: 0.689505 mse: 0.708024 (45.79550437351399 steps/sec)\n",
      "Step #16700\tEpoch   5 Batch 1074/3125   Loss: 0.654339 mse: 0.700363 (47.80202960411072 steps/sec)\n",
      "Step #16750\tEpoch   5 Batch 1124/3125   Loss: 0.705486 mse: 0.705144 (53.75986743782688 steps/sec)\n",
      "Step #16800\tEpoch   5 Batch 1174/3125   Loss: 0.703701 mse: 0.711815 (57.24396170473646 steps/sec)\n",
      "Step #16850\tEpoch   5 Batch 1224/3125   Loss: 0.716020 mse: 0.706765 (58.18690320781651 steps/sec)\n",
      "Step #16900\tEpoch   5 Batch 1274/3125   Loss: 0.740530 mse: 0.691468 (57.74499159770766 steps/sec)\n",
      "Step #16950\tEpoch   5 Batch 1324/3125   Loss: 0.827649 mse: 0.705112 (59.99380938513234 steps/sec)\n",
      "Step #17000\tEpoch   5 Batch 1374/3125   Loss: 0.712868 mse: 0.705053 (58.92394192549036 steps/sec)\n",
      "Step #17050\tEpoch   5 Batch 1424/3125   Loss: 0.659467 mse: 0.692327 (56.693650744303675 steps/sec)\n",
      "Step #17100\tEpoch   5 Batch 1474/3125   Loss: 0.601566 mse: 0.702077 (58.207559162293784 steps/sec)\n",
      "Step #17150\tEpoch   5 Batch 1524/3125   Loss: 0.762580 mse: 0.716496 (59.89083922202955 steps/sec)\n",
      "Step #17200\tEpoch   5 Batch 1574/3125   Loss: 0.608895 mse: 0.704556 (58.75275567432881 steps/sec)\n",
      "Step #17250\tEpoch   5 Batch 1624/3125   Loss: 0.631975 mse: 0.690457 (59.24317178003364 steps/sec)\n",
      "Step #17300\tEpoch   5 Batch 1674/3125   Loss: 0.672053 mse: 0.704050 (59.41578430092069 steps/sec)\n",
      "Step #17350\tEpoch   5 Batch 1724/3125   Loss: 0.701020 mse: 0.701747 (60.136546233107 steps/sec)\n",
      "Step #17400\tEpoch   5 Batch 1774/3125   Loss: 0.727775 mse: 0.695058 (61.01549541602307 steps/sec)\n",
      "Step #17450\tEpoch   5 Batch 1824/3125   Loss: 0.689750 mse: 0.722970 (60.8966637899894 steps/sec)\n",
      "Step #17500\tEpoch   5 Batch 1874/3125   Loss: 0.670617 mse: 0.711460 (61.77693162640656 steps/sec)\n",
      "Step #17550\tEpoch   5 Batch 1924/3125   Loss: 0.698250 mse: 0.698037 (59.61064591142392 steps/sec)\n",
      "Step #17600\tEpoch   5 Batch 1974/3125   Loss: 0.628079 mse: 0.698630 (58.69991765253175 steps/sec)\n",
      "Step #17650\tEpoch   5 Batch 2024/3125   Loss: 0.697654 mse: 0.706827 (56.25448467572056 steps/sec)\n",
      "Step #17700\tEpoch   5 Batch 2074/3125   Loss: 0.930375 mse: 0.702804 (61.201606593535516 steps/sec)\n",
      "Step #17750\tEpoch   5 Batch 2124/3125   Loss: 0.560093 mse: 0.714613 (58.33892710332474 steps/sec)\n",
      "Step #17800\tEpoch   5 Batch 2174/3125   Loss: 0.712410 mse: 0.697706 (59.90916292368663 steps/sec)\n",
      "Step #17850\tEpoch   5 Batch 2224/3125   Loss: 0.731953 mse: 0.701862 (59.37475580822523 steps/sec)\n",
      "Step #17900\tEpoch   5 Batch 2274/3125   Loss: 0.616834 mse: 0.727009 (61.852381424277176 steps/sec)\n",
      "Step #17950\tEpoch   5 Batch 2324/3125   Loss: 0.687226 mse: 0.705491 (60.46263682752445 steps/sec)\n",
      "Step #18000\tEpoch   5 Batch 2374/3125   Loss: 0.693047 mse: 0.708553 (60.53840344925535 steps/sec)\n",
      "Step #18050\tEpoch   5 Batch 2424/3125   Loss: 0.632061 mse: 0.710973 (61.06325047832324 steps/sec)\n",
      "Step #18100\tEpoch   5 Batch 2474/3125   Loss: 0.737064 mse: 0.698860 (60.93226287823496 steps/sec)\n",
      "Step #18150\tEpoch   5 Batch 2524/3125   Loss: 0.617009 mse: 0.712431 (59.59482435009549 steps/sec)\n",
      "Step #18200\tEpoch   5 Batch 2574/3125   Loss: 0.726352 mse: 0.704454 (59.587678604459406 steps/sec)\n",
      "Step #18250\tEpoch   5 Batch 2624/3125   Loss: 0.671232 mse: 0.702297 (59.530270097958095 steps/sec)\n",
      "Step #18300\tEpoch   5 Batch 2674/3125   Loss: 0.692235 mse: 0.728818 (56.95329814995311 steps/sec)\n",
      "Step #18350\tEpoch   5 Batch 2724/3125   Loss: 0.626236 mse: 0.713637 (59.44276377196381 steps/sec)\n",
      "Step #18400\tEpoch   5 Batch 2774/3125   Loss: 0.580985 mse: 0.710928 (60.78239855408082 steps/sec)\n",
      "Step #18450\tEpoch   5 Batch 2824/3125   Loss: 0.789451 mse: 0.724388 (59.983650848948834 steps/sec)\n",
      "Step #18500\tEpoch   5 Batch 2874/3125   Loss: 0.645639 mse: 0.713681 (59.547139488363314 steps/sec)\n",
      "Step #18550\tEpoch   5 Batch 2924/3125   Loss: 0.768932 mse: 0.710726 (59.23018763904458 steps/sec)\n",
      "Step #18600\tEpoch   5 Batch 2974/3125   Loss: 0.570691 mse: 0.709232 (61.00796944295354 steps/sec)\n",
      "Step #18650\tEpoch   5 Batch 3024/3125   Loss: 0.832290 mse: 0.710939 (60.4132229976499 steps/sec)\n",
      "Step #18700\tEpoch   5 Batch 3074/3125   Loss: 0.652256 mse: 0.719703 (63.0879509243204 steps/sec)\n",
      "Step #18750\tEpoch   5 Batch 3124/3125   Loss: 0.694449 mse: 0.707522 (60.14432444493135 steps/sec)\n",
      "\n",
      "Train time for epoch #6 (18750 total steps): 54.135252952575684\n",
      "Model test set loss: 0.754954 mse: 0.754954\n",
      "best loss = 0.7549538612365723\n",
      "Step #18800\tEpoch   6 Batch   49/3125   Loss: 0.722005 mse: 0.749478 (63.757523724166695 steps/sec)\n",
      "Step #18850\tEpoch   6 Batch   99/3125   Loss: 0.668273 mse: 0.661265 (62.64688240087753 steps/sec)\n",
      "Step #18900\tEpoch   6 Batch  149/3125   Loss: 0.655256 mse: 0.671596 (62.65708324780977 steps/sec)\n",
      "Step #18950\tEpoch   6 Batch  199/3125   Loss: 0.687302 mse: 0.663007 (61.38012440793839 steps/sec)\n",
      "Step #19000\tEpoch   6 Batch  249/3125   Loss: 0.696402 mse: 0.677130 (62.427314807924155 steps/sec)\n",
      "Step #19050\tEpoch   6 Batch  299/3125   Loss: 0.652840 mse: 0.660213 (59.35017261809248 steps/sec)\n",
      "Step #19100\tEpoch   6 Batch  349/3125   Loss: 0.646110 mse: 0.651917 (57.13487075023791 steps/sec)\n",
      "Step #19150\tEpoch   6 Batch  399/3125   Loss: 0.697583 mse: 0.654159 (63.23408181541328 steps/sec)\n",
      "Step #19200\tEpoch   6 Batch  449/3125   Loss: 0.732788 mse: 0.667140 (60.54915284968932 steps/sec)\n",
      "Step #19250\tEpoch   6 Batch  499/3125   Loss: 0.611954 mse: 0.656179 (57.966402929896695 steps/sec)\n",
      "Step #19300\tEpoch   6 Batch  549/3125   Loss: 0.569547 mse: 0.688420 (61.67642428539792 steps/sec)\n",
      "Step #19350\tEpoch   6 Batch  599/3125   Loss: 0.659729 mse: 0.669920 (61.394715401813485 steps/sec)\n",
      "Step #19400\tEpoch   6 Batch  649/3125   Loss: 0.678518 mse: 0.656078 (63.192677292029956 steps/sec)\n",
      "Step #19450\tEpoch   6 Batch  699/3125   Loss: 0.705831 mse: 0.691654 (64.10966023119991 steps/sec)\n",
      "Step #19500\tEpoch   6 Batch  749/3125   Loss: 0.671467 mse: 0.663841 (61.224262201852596 steps/sec)\n",
      "Step #19550\tEpoch   6 Batch  799/3125   Loss: 0.773686 mse: 0.683849 (62.87372979986797 steps/sec)\n",
      "Step #19600\tEpoch   6 Batch  849/3125   Loss: 0.589712 mse: 0.665452 (63.50916455312867 steps/sec)\n",
      "Step #19650\tEpoch   6 Batch  899/3125   Loss: 0.686876 mse: 0.677279 (62.19629233756882 steps/sec)\n",
      "Step #19700\tEpoch   6 Batch  949/3125   Loss: 0.746681 mse: 0.683623 (61.40629250291417 steps/sec)\n",
      "Step #19750\tEpoch   6 Batch  999/3125   Loss: 0.711762 mse: 0.669272 (64.47912666478295 steps/sec)\n",
      "Step #19800\tEpoch   6 Batch 1049/3125   Loss: 0.697760 mse: 0.698095 (61.652091624184095 steps/sec)\n",
      "Step #19850\tEpoch   6 Batch 1099/3125   Loss: 0.584286 mse: 0.685488 (61.78963641629584 steps/sec)\n",
      "Step #19900\tEpoch   6 Batch 1149/3125   Loss: 0.673091 mse: 0.682257 (62.31605171292835 steps/sec)\n",
      "Step #19950\tEpoch   6 Batch 1199/3125   Loss: 0.614120 mse: 0.680443 (62.61291601580227 steps/sec)\n",
      "Step #20000\tEpoch   6 Batch 1249/3125   Loss: 0.857361 mse: 0.675108 (62.38361925488361 steps/sec)\n",
      "Step #20050\tEpoch   6 Batch 1299/3125   Loss: 0.772486 mse: 0.673792 (60.37897512894742 steps/sec)\n",
      "Step #20100\tEpoch   6 Batch 1349/3125   Loss: 0.621884 mse: 0.696835 (61.7961546542215 steps/sec)\n",
      "Step #20150\tEpoch   6 Batch 1399/3125   Loss: 0.703452 mse: 0.702863 (61.47986585051244 steps/sec)\n",
      "Step #20200\tEpoch   6 Batch 1449/3125   Loss: 0.732717 mse: 0.694815 (61.83596758461508 steps/sec)\n",
      "Step #20250\tEpoch   6 Batch 1499/3125   Loss: 0.763420 mse: 0.688793 (63.122947787530975 steps/sec)\n",
      "Step #20300\tEpoch   6 Batch 1549/3125   Loss: 0.723756 mse: 0.691293 (58.823866004625906 steps/sec)\n",
      "Step #20350\tEpoch   6 Batch 1599/3125   Loss: 0.566805 mse: 0.691711 (61.412244544165 steps/sec)\n",
      "Step #20400\tEpoch   6 Batch 1649/3125   Loss: 0.762171 mse: 0.684380 (63.583046719995345 steps/sec)\n",
      "Step #20450\tEpoch   6 Batch 1699/3125   Loss: 0.793358 mse: 0.708704 (62.41936223167126 steps/sec)\n",
      "Step #20500\tEpoch   6 Batch 1749/3125   Loss: 0.697433 mse: 0.695959 (64.06361786270912 steps/sec)\n",
      "Step #20550\tEpoch   6 Batch 1799/3125   Loss: 0.716946 mse: 0.699351 (60.594744733161185 steps/sec)\n",
      "Step #20600\tEpoch   6 Batch 1849/3125   Loss: 0.659580 mse: 0.683724 (61.04480049228175 steps/sec)\n",
      "Step #20650\tEpoch   6 Batch 1899/3125   Loss: 0.681290 mse: 0.688041 (63.14583160826527 steps/sec)\n",
      "Step #20700\tEpoch   6 Batch 1949/3125   Loss: 0.709588 mse: 0.696954 (62.621497653133105 steps/sec)\n",
      "Step #20750\tEpoch   6 Batch 1999/3125   Loss: 0.744969 mse: 0.700869 (62.19857970925087 steps/sec)\n",
      "Step #20800\tEpoch   6 Batch 2049/3125   Loss: 0.766492 mse: 0.685747 (62.779001302487536 steps/sec)\n",
      "Step #20850\tEpoch   6 Batch 2099/3125   Loss: 0.662483 mse: 0.693114 (62.16443420533111 steps/sec)\n",
      "Step #20900\tEpoch   6 Batch 2149/3125   Loss: 0.733462 mse: 0.704232 (63.191154000174166 steps/sec)\n",
      "Step #20950\tEpoch   6 Batch 2199/3125   Loss: 0.719872 mse: 0.706177 (61.29940645897505 steps/sec)\n",
      "Step #21000\tEpoch   6 Batch 2249/3125   Loss: 0.558653 mse: 0.667249 (63.44347556710787 steps/sec)\n",
      "Step #21050\tEpoch   6 Batch 2299/3125   Loss: 0.652063 mse: 0.694103 (60.3934070269562 steps/sec)\n",
      "Step #21100\tEpoch   6 Batch 2349/3125   Loss: 0.731316 mse: 0.694075 (59.1348051766415 steps/sec)\n",
      "Step #21150\tEpoch   6 Batch 2399/3125   Loss: 0.596906 mse: 0.686150 (61.532485007495154 steps/sec)\n",
      "Step #21200\tEpoch   6 Batch 2449/3125   Loss: 0.662243 mse: 0.693012 (61.0756100274398 steps/sec)\n",
      "Step #21250\tEpoch   6 Batch 2499/3125   Loss: 0.695041 mse: 0.690395 (61.437144132753204 steps/sec)\n",
      "Step #21300\tEpoch   6 Batch 2549/3125   Loss: 0.708041 mse: 0.706872 (63.68542107376102 steps/sec)\n",
      "Step #21350\tEpoch   6 Batch 2599/3125   Loss: 0.589321 mse: 0.690613 (61.397447491714 steps/sec)\n",
      "Step #21400\tEpoch   6 Batch 2649/3125   Loss: 0.708742 mse: 0.679849 (61.99276478333074 steps/sec)\n",
      "Step #21450\tEpoch   6 Batch 2699/3125   Loss: 0.543687 mse: 0.685034 (63.31435851685468 steps/sec)\n",
      "Step #21500\tEpoch   6 Batch 2749/3125   Loss: 0.735695 mse: 0.680763 (61.35160934641722 steps/sec)\n",
      "Step #21550\tEpoch   6 Batch 2799/3125   Loss: 0.650592 mse: 0.689780 (60.425390424321456 steps/sec)\n",
      "Step #21600\tEpoch   6 Batch 2849/3125   Loss: 0.680081 mse: 0.699931 (61.789072052562574 steps/sec)\n",
      "Step #21650\tEpoch   6 Batch 2899/3125   Loss: 0.696547 mse: 0.710638 (62.17479189112106 steps/sec)\n",
      "Step #21700\tEpoch   6 Batch 2949/3125   Loss: 0.775708 mse: 0.698828 (59.665323701462846 steps/sec)\n",
      "Step #21750\tEpoch   6 Batch 2999/3125   Loss: 0.702108 mse: 0.699045 (62.2780410536075 steps/sec)\n",
      "Step #21800\tEpoch   6 Batch 3049/3125   Loss: 0.765983 mse: 0.687487 (63.21620243152225 steps/sec)\n",
      "Step #21850\tEpoch   6 Batch 3099/3125   Loss: 0.696155 mse: 0.695586 (59.68539510034645 steps/sec)\n",
      "\n",
      "Train time for epoch #7 (21875 total steps): 50.65467619895935\n",
      "Model test set loss: 0.750703 mse: 0.748633\n",
      "best loss = 0.7507027983665466\n",
      "Step #21900\tEpoch   7 Batch   24/3125   Loss: 0.681324 mse: 0.745269 (121.2881405336754 steps/sec)\n",
      "Step #21950\tEpoch   7 Batch   74/3125   Loss: 0.689295 mse: 0.636739 (60.20017619546961 steps/sec)\n",
      "Step #22000\tEpoch   7 Batch  124/3125   Loss: 0.645230 mse: 0.638418 (63.688979780746 steps/sec)\n",
      "Step #22050\tEpoch   7 Batch  174/3125   Loss: 0.634357 mse: 0.632730 (62.77777977342965 steps/sec)\n",
      "Step #22100\tEpoch   7 Batch  224/3125   Loss: 0.700491 mse: 0.639303 (63.78876590003014 steps/sec)\n",
      "Step #22150\tEpoch   7 Batch  274/3125   Loss: 0.715996 mse: 0.643403 (62.918718927321095 steps/sec)\n",
      "Step #22200\tEpoch   7 Batch  324/3125   Loss: 0.501203 mse: 0.651761 (63.042416324547816 steps/sec)\n",
      "Step #22250\tEpoch   7 Batch  374/3125   Loss: 0.668137 mse: 0.651580 (63.22817173178968 steps/sec)\n",
      "Step #22300\tEpoch   7 Batch  424/3125   Loss: 0.783376 mse: 0.647856 (62.591743085038914 steps/sec)\n",
      "Step #22350\tEpoch   7 Batch  474/3125   Loss: 0.663139 mse: 0.648340 (62.66273725778215 steps/sec)\n",
      "Step #22400\tEpoch   7 Batch  524/3125   Loss: 0.618510 mse: 0.645753 (60.37838408982224 steps/sec)\n",
      "Step #22450\tEpoch   7 Batch  574/3125   Loss: 0.582039 mse: 0.653322 (60.51653190666644 steps/sec)\n",
      "Step #22500\tEpoch   7 Batch  624/3125   Loss: 0.671814 mse: 0.649010 (62.481773745971154 steps/sec)\n",
      "Step #22550\tEpoch   7 Batch  674/3125   Loss: 0.718002 mse: 0.646009 (64.20074488283372 steps/sec)\n",
      "Step #22600\tEpoch   7 Batch  724/3125   Loss: 0.672654 mse: 0.657057 (63.203647161753146 steps/sec)\n",
      "Step #22650\tEpoch   7 Batch  774/3125   Loss: 0.683370 mse: 0.644910 (62.863119109632585 steps/sec)\n",
      "Step #22700\tEpoch   7 Batch  824/3125   Loss: 0.644925 mse: 0.661472 (63.72937188422577 steps/sec)\n",
      "Step #22750\tEpoch   7 Batch  874/3125   Loss: 0.643407 mse: 0.652801 (62.25711244119846 steps/sec)\n",
      "Step #22800\tEpoch   7 Batch  924/3125   Loss: 0.579094 mse: 0.660384 (62.133750017035915 steps/sec)\n",
      "Step #22850\tEpoch   7 Batch  974/3125   Loss: 0.715330 mse: 0.671845 (62.395925070811415 steps/sec)\n",
      "Step #22900\tEpoch   7 Batch 1024/3125   Loss: 0.782173 mse: 0.688708 (63.68428005083441 steps/sec)\n",
      "Step #22950\tEpoch   7 Batch 1074/3125   Loss: 0.603543 mse: 0.659184 (63.80631061654578 steps/sec)\n",
      "Step #23000\tEpoch   7 Batch 1124/3125   Loss: 0.692689 mse: 0.672307 (61.03403426680213 steps/sec)\n",
      "Step #23050\tEpoch   7 Batch 1174/3125   Loss: 0.811312 mse: 0.660922 (62.985330317144346 steps/sec)\n",
      "Step #23100\tEpoch   7 Batch 1224/3125   Loss: 0.745707 mse: 0.659761 (61.64308507010988 steps/sec)\n",
      "Step #23150\tEpoch   7 Batch 1274/3125   Loss: 0.534946 mse: 0.657758 (62.17506838910055 steps/sec)\n",
      "Step #23200\tEpoch   7 Batch 1324/3125   Loss: 0.622926 mse: 0.659157 (63.36612602388401 steps/sec)\n",
      "Step #23250\tEpoch   7 Batch 1374/3125   Loss: 0.769232 mse: 0.667737 (64.33384174960642 steps/sec)\n",
      "Step #23300\tEpoch   7 Batch 1424/3125   Loss: 0.818317 mse: 0.669524 (61.27384853980423 steps/sec)\n",
      "Step #23350\tEpoch   7 Batch 1474/3125   Loss: 0.556848 mse: 0.662963 (62.439489146826375 steps/sec)\n",
      "Step #23400\tEpoch   7 Batch 1524/3125   Loss: 0.594946 mse: 0.650958 (61.13199385168069 steps/sec)\n",
      "Step #23450\tEpoch   7 Batch 1574/3125   Loss: 0.576292 mse: 0.646009 (62.20186348852122 steps/sec)\n",
      "Step #23500\tEpoch   7 Batch 1624/3125   Loss: 0.731241 mse: 0.649667 (63.56144388282871 steps/sec)\n",
      "Step #23550\tEpoch   7 Batch 1674/3125   Loss: 0.667189 mse: 0.672165 (62.89403767550648 steps/sec)\n",
      "Step #23600\tEpoch   7 Batch 1724/3125   Loss: 0.639703 mse: 0.676772 (62.764928410668965 steps/sec)\n",
      "Step #23650\tEpoch   7 Batch 1774/3125   Loss: 0.578857 mse: 0.665122 (61.60245240475958 steps/sec)\n",
      "Step #23700\tEpoch   7 Batch 1824/3125   Loss: 0.717135 mse: 0.663888 (60.9787351711308 steps/sec)\n",
      "Step #23750\tEpoch   7 Batch 1874/3125   Loss: 0.715379 mse: 0.684829 (60.54604124858426 steps/sec)\n",
      "Step #23800\tEpoch   7 Batch 1924/3125   Loss: 0.795274 mse: 0.684493 (62.073813645836694 steps/sec)\n",
      "Step #23850\tEpoch   7 Batch 1974/3125   Loss: 0.582997 mse: 0.673324 (60.88828317938647 steps/sec)\n",
      "Step #23900\tEpoch   7 Batch 2024/3125   Loss: 0.560135 mse: 0.678475 (63.02780836607216 steps/sec)\n",
      "Step #23950\tEpoch   7 Batch 2074/3125   Loss: 0.669340 mse: 0.673685 (61.9077785603839 steps/sec)\n",
      "Step #24000\tEpoch   7 Batch 2124/3125   Loss: 0.629643 mse: 0.687242 (63.58748087510893 steps/sec)\n",
      "Step #24050\tEpoch   7 Batch 2174/3125   Loss: 0.605505 mse: 0.683064 (63.787349546373115 steps/sec)\n",
      "Step #24100\tEpoch   7 Batch 2224/3125   Loss: 0.589883 mse: 0.685117 (62.64302753285608 steps/sec)\n",
      "Step #24150\tEpoch   7 Batch 2274/3125   Loss: 0.684346 mse: 0.672762 (62.94717922827609 steps/sec)\n",
      "Step #24200\tEpoch   7 Batch 2324/3125   Loss: 0.745981 mse: 0.673413 (62.868263810529925 steps/sec)\n",
      "Step #24250\tEpoch   7 Batch 2374/3125   Loss: 0.593144 mse: 0.686031 (62.408997195518545 steps/sec)\n",
      "Step #24300\tEpoch   7 Batch 2424/3125   Loss: 0.652127 mse: 0.678325 (62.00959201414556 steps/sec)\n",
      "Step #24350\tEpoch   7 Batch 2474/3125   Loss: 0.688144 mse: 0.670835 (58.58730733869474 steps/sec)\n",
      "Step #24400\tEpoch   7 Batch 2524/3125   Loss: 0.797203 mse: 0.682032 (63.76521991629331 steps/sec)\n",
      "Step #24450\tEpoch   7 Batch 2574/3125   Loss: 0.633449 mse: 0.688432 (62.015789962391054 steps/sec)\n",
      "Step #24500\tEpoch   7 Batch 2624/3125   Loss: 0.678852 mse: 0.680222 (63.17366045097362 steps/sec)\n",
      "Step #24550\tEpoch   7 Batch 2674/3125   Loss: 0.683474 mse: 0.692687 (64.0521127113307 steps/sec)\n",
      "Step #24600\tEpoch   7 Batch 2724/3125   Loss: 0.575400 mse: 0.681010 (59.699378340232755 steps/sec)\n",
      "Step #24650\tEpoch   7 Batch 2774/3125   Loss: 0.583795 mse: 0.683797 (60.03739970158107 steps/sec)\n",
      "Step #24700\tEpoch   7 Batch 2824/3125   Loss: 0.578571 mse: 0.679849 (61.359740979425936 steps/sec)\n",
      "Step #24750\tEpoch   7 Batch 2874/3125   Loss: 0.763820 mse: 0.698925 (61.039221478893225 steps/sec)\n",
      "Step #24800\tEpoch   7 Batch 2924/3125   Loss: 0.677579 mse: 0.686214 (62.47202069976699 steps/sec)\n",
      "Step #24850\tEpoch   7 Batch 2974/3125   Loss: 0.699297 mse: 0.696503 (63.013623717846826 steps/sec)\n",
      "Step #24900\tEpoch   7 Batch 3024/3125   Loss: 0.600050 mse: 0.689682 (59.4980791485554 steps/sec)\n",
      "Step #24950\tEpoch   7 Batch 3074/3125   Loss: 0.684698 mse: 0.679098 (63.544168328633766 steps/sec)\n",
      "Step #25000\tEpoch   7 Batch 3124/3125   Loss: 0.770770 mse: 0.684550 (63.06920569235766 steps/sec)\n",
      "\n",
      "Train time for epoch #8 (25000 total steps): 50.25305652618408\n",
      "Model test set loss: 0.751653 mse: 0.751653\n",
      "Step #25050\tEpoch   8 Batch   49/3125   Loss: 0.664211 mse: 0.744182 (62.404781579753156 steps/sec)\n",
      "Step #25100\tEpoch   8 Batch   99/3125   Loss: 0.770592 mse: 0.617399 (61.17166904004485 steps/sec)\n",
      "Step #25150\tEpoch   8 Batch  149/3125   Loss: 0.595223 mse: 0.628663 (62.02818957658847 steps/sec)\n",
      "Step #25200\tEpoch   8 Batch  199/3125   Loss: 0.638878 mse: 0.625680 (63.522726584318264 steps/sec)\n",
      "Step #25250\tEpoch   8 Batch  249/3125   Loss: 0.580837 mse: 0.631402 (64.11140452189565 steps/sec)\n",
      "Step #25300\tEpoch   8 Batch  299/3125   Loss: 0.616468 mse: 0.615398 (63.265366457004085 steps/sec)\n",
      "Step #25350\tEpoch   8 Batch  349/3125   Loss: 0.611789 mse: 0.631230 (61.997218161473754 steps/sec)\n",
      "Step #25400\tEpoch   8 Batch  399/3125   Loss: 0.666803 mse: 0.636122 (57.876928953146546 steps/sec)\n",
      "Step #25450\tEpoch   8 Batch  449/3125   Loss: 0.645439 mse: 0.635151 (59.22214233632915 steps/sec)\n",
      "Step #25500\tEpoch   8 Batch  499/3125   Loss: 0.594674 mse: 0.650856 (62.40080790840928 steps/sec)\n",
      "Step #25550\tEpoch   8 Batch  549/3125   Loss: 0.687189 mse: 0.631292 (63.10701114117613 steps/sec)\n",
      "Step #25600\tEpoch   8 Batch  599/3125   Loss: 0.591982 mse: 0.634842 (64.03539065322052 steps/sec)\n",
      "Step #25650\tEpoch   8 Batch  649/3125   Loss: 0.594368 mse: 0.633363 (62.961523000005705 steps/sec)\n",
      "Step #25700\tEpoch   8 Batch  699/3125   Loss: 0.574324 mse: 0.632346 (61.57638809163147 steps/sec)\n",
      "Step #25750\tEpoch   8 Batch  749/3125   Loss: 0.681278 mse: 0.638195 (61.17443484840662 steps/sec)\n",
      "Step #25800\tEpoch   8 Batch  799/3125   Loss: 0.665095 mse: 0.646842 (61.93772770875961 steps/sec)\n",
      "Step #25850\tEpoch   8 Batch  849/3125   Loss: 0.718425 mse: 0.642350 (60.31796798691221 steps/sec)\n",
      "Step #25900\tEpoch   8 Batch  899/3125   Loss: 0.657870 mse: 0.659142 (63.79235557112986 steps/sec)\n",
      "Step #25950\tEpoch   8 Batch  949/3125   Loss: 0.638664 mse: 0.651359 (60.03985762108807 steps/sec)\n",
      "Step #26000\tEpoch   8 Batch  999/3125   Loss: 0.574828 mse: 0.639217 (57.303023861140545 steps/sec)\n",
      "Step #26050\tEpoch   8 Batch 1049/3125   Loss: 0.660322 mse: 0.644795 (61.40273261882559 steps/sec)\n",
      "Step #26100\tEpoch   8 Batch 1099/3125   Loss: 0.701717 mse: 0.655391 (62.975097961670556 steps/sec)\n",
      "Step #26150\tEpoch   8 Batch 1149/3125   Loss: 0.732537 mse: 0.662825 (61.1258287604015 steps/sec)\n",
      "Step #26200\tEpoch   8 Batch 1199/3125   Loss: 0.638285 mse: 0.660245 (61.86617578514493 steps/sec)\n",
      "Step #26250\tEpoch   8 Batch 1249/3125   Loss: 0.586362 mse: 0.640082 (60.65078754993495 steps/sec)\n",
      "Step #26300\tEpoch   8 Batch 1299/3125   Loss: 0.724106 mse: 0.666066 (60.5442583403992 steps/sec)\n",
      "Step #26350\tEpoch   8 Batch 1349/3125   Loss: 0.783806 mse: 0.655264 (54.37267759676183 steps/sec)\n",
      "Step #26400\tEpoch   8 Batch 1399/3125   Loss: 0.602086 mse: 0.644368 (62.156327393393475 steps/sec)\n",
      "Step #26450\tEpoch   8 Batch 1449/3125   Loss: 0.688026 mse: 0.658621 (58.903667884913325 steps/sec)\n",
      "Step #26500\tEpoch   8 Batch 1499/3125   Loss: 0.642247 mse: 0.647070 (60.90237594980637 steps/sec)\n",
      "Step #26550\tEpoch   8 Batch 1549/3125   Loss: 0.568433 mse: 0.649647 (59.64843818884402 steps/sec)\n",
      "Step #26600\tEpoch   8 Batch 1599/3125   Loss: 0.710775 mse: 0.640999 (59.772697799230166 steps/sec)\n",
      "Step #26650\tEpoch   8 Batch 1649/3125   Loss: 0.677140 mse: 0.649604 (61.127895531049816 steps/sec)\n",
      "Step #26700\tEpoch   8 Batch 1699/3125   Loss: 0.603300 mse: 0.652445 (61.389251951389795 steps/sec)\n",
      "Step #26750\tEpoch   8 Batch 1749/3125   Loss: 0.570782 mse: 0.658566 (57.80455098601022 steps/sec)\n",
      "Step #26800\tEpoch   8 Batch 1799/3125   Loss: 0.572126 mse: 0.660385 (60.80314054307157 steps/sec)\n",
      "Step #26850\tEpoch   8 Batch 1849/3125   Loss: 0.611384 mse: 0.651137 (61.21187815486854 steps/sec)\n",
      "Step #26900\tEpoch   8 Batch 1899/3125   Loss: 0.662157 mse: 0.684868 (58.942556673643516 steps/sec)\n",
      "Step #26950\tEpoch   8 Batch 1949/3125   Loss: 0.600379 mse: 0.655177 (57.819978125395465 steps/sec)\n",
      "Step #27000\tEpoch   8 Batch 1999/3125   Loss: 0.604167 mse: 0.663648 (60.22315123731371 steps/sec)\n",
      "Step #27050\tEpoch   8 Batch 2049/3125   Loss: 0.590115 mse: 0.651971 (58.06465724538749 steps/sec)\n",
      "Step #27100\tEpoch   8 Batch 2099/3125   Loss: 0.665282 mse: 0.658067 (61.46536046366787 steps/sec)\n",
      "Step #27150\tEpoch   8 Batch 2149/3125   Loss: 0.766633 mse: 0.666157 (61.47372049687802 steps/sec)\n",
      "Step #27200\tEpoch   8 Batch 2199/3125   Loss: 0.588840 mse: 0.649848 (59.2765617902768 steps/sec)\n",
      "Step #27250\tEpoch   8 Batch 2249/3125   Loss: 0.677750 mse: 0.652085 (57.08274165657516 steps/sec)\n",
      "Step #27300\tEpoch   8 Batch 2299/3125   Loss: 0.629924 mse: 0.668642 (59.04418420337657 steps/sec)\n",
      "Step #27350\tEpoch   8 Batch 2349/3125   Loss: 0.679469 mse: 0.661107 (58.47574784698254 steps/sec)\n",
      "Step #27400\tEpoch   8 Batch 2399/3125   Loss: 0.626878 mse: 0.665851 (61.04655969204723 steps/sec)\n",
      "Step #27450\tEpoch   8 Batch 2449/3125   Loss: 0.589164 mse: 0.643100 (60.14608387605241 steps/sec)\n",
      "Step #27500\tEpoch   8 Batch 2499/3125   Loss: 0.682159 mse: 0.673712 (63.27200888700625 steps/sec)\n",
      "Step #27550\tEpoch   8 Batch 2549/3125   Loss: 0.566714 mse: 0.658428 (60.50890155017937 steps/sec)\n",
      "Step #27600\tEpoch   8 Batch 2599/3125   Loss: 0.562811 mse: 0.667699 (63.50922225163092 steps/sec)\n",
      "Step #27650\tEpoch   8 Batch 2649/3125   Loss: 0.651290 mse: 0.678715 (58.19880402772027 steps/sec)\n",
      "Step #27700\tEpoch   8 Batch 2699/3125   Loss: 0.659562 mse: 0.658157 (63.69232610172601 steps/sec)\n",
      "Step #27750\tEpoch   8 Batch 2749/3125   Loss: 0.583542 mse: 0.673929 (62.72342291335613 steps/sec)\n",
      "Step #27800\tEpoch   8 Batch 2799/3125   Loss: 0.661095 mse: 0.649829 (61.3971958416881 steps/sec)\n",
      "Step #27850\tEpoch   8 Batch 2849/3125   Loss: 0.615791 mse: 0.660944 (62.50879664831678 steps/sec)\n",
      "Step #27900\tEpoch   8 Batch 2899/3125   Loss: 0.666003 mse: 0.665725 (61.263753037039244 steps/sec)\n",
      "Step #27950\tEpoch   8 Batch 2949/3125   Loss: 0.602943 mse: 0.665753 (60.62415516808758 steps/sec)\n",
      "Step #28000\tEpoch   8 Batch 2999/3125   Loss: 0.735967 mse: 0.669911 (62.12193382197861 steps/sec)\n",
      "Step #28050\tEpoch   8 Batch 3049/3125   Loss: 0.596949 mse: 0.668032 (60.75142648321085 steps/sec)\n",
      "Step #28100\tEpoch   8 Batch 3099/3125   Loss: 0.707898 mse: 0.662113 (63.63930991705944 steps/sec)\n",
      "\n",
      "Train time for epoch #9 (28125 total steps): 51.42930197715759\n",
      "Model test set loss: 0.755367 mse: 0.752416\n",
      "Step #28150\tEpoch   9 Batch   24/3125   Loss: 0.698720 mse: 0.747966 (110.95484618498013 steps/sec)\n",
      "Step #28200\tEpoch   9 Batch   74/3125   Loss: 0.544823 mse: 0.620301 (54.38194100674241 steps/sec)\n",
      "Step #28250\tEpoch   9 Batch  124/3125   Loss: 0.614331 mse: 0.610836 (55.141673855774876 steps/sec)\n",
      "Step #28300\tEpoch   9 Batch  174/3125   Loss: 0.522392 mse: 0.617590 (54.226573594374294 steps/sec)\n",
      "Step #28350\tEpoch   9 Batch  224/3125   Loss: 0.573796 mse: 0.611604 (55.0390113536962 steps/sec)\n",
      "Step #28400\tEpoch   9 Batch  274/3125   Loss: 0.562692 mse: 0.613700 (56.30668352433349 steps/sec)\n",
      "Step #28450\tEpoch   9 Batch  324/3125   Loss: 0.657081 mse: 0.610481 (53.754520870980556 steps/sec)\n",
      "Step #28500\tEpoch   9 Batch  374/3125   Loss: 0.647443 mse: 0.611868 (50.054478333853254 steps/sec)\n",
      "Step #28550\tEpoch   9 Batch  424/3125   Loss: 0.520266 mse: 0.594633 (53.48979686573019 steps/sec)\n",
      "Step #28600\tEpoch   9 Batch  474/3125   Loss: 0.579683 mse: 0.634552 (53.49032895060704 steps/sec)\n",
      "Step #28650\tEpoch   9 Batch  524/3125   Loss: 0.551783 mse: 0.623122 (52.058197690640334 steps/sec)\n",
      "Step #28700\tEpoch   9 Batch  574/3125   Loss: 0.533427 mse: 0.621611 (61.56393348876342 steps/sec)\n",
      "Step #28750\tEpoch   9 Batch  624/3125   Loss: 0.615588 mse: 0.637424 (57.92143142014051 steps/sec)\n",
      "Step #28800\tEpoch   9 Batch  674/3125   Loss: 0.618129 mse: 0.600566 (51.582270463850136 steps/sec)\n",
      "Step #28850\tEpoch   9 Batch  724/3125   Loss: 0.543019 mse: 0.625340 (54.52433371777526 steps/sec)\n",
      "Step #28900\tEpoch   9 Batch  774/3125   Loss: 0.681227 mse: 0.633404 (53.5925214079833 steps/sec)\n",
      "Step #28950\tEpoch   9 Batch  824/3125   Loss: 0.655978 mse: 0.624523 (54.40826800447169 steps/sec)\n",
      "Step #29000\tEpoch   9 Batch  874/3125   Loss: 0.589728 mse: 0.625501 (49.3794347323944 steps/sec)\n",
      "Step #29050\tEpoch   9 Batch  924/3125   Loss: 0.572840 mse: 0.643828 (51.61084551485778 steps/sec)\n",
      "Step #29100\tEpoch   9 Batch  974/3125   Loss: 0.597170 mse: 0.623206 (54.797532957138216 steps/sec)\n",
      "Step #29150\tEpoch   9 Batch 1024/3125   Loss: 0.548684 mse: 0.643514 (51.37265526669956 steps/sec)\n",
      "Step #29200\tEpoch   9 Batch 1074/3125   Loss: 0.783582 mse: 0.633313 (49.094544041426516 steps/sec)\n",
      "Step #29250\tEpoch   9 Batch 1124/3125   Loss: 0.728835 mse: 0.630967 (54.06797891682127 steps/sec)\n",
      "Step #29300\tEpoch   9 Batch 1174/3125   Loss: 0.625843 mse: 0.654328 (54.15318637545709 steps/sec)\n",
      "Step #29350\tEpoch   9 Batch 1224/3125   Loss: 0.619939 mse: 0.630134 (59.69570774280046 steps/sec)\n",
      "Step #29400\tEpoch   9 Batch 1274/3125   Loss: 0.568472 mse: 0.631616 (61.48410163344704 steps/sec)\n",
      "Step #29450\tEpoch   9 Batch 1324/3125   Loss: 0.664436 mse: 0.648057 (59.70631292267554 steps/sec)\n",
      "Step #29500\tEpoch   9 Batch 1374/3125   Loss: 0.590349 mse: 0.633197 (62.05417881078842 steps/sec)\n",
      "Step #29550\tEpoch   9 Batch 1424/3125   Loss: 0.689591 mse: 0.646124 (58.27936329199791 steps/sec)\n",
      "Step #29600\tEpoch   9 Batch 1474/3125   Loss: 0.631671 mse: 0.634844 (58.82391550390098 steps/sec)\n",
      "Step #29650\tEpoch   9 Batch 1524/3125   Loss: 0.633807 mse: 0.646694 (61.21236055641126 steps/sec)\n",
      "Step #29700\tEpoch   9 Batch 1574/3125   Loss: 0.611254 mse: 0.630434 (60.54065788520279 steps/sec)\n",
      "Step #29750\tEpoch   9 Batch 1624/3125   Loss: 0.692111 mse: 0.646737 (61.79103826759562 steps/sec)\n",
      "Step #29800\tEpoch   9 Batch 1674/3125   Loss: 0.682608 mse: 0.639968 (62.84859411561625 steps/sec)\n",
      "Step #29850\tEpoch   9 Batch 1724/3125   Loss: 0.596497 mse: 0.644857 (62.11819848362014 steps/sec)\n",
      "Step #29900\tEpoch   9 Batch 1774/3125   Loss: 0.609818 mse: 0.642275 (64.03883214094972 steps/sec)\n",
      "Step #29950\tEpoch   9 Batch 1824/3125   Loss: 0.595017 mse: 0.626476 (61.748719476790406 steps/sec)\n",
      "Step #30000\tEpoch   9 Batch 1874/3125   Loss: 0.659592 mse: 0.648884 (63.47077983197957 steps/sec)\n",
      "Step #30050\tEpoch   9 Batch 1924/3125   Loss: 0.593848 mse: 0.647240 (61.82056474018821 steps/sec)\n",
      "Step #30100\tEpoch   9 Batch 1974/3125   Loss: 0.741729 mse: 0.650212 (61.22008001529661 steps/sec)\n",
      "Step #30150\tEpoch   9 Batch 2024/3125   Loss: 0.537152 mse: 0.630424 (63.4377565533985 steps/sec)\n",
      "Step #30200\tEpoch   9 Batch 2074/3125   Loss: 0.708405 mse: 0.646392 (59.661487560044776 steps/sec)\n",
      "Step #30250\tEpoch   9 Batch 2124/3125   Loss: 0.665986 mse: 0.647650 (62.073960632510605 steps/sec)\n",
      "Step #30300\tEpoch   9 Batch 2174/3125   Loss: 0.601769 mse: 0.657825 (63.35286042959612 steps/sec)\n",
      "Step #30350\tEpoch   9 Batch 2224/3125   Loss: 0.591285 mse: 0.651186 (60.63814345649955 steps/sec)\n",
      "Step #30400\tEpoch   9 Batch 2274/3125   Loss: 0.684431 mse: 0.649440 (59.6573803802605 steps/sec)\n",
      "Step #30450\tEpoch   9 Batch 2324/3125   Loss: 0.697565 mse: 0.653465 (60.77570492679333 steps/sec)\n",
      "Step #30500\tEpoch   9 Batch 2374/3125   Loss: 0.644052 mse: 0.648215 (62.28109277725328 steps/sec)\n",
      "Step #30550\tEpoch   9 Batch 2424/3125   Loss: 0.672141 mse: 0.655779 (58.6190935131787 steps/sec)\n",
      "Step #30600\tEpoch   9 Batch 2474/3125   Loss: 0.602204 mse: 0.652437 (58.98285711714266 steps/sec)\n",
      "Step #30650\tEpoch   9 Batch 2524/3125   Loss: 0.570686 mse: 0.640456 (54.3310805401833 steps/sec)\n",
      "Step #30700\tEpoch   9 Batch 2574/3125   Loss: 0.720555 mse: 0.648217 (52.272231598305176 steps/sec)\n",
      "Step #30750\tEpoch   9 Batch 2624/3125   Loss: 0.696214 mse: 0.644280 (49.857949615025625 steps/sec)\n",
      "Step #30800\tEpoch   9 Batch 2674/3125   Loss: 0.644789 mse: 0.651237 (53.42330146848661 steps/sec)\n",
      "Step #30850\tEpoch   9 Batch 2724/3125   Loss: 0.685811 mse: 0.657517 (53.5401735372427 steps/sec)\n",
      "Step #30900\tEpoch   9 Batch 2774/3125   Loss: 0.616215 mse: 0.653490 (50.93144109745536 steps/sec)\n",
      "Step #30950\tEpoch   9 Batch 2824/3125   Loss: 0.672047 mse: 0.656073 (53.95080619352555 steps/sec)\n",
      "Step #31000\tEpoch   9 Batch 2874/3125   Loss: 0.615355 mse: 0.647583 (61.92293235358296 steps/sec)\n",
      "Step #31050\tEpoch   9 Batch 2924/3125   Loss: 0.663263 mse: 0.647875 (62.30140823061674 steps/sec)\n",
      "Step #31100\tEpoch   9 Batch 2974/3125   Loss: 0.637257 mse: 0.644513 (61.81356763998049 steps/sec)\n",
      "Step #31150\tEpoch   9 Batch 3024/3125   Loss: 0.575441 mse: 0.642550 (62.32751582668322 steps/sec)\n",
      "Step #31200\tEpoch   9 Batch 3074/3125   Loss: 0.599051 mse: 0.649008 (61.69961438329424 steps/sec)\n",
      "Step #31250\tEpoch   9 Batch 3124/3125   Loss: 0.680983 mse: 0.663977 (62.07690051217871 steps/sec)\n",
      "\n",
      "Train time for epoch #10 (31250 total steps): 54.763755083084106\n",
      "Model test set loss: 0.758222 mse: 0.758222\n",
      "WARNING:tensorflow:From /usr/local/lib/python3.6/dist-packages/tensorflow/python/training/tracking/tracking.py:111: Model.state_updates (from tensorflow.python.keras.engine.training) is deprecated and will be removed in a future version.\n",
      "Instructions for updating:\n",
      "This property should not be used in TensorFlow 2.0, as updates are applied automatically.\n"
     ]
    },
    {
     "name": "stderr",
     "output_type": "stream",
     "text": [
      "WARNING:tensorflow:From /usr/local/lib/python3.6/dist-packages/tensorflow/python/training/tracking/tracking.py:111: Model.state_updates (from tensorflow.python.keras.engine.training) is deprecated and will be removed in a future version.\n",
      "Instructions for updating:\n",
      "This property should not be used in TensorFlow 2.0, as updates are applied automatically.\n"
     ]
    },
    {
     "name": "stdout",
     "output_type": "stream",
     "text": [
      "WARNING:tensorflow:From /usr/local/lib/python3.6/dist-packages/tensorflow/python/training/tracking/tracking.py:111: Layer.updates (from tensorflow.python.keras.engine.base_layer) is deprecated and will be removed in a future version.\n",
      "Instructions for updating:\n",
      "This property should not be used in TensorFlow 2.0, as updates are applied automatically.\n"
     ]
    },
    {
     "name": "stderr",
     "output_type": "stream",
     "text": [
      "WARNING:tensorflow:From /usr/local/lib/python3.6/dist-packages/tensorflow/python/training/tracking/tracking.py:111: Layer.updates (from tensorflow.python.keras.engine.base_layer) is deprecated and will be removed in a future version.\n",
      "Instructions for updating:\n",
      "This property should not be used in TensorFlow 2.0, as updates are applied automatically.\n"
     ]
    },
    {
     "name": "stdout",
     "output_type": "stream",
     "text": [
      "INFO:tensorflow:Assets written to: ./models/export/assets\n"
     ]
    },
    {
     "name": "stderr",
     "output_type": "stream",
     "text": [
      "INFO:tensorflow:Assets written to: ./models/export/assets\n"
     ]
    }
   ],
   "source": [
    "mv_net=mv_network()\n",
    "mv_net.training(features, targets_values, epochs=7)"
   ]
  },
  {
   "cell_type": "markdown",
   "metadata": {
    "id": "_u8qVrowy8Zw"
   },
   "source": [
    "### 2.4 可视化模型的训练结果"
   ]
  },
  {
   "cell_type": "markdown",
   "metadata": {
    "id": "Ih2l07ry8nII"
   },
   "source": [
    "#### 2.4.1 显示训练Loss"
   ]
  },
  {
   "cell_type": "code",
   "execution_count": 38,
   "metadata": {
    "colab": {
     "base_uri": "https://localhost:8080/",
     "height": 496
    },
    "executionInfo": {
     "elapsed": 1678,
     "status": "ok",
     "timestamp": 1605510813580,
     "user": {
      "displayName": "Yuxin JIANG",
      "photoUrl": "",
      "userId": "08237551511886881536"
     },
     "user_tz": -480
    },
    "id": "pmGw3DPl8nII",
    "outputId": "a171f91b-0d81-4b41-e457-77f35c892ddf"
   },
   "outputs": [
    {
     "data": {
      "image/png": "[encoded data removed]",
      "text/plain": [
       "<Figure size 864x576 with 1 Axes>"
      ]
     },
     "metadata": {
      "image/png": {
       "height": 479,
       "width": 717
      },
      "needs_background": "light",
      "tags": []
     },
     "output_type": "display_data"
    }
   ],
   "source": [
    "%matplotlib inline\n",
    "%config InlineBackend.figure_format = 'retina'\n",
    "\n",
    "plt.figure(figsize=(12,8))\n",
    "plt.plot(mv_net.losses['train'], label='Training loss')\n",
    "plt.xlabel('Step')\n",
    "plt.ylabel('Training loss')\n",
    "plt.legend()\n",
    "_ = plt.ylim()"
   ]
  },
  {
   "cell_type": "markdown",
   "metadata": {
    "id": "2ng0hf308nIN"
   },
   "source": [
    "#### 2.4.2 显示测试Loss"
   ]
  },
  {
   "cell_type": "code",
   "execution_count": 39,
   "metadata": {
    "colab": {
     "base_uri": "https://localhost:8080/",
     "height": 496
    },
    "executionInfo": {
     "elapsed": 1909,
     "status": "ok",
     "timestamp": 1605510818152,
     "user": {
      "displayName": "Yuxin JIANG",
      "photoUrl": "",
      "userId": "08237551511886881536"
     },
     "user_tz": -480
    },
    "id": "-VmzxdBC8nIN",
    "outputId": "862719c9-0f72-44df-eed0-75685442d7be"
   },
   "outputs": [
    {
     "data": {
      "image/png": "[encoded data removed]",
      "text/plain": [
       "<Figure size 864x576 with 1 Axes>"
      ]
     },
     "metadata": {
      "image/png": {
       "height": 479,
       "width": 720
      },
      "needs_background": "light",
      "tags": []
     },
     "output_type": "display_data"
    }
   ],
   "source": [
    "plt.figure(figsize=(12,8))\n",
    "plt.plot(mv_net.losses['test'], label='Test loss')\n",
    "plt.xlabel('Batch')\n",
    "plt.ylabel('Test loss pre batch')\n",
    "plt.legend()\n",
    "_ = plt.ylim()"
   ]
  },
  {
   "cell_type": "markdown",
   "metadata": {
    "id": "cxVvFPEWzpX-"
   },
   "source": [
    "## **3. 利用模型进行电影推荐**"
   ]
  },
  {
   "cell_type": "markdown",
   "metadata": {
    "id": "ezM8_KIc8nIZ"
   },
   "source": [
    "### 3.1 生成Movie特征矩阵\n",
    "将训练好的电影特征组合成电影特征矩阵并保存到本地"
   ]
  },
  {
   "cell_type": "code",
   "execution_count": 40,
   "metadata": {
    "executionInfo": {
     "elapsed": 63607,
     "status": "ok",
     "timestamp": 1605510909030,
     "user": {
      "displayName": "Yuxin JIANG",
      "photoUrl": "",
      "userId": "08237551511886881536"
     },
     "user_tz": -480
    },
    "id": "cFPEmeg58nIZ"
   },
   "outputs": [],
   "source": [
    "movie_layer_model = keras.models.Model(inputs=[mv_net.model.input[4], mv_net.model.input[5], mv_net.model.input[6]], \n",
    "                                 outputs=mv_net.model.get_layer(\"movie_combine_layer_flat\").output)\n",
    "movie_matrics = []\n",
    "\n",
    "for item in movies.values:\n",
    "    categories = np.zeros([1, 18])\n",
    "    categories[0] = item.take(2)\n",
    "\n",
    "    titles = np.zeros([1, sentences_size])\n",
    "    titles[0] = item.take(1)\n",
    "\n",
    "    movie_combine_layer_flat_val = movie_layer_model([np.reshape(item.take(0), [1, 1]), categories, titles])  \n",
    "    movie_matrics.append(movie_combine_layer_flat_val)\n",
    "\n",
    "pickle.dump((np.array(movie_matrics).reshape(-1, 200)), open('movie_matrics.p', 'wb'))\n",
    "movie_matrics = pickle.load(open('movie_matrics.p', mode='rb'))"
   ]
  },
  {
   "cell_type": "markdown",
   "metadata": {
    "id": "P65VdhuO8nIg"
   },
   "source": [
    "### 3.2 生成User特征矩阵\n",
    "将训练好的用户特征组合成用户特征矩阵并保存到本地"
   ]
  },
  {
   "cell_type": "code",
   "execution_count": 41,
   "metadata": {
    "executionInfo": {
     "elapsed": 120497,
     "status": "ok",
     "timestamp": 1605511032187,
     "user": {
      "displayName": "Yuxin JIANG",
      "photoUrl": "",
      "userId": "08237551511886881536"
     },
     "user_tz": -480
    },
    "id": "oD_HWGjW8nIh"
   },
   "outputs": [],
   "source": [
    "user_layer_model = keras.models.Model(inputs=[mv_net.model.input[0], mv_net.model.input[1], mv_net.model.input[2], mv_net.model.input[3]], \n",
    "                                 outputs=mv_net.model.get_layer(\"user_combine_layer_flat\").output)\n",
    "users_matrics = []\n",
    "\n",
    "for item in users.values:\n",
    "\n",
    "    user_combine_layer_flat_val = user_layer_model([np.reshape(item.take(0), [1, 1]), \n",
    "                                                    np.reshape(item.take(1), [1, 1]), \n",
    "                                                    np.reshape(item.take(2), [1, 1]), \n",
    "                                                    np.reshape(item.take(3), [1, 1])])  \n",
    "    users_matrics.append(user_combine_layer_flat_val)\n",
    "\n",
    "pickle.dump((np.array(users_matrics).reshape(-1, 200)), open('users_matrics.p', 'wb'))\n",
    "users_matrics = pickle.load(open('users_matrics.p', mode='rb'))"
   ]
  },
  {
   "cell_type": "markdown",
   "metadata": {
    "id": "OGaswSaA8nIp"
   },
   "source": [
    "### 3.3 开始推荐电影\n",
    "使用生产的用户特征矩阵和电影特征矩阵做电影推荐"
   ]
  },
  {
   "cell_type": "markdown",
   "metadata": {
    "id": "mgkFlqfU8nIq"
   },
   "source": [
    "#### 3.3.1 推荐同类型的电影\n",
    "思路是计算当前看的电影特征向量与整个电影特征矩阵的余弦相似度，取相似度最大的top_k个，这里加了些随机选择在里面，保证每次的推荐稍稍有些不同。"
   ]
  },
  {
   "cell_type": "code",
   "execution_count": 44,
   "metadata": {
    "executionInfo": {
     "elapsed": 741,
     "status": "ok",
     "timestamp": 1605511189417,
     "user": {
      "displayName": "Yuxin JIANG",
      "photoUrl": "",
      "userId": "08237551511886881536"
     },
     "user_tz": -480
    },
    "id": "32Sh_cgp7IVi"
   },
   "outputs": [],
   "source": [
    "#电影ID转下标的字典，数据集中电影ID跟下标不一致，比如第5行的数据电影ID不一定是5\n",
    "movieid2idx = {val[0]:i for i, val in enumerate(movies.values)}"
   ]
  },
  {
   "cell_type": "code",
   "execution_count": 45,
   "metadata": {
    "executionInfo": {
     "elapsed": 886,
     "status": "ok",
     "timestamp": 1605511191418,
     "user": {
      "displayName": "Yuxin JIANG",
      "photoUrl": "",
      "userId": "08237551511886881536"
     },
     "user_tz": -480
    },
    "id": "EdHlwyDj8nIr"
   },
   "outputs": [],
   "source": [
    "def recommend_same_type_movie(movie_id_val, top_k = 20):\n",
    "   \n",
    "    norm_movie_matrics = tf.sqrt(tf.reduce_sum(tf.square(movie_matrics), 1, keepdims=True))\n",
    "    normalized_movie_matrics = movie_matrics / norm_movie_matrics\n",
    "\n",
    "    #推荐同类型的电影\n",
    "    probs_embeddings = (movie_matrics[movieid2idx[movie_id_val]]).reshape([1, 200])\n",
    "    probs_similarity = tf.matmul(probs_embeddings, tf.transpose(normalized_movie_matrics))\n",
    "    sim = (probs_similarity.numpy())\n",
    "    #     results = (-sim[0]).argsort()[0:top_k]\n",
    "    #     print(results)\n",
    "        \n",
    "    print(\"您看的电影是：{}\".format(movies_orig[movieid2idx[movie_id_val]]))\n",
    "    print(\"以下是给您的推荐：\")\n",
    "    p = np.squeeze(sim)\n",
    "    p[np.argsort(p)[:-top_k]] = 0\n",
    "    p = p / np.sum(p)\n",
    "    results = set()\n",
    "    while len(results) != 5:\n",
    "        c = np.random.choice(3883, 1, p=p)[0]\n",
    "        results.add(c)\n",
    "    for val in (results):\n",
    "        print(val)\n",
    "        print(movies_orig[val])\n",
    "        \n",
    "    return results"
   ]
  },
  {
   "cell_type": "code",
   "execution_count": 46,
   "metadata": {
    "colab": {
     "base_uri": "https://localhost:8080/"
    },
    "executionInfo": {
     "elapsed": 699,
     "status": "ok",
     "timestamp": 1605511192720,
     "user": {
      "displayName": "Yuxin JIANG",
      "photoUrl": "",
      "userId": "08237551511886881536"
     },
     "user_tz": -480
    },
    "id": "xxElXSEY8nIw",
    "outputId": "e5207146-76ff-4cac-8876-cea58e2ea84e"
   },
   "outputs": [
    {
     "name": "stdout",
     "output_type": "stream",
     "text": [
      "您看的电影是：[1401 'Ghosts of Mississippi (1996)' 'Drama']\n",
      "以下是给您的推荐：\n",
      "2501\n",
      "[2570 'Walk on the Moon, A (1999)' 'Drama|Romance']\n",
      "1398\n",
      "[1422 'Murder at 1600 (1997)' 'Mystery|Thriller']\n",
      "2008\n",
      "[2077 'Journey of Natty Gann, The (1985)' \"Adventure|Children's\"]\n",
      "410\n",
      "[414 'Air Up There, The (1994)' 'Comedy']\n",
      "30\n",
      "[31 'Dangerous Minds (1995)' 'Drama']\n"
     ]
    },
    {
     "data": {
      "text/plain": [
       "{30, 410, 1398, 2008, 2501}"
      ]
     },
     "execution_count": 46,
     "metadata": {
      "tags": []
     },
     "output_type": "execute_result"
    }
   ],
   "source": [
    "recommend_same_type_movie(1401, 20)"
   ]
  },
  {
   "cell_type": "markdown",
   "metadata": {
    "id": "15EJvv8r8nI0"
   },
   "source": [
    "#### 3.3.2 推荐用户喜欢的电影\n",
    "思路是使用用户特征向量与电影特征矩阵计算所有电影的评分，取评分最高的top_k个，同样加了些随机选择部分。"
   ]
  },
  {
   "cell_type": "code",
   "execution_count": 47,
   "metadata": {
    "executionInfo": {
     "elapsed": 717,
     "status": "ok",
     "timestamp": 1605511196994,
     "user": {
      "displayName": "Yuxin JIANG",
      "photoUrl": "",
      "userId": "08237551511886881536"
     },
     "user_tz": -480
    },
    "id": "enDZgX2z8nI0"
   },
   "outputs": [],
   "source": [
    "def recommend_your_favorite_movie(user_id_val, top_k = 10):\n",
    "\n",
    "    #推荐您喜欢的电影\n",
    "    probs_embeddings = (users_matrics[user_id_val-1]).reshape([1, 200])\n",
    "\n",
    "    probs_similarity = tf.matmul(probs_embeddings, tf.transpose(movie_matrics))\n",
    "    sim = (probs_similarity.numpy())\n",
    "    #     print(sim.shape)\n",
    "    #     results = (-sim[0]).argsort()[0:top_k]\n",
    "    #     print(results)\n",
    "        \n",
    "    #     sim_norm = probs_norm_similarity.eval()\n",
    "    #     print((-sim_norm[0]).argsort()[0:top_k])\n",
    "    \n",
    "    print(\"以下是给您的推荐：\")\n",
    "    p = np.squeeze(sim)\n",
    "    p[np.argsort(p)[:-top_k]] = 0\n",
    "    p = p / np.sum(p)\n",
    "    results = set()\n",
    "    while len(results) != 5:\n",
    "        c = np.random.choice(3883, 1, p=p)[0]\n",
    "        results.add(c)\n",
    "    for val in (results):\n",
    "        print(val)\n",
    "        print(movies_orig[val])\n",
    "\n",
    "    return results"
   ]
  },
  {
   "cell_type": "code",
   "execution_count": 48,
   "metadata": {
    "colab": {
     "base_uri": "https://localhost:8080/"
    },
    "executionInfo": {
     "elapsed": 484,
     "status": "ok",
     "timestamp": 1605511197937,
     "user": {
      "displayName": "Yuxin JIANG",
      "photoUrl": "",
      "userId": "08237551511886881536"
     },
     "user_tz": -480
    },
    "id": "xrb4MsvZ8nI6",
    "outputId": "1c757669-0d62-4fc4-9a1a-dcd08a17c78f"
   },
   "outputs": [
    {
     "name": "stdout",
     "output_type": "stream",
     "text": [
      "以下是给您的推荐：\n",
      "2693\n",
      "[2762 'Sixth Sense, The (1999)' 'Thriller']\n",
      "523\n",
      "[527 \"Schindler's List (1993)\" 'Drama|War']\n",
      "1363\n",
      "[1384 'Substance of Fire, The (1996)' 'Drama']\n",
      "2836\n",
      "[2905 'Sanjuro (1962)' 'Action|Adventure']\n",
      "820\n",
      "[831 'Stonewall (1995)' 'Drama']\n"
     ]
    },
    {
     "data": {
      "text/plain": [
       "{523, 820, 1363, 2693, 2836}"
      ]
     },
     "execution_count": 48,
     "metadata": {
      "tags": []
     },
     "output_type": "execute_result"
    }
   ],
   "source": [
    "recommend_your_favorite_movie(234, 10)"
   ]
  },
  {
   "cell_type": "markdown",
   "metadata": {
    "id": "XNzraC8O8nI-"
   },
   "source": [
    "#### 3.3.3 看过这个电影的人还看了（喜欢）哪些电影\n",
    "- 首先选出喜欢某个电影的top_k个人，得到这几个人的用户特征向量。\n",
    "- 然后计算这几个人对所有电影的评分\n",
    "- 选择每个人评分最高的电影作为推荐\n",
    "- 同样加入了随机选择"
   ]
  },
  {
   "cell_type": "code",
   "execution_count": 49,
   "metadata": {
    "executionInfo": {
     "elapsed": 979,
     "status": "ok",
     "timestamp": 1605511201178,
     "user": {
      "displayName": "Yuxin JIANG",
      "photoUrl": "",
      "userId": "08237551511886881536"
     },
     "user_tz": -480
    },
    "id": "i7gr9us88nI_"
   },
   "outputs": [],
   "source": [
    "def recommend_other_favorite_movie(movie_id_val, top_k = 20):\n",
    "\n",
    "    probs_movie_embeddings = (movie_matrics[movieid2idx[movie_id_val]]).reshape([1, 200])\n",
    "    probs_user_favorite_similarity = tf.matmul(probs_movie_embeddings, tf.transpose(users_matrics))\n",
    "    favorite_user_id = np.argsort(probs_user_favorite_similarity.numpy())[0][-top_k:]\n",
    "    #     print(normalized_users_matrics.numpy().shape)\n",
    "    #     print(probs_user_favorite_similarity.numpy()[0][favorite_user_id])\n",
    "    #     print(favorite_user_id.shape)\n",
    "    \n",
    "    print(\"您看的电影是：{}\".format(movies_orig[movieid2idx[movie_id_val]]))\n",
    "        \n",
    "    print(\"喜欢看这个电影的人是：{}\".format(users_orig[favorite_user_id-1]))\n",
    "    probs_users_embeddings = (users_matrics[favorite_user_id-1]).reshape([-1, 200])\n",
    "    probs_similarity = tf.matmul(probs_users_embeddings, tf.transpose(movie_matrics))\n",
    "    sim = (probs_similarity.numpy())\n",
    "    #     results = (-sim[0]).argsort()[0:top_k]\n",
    "    #     print(results)\n",
    "    \n",
    "    #     print(sim.shape)\n",
    "    #     print(np.argmax(sim, 1))\n",
    "    p = np.argmax(sim, 1)\n",
    "    print(\"喜欢看这个电影的人还喜欢看：\")\n",
    "\n",
    "    if len(set(p)) < 5:\n",
    "        results = set(p)\n",
    "    else:\n",
    "        results = set()\n",
    "        while len(results) != 5:\n",
    "            c = p[random.randrange(top_k)]\n",
    "            results.add(c)\n",
    "    for val in (results):\n",
    "        print(val)\n",
    "        print(movies_orig[val])\n",
    "        \n",
    "    return results"
   ]
  },
  {
   "cell_type": "code",
   "execution_count": 50,
   "metadata": {
    "colab": {
     "base_uri": "https://localhost:8080/"
    },
    "executionInfo": {
     "elapsed": 557,
     "status": "ok",
     "timestamp": 1605511201179,
     "user": {
      "displayName": "Yuxin JIANG",
      "photoUrl": "",
      "userId": "08237551511886881536"
     },
     "user_tz": -480
    },
    "id": "BVb-X2uj8nJC",
    "outputId": "d7ffbf87-85ea-48cd-a4bd-3fd17918b1b6"
   },
   "outputs": [
    {
     "name": "stdout",
     "output_type": "stream",
     "text": [
      "您看的电影是：[1401 'Ghosts of Mississippi (1996)' 'Drama']\n",
      "喜欢看这个电影的人是：[[4775 'M' 25 17]\n",
      " [4644 'M' 50 1]\n",
      " [155 'M' 35 12]\n",
      " [4043 'F' 25 15]\n",
      " [2501 'M' 25 15]\n",
      " [3959 'F' 45 1]\n",
      " [85 'M' 18 4]\n",
      " [2122 'M' 35 12]\n",
      " [5050 'F' 18 4]\n",
      " [3150 'F' 25 3]\n",
      " [3329 'M' 50 18]\n",
      " [5605 'F' 18 2]\n",
      " [4067 'M' 45 20]\n",
      " [3809 'M' 35 6]\n",
      " [5047 'M' 45 6]\n",
      " [2696 'M' 25 7]\n",
      " [1110 'F' 56 6]\n",
      " [2002 'F' 56 13]\n",
      " [4144 'M' 18 4]\n",
      " [2288 'M' 1 10]]\n",
      "喜欢看这个电影的人还喜欢看：\n",
      "900\n",
      "[912 'Casablanca (1942)' 'Drama|Romance|War']\n",
      "1073\n",
      "[1089 'Reservoir Dogs (1992)' 'Crime|Thriller']\n",
      "594\n",
      "[598 'Window to Paris (1994)' 'Comedy']\n",
      "1269\n",
      "[1289 'Koyaanisqatsi (1983)' 'Documentary|War']\n",
      "94\n",
      "[96 'In the Bleak Midwinter (1995)' 'Comedy']\n"
     ]
    },
    {
     "data": {
      "text/plain": [
       "{94, 594, 900, 1073, 1269}"
      ]
     },
     "execution_count": 50,
     "metadata": {
      "tags": []
     },
     "output_type": "execute_result"
    }
   ],
   "source": [
    "recommend_other_favorite_movie(1401, 20)"
   ]
  }
 ],
 "metadata": {
  "colab": {
   "collapsed_sections": [],
   "name": "BERT-based movie_recommender.ipynb",
   "provenance": [],
   "toc_visible": true
  },
  "kernelspec": {
   "display_name": "Python 3",
   "language": "python",
   "name": "python3"
  },
  "language_info": {
   "codemirror_mode": {
    "name": "ipython",
    "version": 3
   },
   "file_extension": ".py",
   "mimetype": "text/x-python",
   "name": "python",
   "nbconvert_exporter": "python",
   "pygments_lexer": "ipython3",
   "version": "3.7.9"
  },
  "toc": {
   "base_numbering": 1,
   "nav_menu": {},
   "number_sections": true,
   "sideBar": true,
   "skip_h1_title": false,
   "title_cell": "Table of Contents",
   "title_sidebar": "Contents",
   "toc_cell": false,
   "toc_position": {},
   "toc_section_display": true,
   "toc_window_display": false
  },
  "varInspector": {
   "cols": {
    "lenName": 16,
    "lenType": 16,
    "lenVar": 40
   },
   "kernels_config": {
    "python": {
     "delete_cmd_postfix": "",
     "delete_cmd_prefix": "del ",
     "library": "var_list.py",
     "varRefreshCmd": "print(var_dic_list())"
    },
    "r": {
     "delete_cmd_postfix": ") ",
     "delete_cmd_prefix": "rm(",
     "library": "var_list.r",
     "varRefreshCmd": "cat(var_dic_list()) "
    }
   },
   "types_to_exclude": [
    "module",
    "function",
    "builtin_function_or_method",
    "instance",
    "_Feature"
   ],
   "window_display": false
  },
  "widgets": {
   "application/vnd.jupyter.widget-state+json": {
    "070795ba80b34e2e8bfcc7cc84fdc6f1": {
     "model_module": "@jupyter-widgets/controls",
     "model_name": "FloatProgressModel",
     "state": {
      "_dom_classes": [],
      "_model_module": "@jupyter-widgets/controls",
      "_model_module_version": "1.5.0",
      "_model_name": "FloatProgressModel",
      "_view_count": null,
      "_view_module": "@jupyter-widgets/controls",
      "_view_module_version": "1.5.0",
      "_view_name": "ProgressView",
      "bar_style": "success",
      "description": "Downloading: 100%",
      "description_tooltip": null,
      "layout": "IPY_MODEL_0fad55bfb5054db9beda3e9706740290",
      "max": 433,
      "min": 0,
      "orientation": "horizontal",
      "style": "IPY_MODEL_67996e5c2f5e452882ba3b4f716b7ce0",
      "value": 433
     }
    },
    "094f0232621b47408ddf6cf42b20d2c6": {
     "model_module": "@jupyter-widgets/base",
     "model_name": "LayoutModel",
     "state": {
      "_model_module": "@jupyter-widgets/base",
      "_model_module_version": "1.2.0",
      "_model_name": "LayoutModel",
      "_view_count": null,
      "_view_module": "@jupyter-widgets/base",
      "_view_module_version": "1.2.0",
      "_view_name": "LayoutView",
      "align_content": null,
      "align_items": null,
      "align_self": null,
      "border": null,
      "bottom": null,
      "display": null,
      "flex": null,
      "flex_flow": null,
      "grid_area": null,
      "grid_auto_columns": null,
      "grid_auto_flow": null,
      "grid_auto_rows": null,
      "grid_column": null,
      "grid_gap": null,
      "grid_row": null,
      "grid_template_areas": null,
      "grid_template_columns": null,
      "grid_template_rows": null,
      "height": null,
      "justify_content": null,
      "justify_items": null,
      "left": null,
      "margin": null,
      "max_height": null,
      "max_width": null,
      "min_height": null,
      "min_width": null,
      "object_fit": null,
      "object_position": null,
      "order": null,
      "overflow": null,
      "overflow_x": null,
      "overflow_y": null,
      "padding": null,
      "right": null,
      "top": null,
      "visibility": null,
      "width": null
     }
    },
    "0d0e5981669b413e80712704aac40df6": {
     "model_module": "@jupyter-widgets/base",
     "model_name": "LayoutModel",
     "state": {
      "_model_module": "@jupyter-widgets/base",
      "_model_module_version": "1.2.0",
      "_model_name": "LayoutModel",
      "_view_count": null,
      "_view_module": "@jupyter-widgets/base",
      "_view_module_version": "1.2.0",
      "_view_name": "LayoutView",
      "align_content": null,
      "align_items": null,
      "align_self": null,
      "border": null,
      "bottom": null,
      "display": null,
      "flex": null,
      "flex_flow": null,
      "grid_area": null,
      "grid_auto_columns": null,
      "grid_auto_flow": null,
      "grid_auto_rows": null,
      "grid_column": null,
      "grid_gap": null,
      "grid_row": null,
      "grid_template_areas": null,
      "grid_template_columns": null,
      "grid_template_rows": null,
      "height": null,
      "justify_content": null,
      "justify_items": null,
      "left": null,
      "margin": null,
      "max_height": null,
      "max_width": null,
      "min_height": null,
      "min_width": null,
      "object_fit": null,
      "object_position": null,
      "order": null,
      "overflow": null,
      "overflow_x": null,
      "overflow_y": null,
      "padding": null,
      "right": null,
      "top": null,
      "visibility": null,
      "width": null
     }
    },
    "0fad55bfb5054db9beda3e9706740290": {
     "model_module": "@jupyter-widgets/base",
     "model_name": "LayoutModel",
     "state": {
      "_model_module": "@jupyter-widgets/base",
      "_model_module_version": "1.2.0",
      "_model_name": "LayoutModel",
      "_view_count": null,
      "_view_module": "@jupyter-widgets/base",
      "_view_module_version": "1.2.0",
      "_view_name": "LayoutView",
      "align_content": null,
      "align_items": null,
      "align_self": null,
      "border": null,
      "bottom": null,
      "display": null,
      "flex": null,
      "flex_flow": null,
      "grid_area": null,
      "grid_auto_columns": null,
      "grid_auto_flow": null,
      "grid_auto_rows": null,
      "grid_column": null,
      "grid_gap": null,
      "grid_row": null,
      "grid_template_areas": null,
      "grid_template_columns": null,
      "grid_template_rows": null,
      "height": null,
      "justify_content": null,
      "justify_items": null,
      "left": null,
      "margin": null,
      "max_height": null,
      "max_width": null,
      "min_height": null,
      "min_width": null,
      "object_fit": null,
      "object_position": null,
      "order": null,
      "overflow": null,
      "overflow_x": null,
      "overflow_y": null,
      "padding": null,
      "right": null,
      "top": null,
      "visibility": null,
      "width": null
     }
    },
    "1d22891a64d54aa8b513b2b0f7c7b1de": {
     "model_module": "@jupyter-widgets/controls",
     "model_name": "HTMLModel",
     "state": {
      "_dom_classes": [],
      "_model_module": "@jupyter-widgets/controls",
      "_model_module_version": "1.5.0",
      "_model_name": "HTMLModel",
      "_view_count": null,
      "_view_module": "@jupyter-widgets/controls",
      "_view_module_version": "1.5.0",
      "_view_name": "HTMLView",
      "description": "",
      "description_tooltip": null,
      "layout": "IPY_MODEL_bca663fa5bb44cb5bab7337a9edff9ba",
      "placeholder": "​",
      "style": "IPY_MODEL_316aa3b6500447a59d8e83449302db4e",
      "value": " 232k/232k [00:00&lt;00:00, 1.92MB/s]"
     }
    },
    "316aa3b6500447a59d8e83449302db4e": {
     "model_module": "@jupyter-widgets/controls",
     "model_name": "DescriptionStyleModel",
     "state": {
      "_model_module": "@jupyter-widgets/controls",
      "_model_module_version": "1.5.0",
      "_model_name": "DescriptionStyleModel",
      "_view_count": null,
      "_view_module": "@jupyter-widgets/base",
      "_view_module_version": "1.2.0",
      "_view_name": "StyleView",
      "description_width": ""
     }
    },
    "37c0d6c06d5b4335995f6f72b93552d7": {
     "model_module": "@jupyter-widgets/base",
     "model_name": "LayoutModel",
     "state": {
      "_model_module": "@jupyter-widgets/base",
      "_model_module_version": "1.2.0",
      "_model_name": "LayoutModel",
      "_view_count": null,
      "_view_module": "@jupyter-widgets/base",
      "_view_module_version": "1.2.0",
      "_view_name": "LayoutView",
      "align_content": null,
      "align_items": null,
      "align_self": null,
      "border": null,
      "bottom": null,
      "display": null,
      "flex": null,
      "flex_flow": null,
      "grid_area": null,
      "grid_auto_columns": null,
      "grid_auto_flow": null,
      "grid_auto_rows": null,
      "grid_column": null,
      "grid_gap": null,
      "grid_row": null,
      "grid_template_areas": null,
      "grid_template_columns": null,
      "grid_template_rows": null,
      "height": null,
      "justify_content": null,
      "justify_items": null,
      "left": null,
      "margin": null,
      "max_height": null,
      "max_width": null,
      "min_height": null,
      "min_width": null,
      "object_fit": null,
      "object_position": null,
      "order": null,
      "overflow": null,
      "overflow_x": null,
      "overflow_y": null,
      "padding": null,
      "right": null,
      "top": null,
      "visibility": null,
      "width": null
     }
    },
    "408810d8df5b4c47aebf8bcd54a6a6e5": {
     "model_module": "@jupyter-widgets/base",
     "model_name": "LayoutModel",
     "state": {
      "_model_module": "@jupyter-widgets/base",
      "_model_module_version": "1.2.0",
      "_model_name": "LayoutModel",
      "_view_count": null,
      "_view_module": "@jupyter-widgets/base",
      "_view_module_version": "1.2.0",
      "_view_name": "LayoutView",
      "align_content": null,
      "align_items": null,
      "align_self": null,
      "border": null,
      "bottom": null,
      "display": null,
      "flex": null,
      "flex_flow": null,
      "grid_area": null,
      "grid_auto_columns": null,
      "grid_auto_flow": null,
      "grid_auto_rows": null,
      "grid_column": null,
      "grid_gap": null,
      "grid_row": null,
      "grid_template_areas": null,
      "grid_template_columns": null,
      "grid_template_rows": null,
      "height": null,
      "justify_content": null,
      "justify_items": null,
      "left": null,
      "margin": null,
      "max_height": null,
      "max_width": null,
      "min_height": null,
      "min_width": null,
      "object_fit": null,
      "object_position": null,
      "order": null,
      "overflow": null,
      "overflow_x": null,
      "overflow_y": null,
      "padding": null,
      "right": null,
      "top": null,
      "visibility": null,
      "width": null
     }
    },
    "427e49fdfc9a4ac7bddcefe75229c580": {
     "model_module": "@jupyter-widgets/controls",
     "model_name": "FloatProgressModel",
     "state": {
      "_dom_classes": [],
      "_model_module": "@jupyter-widgets/controls",
      "_model_module_version": "1.5.0",
      "_model_name": "FloatProgressModel",
      "_view_count": null,
      "_view_module": "@jupyter-widgets/controls",
      "_view_module_version": "1.5.0",
      "_view_name": "ProgressView",
      "bar_style": "success",
      "description": "Downloading: 100%",
      "description_tooltip": null,
      "layout": "IPY_MODEL_094f0232621b47408ddf6cf42b20d2c6",
      "max": 231508,
      "min": 0,
      "orientation": "horizontal",
      "style": "IPY_MODEL_4e0c8de536974c26afe729920729e108",
      "value": 231508
     }
    },
    "4e0c8de536974c26afe729920729e108": {
     "model_module": "@jupyter-widgets/controls",
     "model_name": "ProgressStyleModel",
     "state": {
      "_model_module": "@jupyter-widgets/controls",
      "_model_module_version": "1.5.0",
      "_model_name": "ProgressStyleModel",
      "_view_count": null,
      "_view_module": "@jupyter-widgets/base",
      "_view_module_version": "1.2.0",
      "_view_name": "StyleView",
      "bar_color": null,
      "description_width": "initial"
     }
    },
    "55f2949c3bbc45d380f96120fde9cb0c": {
     "model_module": "@jupyter-widgets/controls",
     "model_name": "FloatProgressModel",
     "state": {
      "_dom_classes": [],
      "_model_module": "@jupyter-widgets/controls",
      "_model_module_version": "1.5.0",
      "_model_name": "FloatProgressModel",
      "_view_count": null,
      "_view_module": "@jupyter-widgets/controls",
      "_view_module_version": "1.5.0",
      "_view_name": "ProgressView",
      "bar_style": "success",
      "description": "Downloading: 100%",
      "description_tooltip": null,
      "layout": "IPY_MODEL_37c0d6c06d5b4335995f6f72b93552d7",
      "max": 440473133,
      "min": 0,
      "orientation": "horizontal",
      "style": "IPY_MODEL_b1d905aa87514c4195b4f55d5bd2e4d0",
      "value": 440473133
     }
    },
    "67996e5c2f5e452882ba3b4f716b7ce0": {
     "model_module": "@jupyter-widgets/controls",
     "model_name": "ProgressStyleModel",
     "state": {
      "_model_module": "@jupyter-widgets/controls",
      "_model_module_version": "1.5.0",
      "_model_name": "ProgressStyleModel",
      "_view_count": null,
      "_view_module": "@jupyter-widgets/base",
      "_view_module_version": "1.2.0",
      "_view_name": "StyleView",
      "bar_color": null,
      "description_width": "initial"
     }
    },
    "75b37f74df754bbbad269dbe0e77dcc5": {
     "model_module": "@jupyter-widgets/controls",
     "model_name": "DescriptionStyleModel",
     "state": {
      "_model_module": "@jupyter-widgets/controls",
      "_model_module_version": "1.5.0",
      "_model_name": "DescriptionStyleModel",
      "_view_count": null,
      "_view_module": "@jupyter-widgets/base",
      "_view_module_version": "1.2.0",
      "_view_name": "StyleView",
      "description_width": ""
     }
    },
    "80acd9370fbe4993b0f228c448904923": {
     "model_module": "@jupyter-widgets/controls",
     "model_name": "HBoxModel",
     "state": {
      "_dom_classes": [],
      "_model_module": "@jupyter-widgets/controls",
      "_model_module_version": "1.5.0",
      "_model_name": "HBoxModel",
      "_view_count": null,
      "_view_module": "@jupyter-widgets/controls",
      "_view_module_version": "1.5.0",
      "_view_name": "HBoxView",
      "box_style": "",
      "children": [
       "IPY_MODEL_070795ba80b34e2e8bfcc7cc84fdc6f1",
       "IPY_MODEL_9f30ae648ad247ed89bf88c2fd5b1a1d"
      ],
      "layout": "IPY_MODEL_0d0e5981669b413e80712704aac40df6"
     }
    },
    "8b81bd05377b423b92d210ee6026d215": {
     "model_module": "@jupyter-widgets/controls",
     "model_name": "HBoxModel",
     "state": {
      "_dom_classes": [],
      "_model_module": "@jupyter-widgets/controls",
      "_model_module_version": "1.5.0",
      "_model_name": "HBoxModel",
      "_view_count": null,
      "_view_module": "@jupyter-widgets/controls",
      "_view_module_version": "1.5.0",
      "_view_name": "HBoxView",
      "box_style": "",
      "children": [
       "IPY_MODEL_55f2949c3bbc45d380f96120fde9cb0c",
       "IPY_MODEL_c340f86e52204715a4169a2a6c02c9a4"
      ],
      "layout": "IPY_MODEL_afe11a55aec842fa8691a8a13771a06f"
     }
    },
    "98ef0c080aad443ea696c4aea9ff02c6": {
     "model_module": "@jupyter-widgets/controls",
     "model_name": "DescriptionStyleModel",
     "state": {
      "_model_module": "@jupyter-widgets/controls",
      "_model_module_version": "1.5.0",
      "_model_name": "DescriptionStyleModel",
      "_view_count": null,
      "_view_module": "@jupyter-widgets/base",
      "_view_module_version": "1.2.0",
      "_view_name": "StyleView",
      "description_width": ""
     }
    },
    "9f30ae648ad247ed89bf88c2fd5b1a1d": {
     "model_module": "@jupyter-widgets/controls",
     "model_name": "HTMLModel",
     "state": {
      "_dom_classes": [],
      "_model_module": "@jupyter-widgets/controls",
      "_model_module_version": "1.5.0",
      "_model_name": "HTMLModel",
      "_view_count": null,
      "_view_module": "@jupyter-widgets/controls",
      "_view_module_version": "1.5.0",
      "_view_name": "HTMLView",
      "description": "",
      "description_tooltip": null,
      "layout": "IPY_MODEL_408810d8df5b4c47aebf8bcd54a6a6e5",
      "placeholder": "​",
      "style": "IPY_MODEL_75b37f74df754bbbad269dbe0e77dcc5",
      "value": " 433/433 [00:00&lt;00:00, 993B/s]"
     }
    },
    "afe11a55aec842fa8691a8a13771a06f": {
     "model_module": "@jupyter-widgets/base",
     "model_name": "LayoutModel",
     "state": {
      "_model_module": "@jupyter-widgets/base",
      "_model_module_version": "1.2.0",
      "_model_name": "LayoutModel",
      "_view_count": null,
      "_view_module": "@jupyter-widgets/base",
      "_view_module_version": "1.2.0",
      "_view_name": "LayoutView",
      "align_content": null,
      "align_items": null,
      "align_self": null,
      "border": null,
      "bottom": null,
      "display": null,
      "flex": null,
      "flex_flow": null,
      "grid_area": null,
      "grid_auto_columns": null,
      "grid_auto_flow": null,
      "grid_auto_rows": null,
      "grid_column": null,
      "grid_gap": null,
      "grid_row": null,
      "grid_template_areas": null,
      "grid_template_columns": null,
      "grid_template_rows": null,
      "height": null,
      "justify_content": null,
      "justify_items": null,
      "left": null,
      "margin": null,
      "max_height": null,
      "max_width": null,
      "min_height": null,
      "min_width": null,
      "object_fit": null,
      "object_position": null,
      "order": null,
      "overflow": null,
      "overflow_x": null,
      "overflow_y": null,
      "padding": null,
      "right": null,
      "top": null,
      "visibility": null,
      "width": null
     }
    },
    "b1d905aa87514c4195b4f55d5bd2e4d0": {
     "model_module": "@jupyter-widgets/controls",
     "model_name": "ProgressStyleModel",
     "state": {
      "_model_module": "@jupyter-widgets/controls",
      "_model_module_version": "1.5.0",
      "_model_name": "ProgressStyleModel",
      "_view_count": null,
      "_view_module": "@jupyter-widgets/base",
      "_view_module_version": "1.2.0",
      "_view_name": "StyleView",
      "bar_color": null,
      "description_width": "initial"
     }
    },
    "b323f97c4ae84d79804664d498bec7ff": {
     "model_module": "@jupyter-widgets/base",
     "model_name": "LayoutModel",
     "state": {
      "_model_module": "@jupyter-widgets/base",
      "_model_module_version": "1.2.0",
      "_model_name": "LayoutModel",
      "_view_count": null,
      "_view_module": "@jupyter-widgets/base",
      "_view_module_version": "1.2.0",
      "_view_name": "LayoutView",
      "align_content": null,
      "align_items": null,
      "align_self": null,
      "border": null,
      "bottom": null,
      "display": null,
      "flex": null,
      "flex_flow": null,
      "grid_area": null,
      "grid_auto_columns": null,
      "grid_auto_flow": null,
      "grid_auto_rows": null,
      "grid_column": null,
      "grid_gap": null,
      "grid_row": null,
      "grid_template_areas": null,
      "grid_template_columns": null,
      "grid_template_rows": null,
      "height": null,
      "justify_content": null,
      "justify_items": null,
      "left": null,
      "margin": null,
      "max_height": null,
      "max_width": null,
      "min_height": null,
      "min_width": null,
      "object_fit": null,
      "object_position": null,
      "order": null,
      "overflow": null,
      "overflow_x": null,
      "overflow_y": null,
      "padding": null,
      "right": null,
      "top": null,
      "visibility": null,
      "width": null
     }
    },
    "bca663fa5bb44cb5bab7337a9edff9ba": {
     "model_module": "@jupyter-widgets/base",
     "model_name": "LayoutModel",
     "state": {
      "_model_module": "@jupyter-widgets/base",
      "_model_module_version": "1.2.0",
      "_model_name": "LayoutModel",
      "_view_count": null,
      "_view_module": "@jupyter-widgets/base",
      "_view_module_version": "1.2.0",
      "_view_name": "LayoutView",
      "align_content": null,
      "align_items": null,
      "align_self": null,
      "border": null,
      "bottom": null,
      "display": null,
      "flex": null,
      "flex_flow": null,
      "grid_area": null,
      "grid_auto_columns": null,
      "grid_auto_flow": null,
      "grid_auto_rows": null,
      "grid_column": null,
      "grid_gap": null,
      "grid_row": null,
      "grid_template_areas": null,
      "grid_template_columns": null,
      "grid_template_rows": null,
      "height": null,
      "justify_content": null,
      "justify_items": null,
      "left": null,
      "margin": null,
      "max_height": null,
      "max_width": null,
      "min_height": null,
      "min_width": null,
      "object_fit": null,
      "object_position": null,
      "order": null,
      "overflow": null,
      "overflow_x": null,
      "overflow_y": null,
      "padding": null,
      "right": null,
      "top": null,
      "visibility": null,
      "width": null
     }
    },
    "c340f86e52204715a4169a2a6c02c9a4": {
     "model_module": "@jupyter-widgets/controls",
     "model_name": "HTMLModel",
     "state": {
      "_dom_classes": [],
      "_model_module": "@jupyter-widgets/controls",
      "_model_module_version": "1.5.0",
      "_model_name": "HTMLModel",
      "_view_count": null,
      "_view_module": "@jupyter-widgets/controls",
      "_view_module_version": "1.5.0",
      "_view_name": "HTMLView",
      "description": "",
      "description_tooltip": null,
      "layout": "IPY_MODEL_b323f97c4ae84d79804664d498bec7ff",
      "placeholder": "​",
      "style": "IPY_MODEL_98ef0c080aad443ea696c4aea9ff02c6",
      "value": " 440M/440M [00:24&lt;00:00, 18.1MB/s]"
     }
    },
    "f613a44183e14483b61dce20310541af": {
     "model_module": "@jupyter-widgets/base",
     "model_name": "LayoutModel",
     "state": {
      "_model_module": "@jupyter-widgets/base",
      "_model_module_version": "1.2.0",
      "_model_name": "LayoutModel",
      "_view_count": null,
      "_view_module": "@jupyter-widgets/base",
      "_view_module_version": "1.2.0",
      "_view_name": "LayoutView",
      "align_content": null,
      "align_items": null,
      "align_self": null,
      "border": null,
      "bottom": null,
      "display": null,
      "flex": null,
      "flex_flow": null,
      "grid_area": null,
      "grid_auto_columns": null,
      "grid_auto_flow": null,
      "grid_auto_rows": null,
      "grid_column": null,
      "grid_gap": null,
      "grid_row": null,
      "grid_template_areas": null,
      "grid_template_columns": null,
      "grid_template_rows": null,
      "height": null,
      "justify_content": null,
      "justify_items": null,
      "left": null,
      "margin": null,
      "max_height": null,
      "max_width": null,
      "min_height": null,
      "min_width": null,
      "object_fit": null,
      "object_position": null,
      "order": null,
      "overflow": null,
      "overflow_x": null,
      "overflow_y": null,
      "padding": null,
      "right": null,
      "top": null,
      "visibility": null,
      "width": null
     }
    },
    "fd9cf9cb927446cab1c7d98154bac52e": {
     "model_module": "@jupyter-widgets/controls",
     "model_name": "HBoxModel",
     "state": {
      "_dom_classes": [],
      "_model_module": "@jupyter-widgets/controls",
      "_model_module_version": "1.5.0",
      "_model_name": "HBoxModel",
      "_view_count": null,
      "_view_module": "@jupyter-widgets/controls",
      "_view_module_version": "1.5.0",
      "_view_name": "HBoxView",
      "box_style": "",
      "children": [
       "IPY_MODEL_427e49fdfc9a4ac7bddcefe75229c580",
       "IPY_MODEL_1d22891a64d54aa8b513b2b0f7c7b1de"
      ],
      "layout": "IPY_MODEL_f613a44183e14483b61dce20310541af"
     }
    }
   }
  }
 },
 "nbformat": 4,
 "nbformat_minor": 1
}
